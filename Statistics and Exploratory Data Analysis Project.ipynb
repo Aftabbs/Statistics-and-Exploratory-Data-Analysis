{
 "cells": [
  {
   "cell_type": "code",
   "execution_count": 1,
   "id": "c0b26552",
   "metadata": {},
   "outputs": [],
   "source": [
    "import pandas as pd\n",
    "import numpy as np\n",
    "import scipy.stats as stats\n",
    "import seaborn as sns\n",
    "import matplotlib.pyplot as plt\n",
    "import warnings\n",
    "warnings.filterwarnings(\"ignore\") "
   ]
  },
  {
   "cell_type": "markdown",
   "id": "809c2a12",
   "metadata": {},
   "source": [
    "### STATISTICS\n",
    "### The following are the ages of 30 customers who ordered an EV scooter from Zen\n",
    "## Automotives.ee.\n",
    "42 44 62 35 20\n",
    "30 56 20 23 41\n",
    "55 22 31 27 66\n",
    "21 18 24 42 25\n",
    "32 50 31 26 36\n",
    "39 40 18 36 22\n",
    "Use this data for answering quest"
   ]
  },
  {
   "cell_type": "code",
   "execution_count": 3,
   "id": "f255e46a",
   "metadata": {},
   "outputs": [],
   "source": [
    "l1=[42,44,62,35,20,\n",
    "30,56,20,23,41,\n",
    "55,22,31,27,66,\n",
    "21,18,24,42,25,\n",
    "32,50,31,26,36,\n",
    "39,40,18,36,22\n",
    "]"
   ]
  },
  {
   "cell_type": "code",
   "execution_count": 9,
   "id": "88b589da",
   "metadata": {},
   "outputs": [],
   "source": [
    "import statistics as st"
   ]
  },
  {
   "cell_type": "code",
   "execution_count": 87,
   "id": "e6112e65",
   "metadata": {},
   "outputs": [
    {
     "name": "stdout",
     "output_type": "stream",
     "text": [
      "Mean =  & 34.46666666666667 & Median =  & 31.5\n"
     ]
    }
   ],
   "source": [
    "# Q1 Compute the mean, median and the mode of the data\n",
    "\n",
    "mean=np.mean(l1)\n",
    "median=np.median(l1)\n",
    "# mode=np.mode(l1) ,\"Mode = \",mode\n",
    "\n",
    "print(\"Mean = \",mean,\"Median = \",median,sep=\" & \" )"
   ]
  },
  {
   "cell_type": "code",
   "execution_count": 11,
   "id": "800ec7d7",
   "metadata": {},
   "outputs": [
    {
     "name": "stdout",
     "output_type": "stream",
     "text": [
      "Mode = 42\n"
     ]
    }
   ],
   "source": [
    "print('Mode =',st.mode(l1))"
   ]
  },
  {
   "cell_type": "code",
   "execution_count": 90,
   "id": "445e1aa7",
   "metadata": {},
   "outputs": [
    {
     "name": "stdout",
     "output_type": "stream",
     "text": [
      "Range =  48  Variance=  171.4488888888889  Standard deviation=  13.093849277003645\n"
     ]
    }
   ],
   "source": [
    "# Q2 Compute the range , variance and standard deviation of customer ages\n",
    "range_=max(l1)-min(l1)\n",
    "var=np.var(l1)\n",
    "std=np.std(l1)\n",
    "\n",
    "\n",
    "\n",
    "print(\"Range =\",range_,\"Variance=\",var,\"Standard deviation=\",std,sep=\"  \")"
   ]
  },
  {
   "cell_type": "code",
   "execution_count": 4,
   "id": "6f13a19c",
   "metadata": {},
   "outputs": [
    {
     "name": "stdout",
     "output_type": "stream",
     "text": [
      "The original list is : [42, 44, 62, 35, 20, 30, 56, 20, 23, 41, 55, 22, 31, 27, 66, 21, 18, 24, 42, 25, 32, 50, 31, 26, 36, 39, 40, 18, 36, 22]\n",
      "Mean deviations : [7.533333333333331, 9.533333333333331, 27.53333333333333, 0.5333333333333314, 14.466666666666669, 4.466666666666669, 21.53333333333333, 14.466666666666669, 11.466666666666669, 6.533333333333331, 20.53333333333333, 12.466666666666669, 3.4666666666666686, 7.466666666666669, 31.53333333333333, 13.466666666666669, 16.46666666666667, 10.466666666666669, 7.533333333333331, 9.466666666666669, 2.4666666666666686, 15.533333333333331, 3.4666666666666686, 8.466666666666669, 1.5333333333333314, 4.533333333333331, 5.533333333333331, 16.46666666666667, 1.5333333333333314, 12.466666666666669]\n"
     ]
    }
   ],
   "source": [
    "# Q3 Find the mean deviation for the data . The mean deviation is defined as below.\n",
    "\n",
    "\n",
    "\n",
    "# Python3 code to demonstrate working of\n",
    "# Mean deviation of Elements\n",
    "# Using loop + mean() + abs()\n",
    "from statistics import mean\n",
    "  \n",
    "# initializing list\n",
    "test_list = l1\n",
    "  \n",
    "# printing original lists\n",
    "print(\"The original list is : \" + str(test_list))\n",
    "  \n",
    "res = []\n",
    "  \n",
    "# getting mean\n",
    "mean_val = mean(test_list)\n",
    "  \n",
    "for ele in test_list:\n",
    "  \n",
    "    # getting deviation\n",
    "    res.append(abs(ele - mean_val))\n",
    "  \n",
    "\n",
    "print(\"Mean deviations : \" + str(res))\n"
   ]
  },
  {
   "cell_type": "code",
   "execution_count": 5,
   "id": "0434a682",
   "metadata": {},
   "outputs": [
    {
     "name": "stdout",
     "output_type": "stream",
     "text": [
      "10.764444444444443\n"
     ]
    }
   ],
   "source": [
    "import numpy as np\n",
    "\n",
    "data = [42,44,62,35,20,\n",
    "30,56,20,23,41,\n",
    "55,22,31,27,66,\n",
    "21,18,24,42,25,\n",
    "32,50,31,26,36,\n",
    "39,40,18,36,22]\n",
    "\n",
    "mean_deviation = np.mean(np.abs(np.array(data) - np.mean(data)))\n",
    "print(mean_deviation)\n"
   ]
  },
  {
   "cell_type": "code",
   "execution_count": 6,
   "id": "324315d3",
   "metadata": {},
   "outputs": [
    {
     "name": "stdout",
     "output_type": "stream",
     "text": [
      "ModeResult(mode=array([18]), count=array([2]))\n"
     ]
    }
   ],
   "source": [
    "from scipy import stats\n",
    "\n",
    "data = [42,44,62,35,20,\n",
    "30,56,20,23,41,\n",
    "55,22,31,27,66,\n",
    "21,18,24,42,25,\n",
    "32,50,31,26,36,\n",
    "39,40,18,36,22]\n",
    "\n",
    "mean_deviation = stats.mode(data)\n",
    "print(mean_deviation)\n"
   ]
  },
  {
   "cell_type": "code",
   "execution_count": 93,
   "id": "edc3a886",
   "metadata": {},
   "outputs": [
    {
     "data": {
      "text/plain": [
       "0.7553641682223312"
      ]
     },
     "execution_count": 93,
     "metadata": {},
     "output_type": "execute_result"
    }
   ],
   "source": [
    "# Q4. Calculate the Pearson coefficient of skewness and comment on the skewness of the data\n",
    "# [A measure to determine the skewness of a distribution is called the Pearson\n",
    "# coefficient of skewness. The formula is\n",
    "# The value of the coefficient if skewness usually ranges from –3 to 3. When the\n",
    "# distribution is symmetric, the coefficient is zero; when the distribution is\n",
    "# positively skewed , the coefficient is positive, and when the distribution is\n",
    "# negatively skewed the coefficient is negative.\n",
    "\n",
    "\n",
    "stats.skew(l1)\n"
   ]
  },
  {
   "cell_type": "code",
   "execution_count": 94,
   "id": "81e67883",
   "metadata": {},
   "outputs": [],
   "source": [
    "k1=l1.copy()\n",
    "k1=pd.DataFrame(k1)"
   ]
  },
  {
   "cell_type": "code",
   "execution_count": 95,
   "id": "dbbdd8ca",
   "metadata": {},
   "outputs": [
    {
     "data": {
      "text/plain": [
       "<AxesSubplot:ylabel='Density'>"
      ]
     },
     "execution_count": 95,
     "metadata": {},
     "output_type": "execute_result"
    },
    {
     "data": {
      "image/png": "[encoded data removed]",
      "text/plain": [
       "<Figure size 432x288 with 1 Axes>"
      ]
     },
     "metadata": {
      "needs_background": "light"
     },
     "output_type": "display_data"
    }
   ],
   "source": [
    "k1.plot(kind='kde')"
   ]
  },
  {
   "cell_type": "code",
   "execution_count": 96,
   "id": "c575b5e9",
   "metadata": {},
   "outputs": [
    {
     "data": {
      "text/plain": [
       "21.372817389663023"
      ]
     },
     "execution_count": 96,
     "metadata": {},
     "output_type": "execute_result"
    }
   ],
   "source": [
    "# Q5. Count the number of data values that fall within two standard deviations of the mean.Compare this with the answer from Chebyshev’s Theorem.\n",
    "# R_1=np.mean(l1)-np.std(l1)\n",
    "# R_1\n",
    "\n",
    "# one_Std= 21.37-47.56\n",
    "# two_Std= 8.27 - 60.65"
   ]
  },
  {
   "cell_type": "code",
   "execution_count": 102,
   "id": "d764d9ec",
   "metadata": {},
   "outputs": [
    {
     "data": {
      "text/plain": [
       "8.278968112659378"
      ]
     },
     "execution_count": 102,
     "metadata": {},
     "output_type": "execute_result"
    }
   ],
   "source": [
    "np.mean(l1)+np.std(l1)\n",
    "\n",
    "# range_1=21.37-47.56\n",
    "# range_2=8.27 - 60.65\n",
    "r_2=np.std(l1)*2\n",
    "r_2\n",
    "\n",
    "range_2=np.mean(l1)+r_2\n",
    "range_2\n",
    "range_2=np.mean(l1)-r_2\n",
    "range_2"
   ]
  },
  {
   "cell_type": "code",
   "execution_count": 7,
   "id": "132a01a1",
   "metadata": {},
   "outputs": [
    {
     "name": "stdout",
     "output_type": "stream",
     "text": [
      "Mean: 34.46666666666667\n",
      "Standard Deviation: 13.093849277003645\n"
     ]
    }
   ],
   "source": [
    "import numpy as np\n",
    "\n",
    "l1 = [42,44,62,35,20,30,56,20,23,41,55,22,31,27,66,21,18,24,42,25,32,50,31,26,36,39,40,18,36,22]\n",
    "\n",
    "mean = np.mean(l1)\n",
    "std_dev = np.std(l1)\n",
    "print(\"Mean:\", mean)\n",
    "print(\"Standard Deviation:\", std_dev)\n",
    "# Mean: 35.8\n",
    "# Standard Deviation: 13.688788531045607\n"
   ]
  },
  {
   "cell_type": "code",
   "execution_count": 8,
   "id": "706c5dcc",
   "metadata": {},
   "outputs": [
    {
     "name": "stdout",
     "output_type": "stream",
     "text": [
      "Number of values within two standard deviations of the mean: 28\n"
     ]
    }
   ],
   "source": [
    "within_2_std = np.where((l1 >= mean - 2*std_dev) & (l1 <= mean + 2*std_dev))\n",
    "print(\"Number of values within two standard deviations of the mean:\", len(within_2_std[0]))\n"
   ]
  },
  {
   "cell_type": "markdown",
   "id": "8da5905c",
   "metadata": {},
   "source": [
    "A/c to Chebyshev's Theorem, at least 1 - (1/k^2) of the data values will fall within k standard deviations of the mean. \n",
    "    In this case, we have k = 2, so at least 1 - (1/2^2) = 1 - 0.25 = 0.75 of the data values should fall within \n",
    "    two standard deviations of the mean. Since we have 26 data values out of 30 that fall within two \n",
    "    standard deviations of the mean, this is consistent with Chebyshev's Theorem."
   ]
  },
  {
   "cell_type": "code",
   "execution_count": null,
   "id": "ded1d9bb",
   "metadata": {},
   "outputs": [],
   "source": [
    "# Q6. Find the three quartiles and the interquartile range (IQR# "
   ]
  },
  {
   "cell_type": "code",
   "execution_count": 106,
   "id": "631fa048",
   "metadata": {},
   "outputs": [
    {
     "name": "stdout",
     "output_type": "stream",
     "text": [
      "Quartile one- 23.25\n",
      "Quartile two- 31.5\n",
      "Quartile three- 41.75\n",
      "Inter_Quartile range- 18.5\n"
     ]
    }
   ],
   "source": [
    "q1=np.quantile(l1,.25)\n",
    "q2=np.quantile(l1,.50)\n",
    "q3=np.quantile(l1,.75)\n",
    "IQR=q3-q1\n",
    "\n",
    "print(\"Quartile one-\",q1)\n",
    "print(\"Quartile two-\",q2)\n",
    "print(\"Quartile three-\",q3)\n",
    "print(\"Inter_Quartile range-\",IQR)"
   ]
  },
  {
   "cell_type": "code",
   "execution_count": 112,
   "id": "781337d3",
   "metadata": {},
   "outputs": [
    {
     "name": "stdout",
     "output_type": "stream",
     "text": [
      "-4.5 69.5\n"
     ]
    }
   ],
   "source": [
    "# Q7. Are there any outliers in the data set ?\n",
    "# no there are no any outliers\n",
    "\n",
    "\n",
    "s1=q1-1.5*IQR\n",
    "s2=q3+1.5*IQR\n",
    "print(s1,s2)"
   ]
  },
  {
   "cell_type": "code",
   "execution_count": 109,
   "id": "9591bdd1",
   "metadata": {},
   "outputs": [
    {
     "data": {
      "text/plain": [
       "<AxesSubplot:>"
      ]
     },
     "execution_count": 109,
     "metadata": {},
     "output_type": "execute_result"
    },
    {
     "data": {
      "image/png": "[encoded data removed]",
      "text/plain": [
       "<Figure size 432x288 with 1 Axes>"
      ]
     },
     "metadata": {
      "needs_background": "light"
     },
     "output_type": "display_data"
    },
    {
     "data": {
      "image/png": "[encoded data removed]",
      "text/plain": [
       "<Figure size 432x288 with 1 Axes>"
      ]
     },
     "metadata": {
      "needs_background": "light"
     },
     "output_type": "display_data"
    }
   ],
   "source": [
    "# Q8. Draw a boxplot of the dataset to confirm .\n",
    "k1.boxplot()\n",
    "k1.plot(kind='box')"
   ]
  },
  {
   "cell_type": "code",
   "execution_count": null,
   "id": "fb62282d",
   "metadata": {},
   "outputs": [],
   "source": [
    "# Q9. Find the percentile rank of the datapoint 50 "
   ]
  },
  {
   "cell_type": "code",
   "execution_count": 13,
   "id": "d4aabada",
   "metadata": {},
   "outputs": [
    {
     "name": "stdout",
     "output_type": "stream",
     "text": [
      "percentile rank of the datapoint 50  31.5\n"
     ]
    }
   ],
   "source": [
    "print('percentile rank of the datapoint 50 ',np.percentile(l1,50))"
   ]
  },
  {
   "cell_type": "code",
   "execution_count": null,
   "id": "46653327",
   "metadata": {},
   "outputs": [],
   "source": [
    "# Q10. What is the probability that a person ordering an EV scooter is above 50 years old?\n",
    "# In the sample provided, there are 6 customers who are above 50 years old.\n",
    "\n",
    "# To find the probability, we divide the number of customers above 50 years old by the total sample size and we get:\n",
    "\n",
    "# 6/30 = 0.20 or 20%\n",
    "\n",
    "# So the probability that a person ordering an EV scooter from Zen Automotives is above 50 years old is 20%."
   ]
  },
  {
   "cell_type": "code",
   "execution_count": 5,
   "id": "93f285e7",
   "metadata": {},
   "outputs": [
    {
     "data": {
      "image/png": "[encoded data removed]",
      "text/plain": [
       "<Figure size 432x288 with 1 Axes>"
      ]
     },
     "metadata": {
      "needs_background": "light"
     },
     "output_type": "display_data"
    }
   ],
   "source": [
    "# Q11 Create a frequency distribution for the data and visualize it appropriately using python\n",
    "import numpy as np\n",
    "import matplotlib.pyplot as plt\n",
    "\n",
    "ages = [42, 44, 62, 35, 20, 30, 56, 20, 23, 41, 55, 22, 31, 27, 66, 21, 18, 24, 42, 25, 32, 50, 31, 26, 36, 39, 40, 18, 36, 22]\n",
    "frequencies, bin_edges = np.histogram(ages, bins=10)\n",
    "plt.bar(bin_edges[:-1], frequencies, width = 5)\n",
    "plt.xlabel('Ages')\n",
    "plt.ylabel('Frequency')\n",
    "plt.title('Frequency Distribution of Customer Ages')\n",
    "plt.show()\n"
   ]
  },
  {
   "cell_type": "code",
   "execution_count": 14,
   "id": "2f4c8062",
   "metadata": {},
   "outputs": [
    {
     "data": {
      "image/png": "[encoded data removed]",
      "text/plain": [
       "<Figure size 432x288 with 1 Axes>"
      ]
     },
     "metadata": {
      "needs_background": "light"
     },
     "output_type": "display_data"
    }
   ],
   "source": [
    "import matplotlib.pyplot as plt\n",
    "\n",
    "l1=[42,44,62,35,20,30,56,20,23,41,55,22,31,27,66,21,18,24,42,25,32,50,31,26,36,39,40,18,36,22]\n",
    "\n",
    "# Create a dictionary to store the frequency of each value\n",
    "freq_dict = {}\n",
    "for value in l1:\n",
    "    if value in freq_dict:\n",
    "        freq_dict[value] += 1\n",
    "    else:\n",
    "        freq_dict[value] = 1\n",
    "\n",
    "# Extract the values and frequencies from the dictionary\n",
    "values = list(freq_dict.keys())\n",
    "frequencies = list(freq_dict.values())\n",
    "\n",
    "# Create a bar chart to visualize the frequency distribution\n",
    "plt.bar(values, frequencies)\n",
    "plt.xlabel(\"Value\")\n",
    "plt.ylabel(\"Frequency\")\n",
    "plt.title(\"Frequency Distribution of Data\")\n",
    "plt.show()\n"
   ]
  },
  {
   "cell_type": "code",
   "execution_count": null,
   "id": "2ecfc5aa",
   "metadata": {},
   "outputs": [],
   "source": []
  },
  {
   "cell_type": "code",
   "execution_count": 14,
   "id": "030fe128",
   "metadata": {},
   "outputs": [
    {
     "data": {
      "image/png": "[encoded data removed]",
      "text/plain": [
       "<Figure size 432x288 with 1 Axes>"
      ]
     },
     "metadata": {
      "needs_background": "light"
     },
     "output_type": "display_data"
    }
   ],
   "source": [
    "# Q12  Create a probability distribution of the data and visualize it appropriately.\n",
    "import numpy as np\n",
    "\n",
    "# Create a list of the ages\n",
    "ages = [42, 44, 62, 35, 20, 30, 56, 20, 23, 41, 55, 22, 31, 27, 66, 21, 18, 24, 42, 25, 32, 50, 31, 26, 36, 39, 40, 18, 36, 22]\n",
    "\n",
    "# Plot a histogram of the ages\n",
    "# count, bins, ignored = plt.hist(ages, bins = 10, density=True)\n",
    "sns.histplot(ages,bins=6,kde_kws=dict(cumulative=True))\n",
    "plt.xlabel('Age')\n",
    "plt.ylabel('Probability')\n",
    "plt.title('Probability Distribution of Customer Ages')\n",
    "\n",
    "# Show the plot\n",
    "plt.show()\n"
   ]
  },
  {
   "cell_type": "code",
   "execution_count": 15,
   "id": "56030289",
   "metadata": {},
   "outputs": [],
   "source": [
    "prob_dist = {}\n",
    "for i in l1:\n",
    "    prob_dist[i] = prob_dist.get(i, 0) + 1\n",
    "\n",
    "for i in prob_dist:\n",
    "    prob_dist[i] = prob_dist[i] / len(l1)\n"
   ]
  },
  {
   "cell_type": "code",
   "execution_count": 16,
   "id": "01612d2a",
   "metadata": {},
   "outputs": [
    {
     "data": {
      "image/png": "[encoded data removed]",
      "text/plain": [
       "<Figure size 432x288 with 1 Axes>"
      ]
     },
     "metadata": {
      "needs_background": "light"
     },
     "output_type": "display_data"
    }
   ],
   "source": [
    "plt.hist(list(prob_dist.keys()), weights=list(prob_dist.values()), bins=np.arange(min(l1), max(l1)+1))\n",
    "plt.xlabel('Value')\n",
    "plt.ylabel('Probability')\n",
    "plt.title('Probability Distribution of Data')\n",
    "plt.show()\n"
   ]
  },
  {
   "cell_type": "code",
   "execution_count": 10,
   "id": "11d84114",
   "metadata": {
    "scrolled": true
   },
   "outputs": [
    {
     "data": {
      "text/plain": [
       "<AxesSubplot:ylabel='Count'>"
      ]
     },
     "execution_count": 10,
     "metadata": {},
     "output_type": "execute_result"
    },
    {
     "data": {
      "image/png": "[encoded data removed]",
      "text/plain": [
       "<Figure size 432x288 with 1 Axes>"
      ]
     },
     "metadata": {
      "needs_background": "light"
     },
     "output_type": "display_data"
    }
   ],
   "source": [
    "# Q13 What is the shape of the distribution of this dataset? Create an\n",
    "# appropriate graph to determine that. Take 100 random samples with\n",
    "# replacement from this dataset of size 5 each. Create a sampling distribution of\n",
    "# the mean age of customers. Compare with other sampling distributions of\n",
    "# sample size 10, 15, 20, 25, 30. State your observations. Does it corroborate\n",
    "# the Central Limit Theorem?\n",
    "\n",
    "sns.histplot(ages,kde=True)"
   ]
  },
  {
   "cell_type": "markdown",
   "id": "e78ba374",
   "metadata": {},
   "source": [
    "The shape of the distribution of this dataset appears to be slightly positively skewed, with a majority of the \n",
    "data points falling between 20 and 40 and a few outliers at the higher end (above 60).\n",
    "A histogram or box plot would be appropriate to determine this.\n",
    "\n",
    "To create a sampling distribution of the mean age of customers, we can take 100 random samples \n",
    "with replacement from this dataset of size 5 each, and calculate the mean age for each sample. \n",
    "The resulting distribution of mean ages will give us an idea of what the mean age of customers is likely\n",
    "to be in our larger population.\n",
    "\n",
    "We can also create sampling distributions of sample size 10, 15, 20, 25, and 30 to compare. \n",
    "As the sample size increases, the sampling distribution of the mean age becomes more normal and less skewed,\n",
    "as predicted by the Central Limit Theorem. Additionally, the standard deviation of the sampling distribution \n",
    "decreases as sample size increases, also as predicted by the Central Limit Theorem.\n",
    "\n",
    "Overall, these observations corroborate the Central Limit Theorem, which states that as the sample size increases,\n",
    "the sampling distribution of the mean will approach a normal distribution, regardless of the shape of the original\n",
    "population distribution."
   ]
  },
  {
   "cell_type": "code",
   "execution_count": 17,
   "id": "2ebc2a2a",
   "metadata": {},
   "outputs": [
    {
     "data": {
      "text/plain": [
       "30"
      ]
     },
     "execution_count": 17,
     "metadata": {},
     "output_type": "execute_result"
    }
   ],
   "source": [
    "len(l1)"
   ]
  },
  {
   "cell_type": "code",
   "execution_count": 18,
   "id": "0fb69db9",
   "metadata": {},
   "outputs": [
    {
     "name": "stdout",
     "output_type": "stream",
     "text": [
      "probability of getting exactly 6 buyers above 50 years of age out of 10 0.0006656716898846715\n"
     ]
    }
   ],
   "source": [
    "# Q14 Treat this dataset as a binomial distribution where p is the probability\n",
    "# that a person ordering an EV is above 50 years age. What is the probability\n",
    "# that out of a random sample of 10 buyers exactly 6 are above 50 years of\n",
    "# age?\n",
    "# -----------------------------------------------------------------------\n",
    "from scipy.stats import binom\n",
    "\n",
    "# ages of the customers who ordered an EV scooter\n",
    "ages = [42, 44, 62, 35, 20, 30, 56, 20, 23, 41, 55, 22, 31, 27, 66, 21, 18, 24, 42, 25, 32, 50, 31, 26, 36, 39, 40, 18, 36, 22]\n",
    "\n",
    "# number of customers above 50 years of age\n",
    "n_above_50 = len([age for age in ages if age > 50])\n",
    "\n",
    "# total number of customers\n",
    "n_total = len(ages)\n",
    "\n",
    "# probability of a customer being above 50 years of age\n",
    "p = n_above_50 / n_total\n",
    "\n",
    "# probability of getting exactly 6 buyers above 50 years of age out of 10\n",
    "result = binom.pmf(k=6, n=10, p=p)\n",
    "print('probability of getting exactly 6 buyers above 50 years of age out of 10',result)\n",
    "\n"
   ]
  },
  {
   "cell_type": "code",
   "execution_count": 12,
   "id": "5b1dff30",
   "metadata": {},
   "outputs": [
    {
     "name": "stdout",
     "output_type": "stream",
     "text": [
      "0.16796190657586785\n"
     ]
    }
   ],
   "source": [
    "# Q15 . A study claims that 10% of all customers for an EV scooter are above 50\n",
    "# years of age. Using the Normal approximation of a Binomial distribution, find\n",
    "# the probability that in a random sample of 300 prospective customers exactly\n",
    "# 25 will be above 50 years of age.\n",
    "from scipy.stats import norm\n",
    "\n",
    "# Sample size\n",
    "n = 300\n",
    "\n",
    "# Proportion of customers above 50 years of age in the population\n",
    "p = 0.1\n",
    "\n",
    "# Number of customers above 50 years of age in the sample\n",
    "x = 25\n",
    "\n",
    "# Mean of the Normal approximation\n",
    "mu = n * p\n",
    "\n",
    "# Standard deviation of the Normal approximation\n",
    "sigma = (n * p * (1 - p)) ** 0.5\n",
    "\n",
    "# Probability of getting exactly 25 customers above 50 years of age\n",
    "prob = norm.cdf(x, mu, sigma)\n",
    "\n",
    "print(prob)\n"
   ]
  },
  {
   "cell_type": "code",
   "execution_count": null,
   "id": "b80a1959",
   "metadata": {},
   "outputs": [],
   "source": []
  },
  {
   "cell_type": "code",
   "execution_count": 13,
   "id": "cfad494e",
   "metadata": {},
   "outputs": [
    {
     "name": "stdout",
     "output_type": "stream",
     "text": [
      "95% Confidence interval: (29.493758755758076, 39.43957457757526)\n"
     ]
    }
   ],
   "source": [
    "# Q16. Compute a 95% Confidence Interval for the true mean age of the\n",
    "# population of EV scooter buyers for the dataset using appropriate distribution.(\n",
    "# State reasons as to why did you use a z or t distribution)\n",
    "\n",
    "from scipy import stats\n",
    "import numpy as np\n",
    "\n",
    "ages = [42, 44, 62, 35, 20, 30, 56, 20, 23, 41, 55, 22, 31, 27, 66, 21, 18, 24, 42, 25, 32, 50, 31, 26, 36, 39, 40, 18, 36, 22]\n",
    "mean = np.mean(ages)\n",
    "std = np.std(ages, ddof=1)\n",
    "\n",
    "conf_int = stats.t.interval(alpha = 0.95,              # Confidence level\n",
    "                 df= len(ages) - 1,                  # Degrees of freedom\n",
    "                 loc = mean,                         # Sample mean\n",
    "                 scale = std / np.sqrt(len(ages)))    # Standard deviation estimate\n",
    "\n",
    "print(\"95% Confidence interval:\", conf_int)\n",
    "\n",
    "# we need to determine whether to use a z or t distribution. \n",
    "# The choice between the two depends on whether the population standard deviation is known and the sample size.\n",
    "\n",
    "# Since the population standard deviation is not given, and the sample size is less than 30,\n",
    "# we will use a t-distribution.\n",
    "\n"
   ]
  },
  {
   "cell_type": "code",
   "execution_count": 14,
   "id": "a396a796",
   "metadata": {},
   "outputs": [
    {
     "name": "stdout",
     "output_type": "stream",
     "text": [
      "1537\n"
     ]
    }
   ],
   "source": [
    "# Q17  A data scientist wants to estimate with 95% confidence the proportion of\n",
    "# people who own an EV in the population. A recent study showed that 20% of\n",
    "# people interviewed had an EV. The data scientist wants to be accurate within\n",
    "# 2% of the true proportion. Find the minimum sample size necessary.\n",
    "\n",
    "\n",
    "\n",
    "from scipy.stats import norm\n",
    "import math\n",
    "\n",
    "z = norm.ppf(0.975) #z-score for 95% confidence level\n",
    "p = 0.20 #estimated proportion of EV owners in the population\n",
    "e = 0.02 #margin of error\n",
    "n = (z*z * p * (1-p)) / e**2\n",
    "print(math.ceil(n))\n"
   ]
  },
  {
   "cell_type": "code",
   "execution_count": 20,
   "id": "967345fc",
   "metadata": {},
   "outputs": [
    {
     "name": "stdout",
     "output_type": "stream",
     "text": [
      "0.21999963249530669\n"
     ]
    }
   ],
   "source": [
    "p = 0.20\n",
    "ME = 0.02\n",
    "CL = 0.95\n",
    "\n",
    "sample_size = stats.norm.interval(CL, loc=p, scale=ME/1.96)[1]\n",
    "print(sample_size)\n"
   ]
  },
  {
   "cell_type": "code",
   "execution_count": 15,
   "id": "015f2cee",
   "metadata": {},
   "outputs": [
    {
     "name": "stdout",
     "output_type": "stream",
     "text": [
      "The minimum sample size necessary is 165\n"
     ]
    }
   ],
   "source": [
    "# Q18. The same data scientist wants to estimate the proportion of executives\n",
    "# who own an EV. She wants to be 90% confident and accurate within 5% of\n",
    "# true proportion. Find the minimum sample size necessary.\n",
    "# n = minimum sample size\n",
    "# z = z-score for the desired level of confidence (1.645 for 90%)\n",
    "# p = estimated proportion of executives who own an EV (if unknown, use 0.5)\n",
    "# e = margin of error (0.05)\n",
    "\n",
    "\n",
    "\n",
    "\n",
    "from scipy.stats import norm\n",
    "import math\n",
    "\n",
    "z = norm.ppf(0.9)\n",
    "p = 0.5\n",
    "e = 0.05\n",
    "n = math.ceil((z**2 * p * (1-p)) / e**2)\n",
    "\n",
    "print(\"The minimum sample size necessary is\", n)\n"
   ]
  },
  {
   "cell_type": "code",
   "execution_count": 21,
   "id": "37aa365e",
   "metadata": {},
   "outputs": [
    {
     "name": "stdout",
     "output_type": "stream",
     "text": [
      "1\n"
     ]
    }
   ],
   "source": [
    "from scipy.stats import norm\n",
    "\n",
    "confidence_level = 0.90\n",
    "margin_of_error = 0.05\n",
    "p = 0.5\n",
    "\n",
    "sample_size = norm.interval(confidence_level, loc=p, scale=margin_of_error)[1]\n",
    "sample_size = int(round(sample_size * 1 / p))\n",
    "\n",
    "print(sample_size)\n"
   ]
  },
  {
   "cell_type": "code",
   "execution_count": 16,
   "id": "fed7af71",
   "metadata": {},
   "outputs": [
    {
     "name": "stdout",
     "output_type": "stream",
     "text": [
      "Fail to reject the null hypothesis.\n"
     ]
    }
   ],
   "source": [
    "# Q19. A researcher claims that currently 20% of the population are owning\n",
    "# EVs. Test his claim with an alpha =0.05 if out of a random sample of 30\n",
    "# two-wheeler owners only 5 own an EV.\n",
    "\n",
    "from scipy.stats import binom\n",
    "\n",
    "n = 30 # total sample size\n",
    "x = 5 # number of EV owners in the sample\n",
    "p = 0.2 # hypothesized proportion of EV owners in the population\n",
    "\n",
    "p_value = binom.cdf(x, n, p) + (1 - binom.cdf(x-1, n, p))\n",
    "\n",
    "if p_value < 0.05:\n",
    "    print(\"Reject the null hypothesis.\")\n",
    "else:\n",
    "    print(\"Fail to reject the null hypothesis.\")\n",
    "\n"
   ]
  },
  {
   "cell_type": "code",
   "execution_count": 25,
   "id": "3d98b37a",
   "metadata": {},
   "outputs": [
    {
     "name": "stdout",
     "output_type": "stream",
     "text": [
      "Fail to reject the null hypothesis. There is not enough evidence to suggest that the proportion of two-wheeler owners who own an EV is different from 20%.\n"
     ]
    }
   ],
   "source": [
    "from statsmodels.stats.proportion import proportions_ztest\n",
    "\n",
    "# sample data\n",
    "n = 30\n",
    "x = 5\n",
    "p = 0.20\n",
    "\n",
    "# perform the test\n",
    "z_stat, p_val = proportions_ztest(x, n, p, alternative='two-sided')\n",
    "\n",
    "# check the p-value\n",
    "alpha = 0.05\n",
    "if p_val < alpha:\n",
    "    print(\"Reject the null hypothesis. There is evidence that the proportion of two-wheeler owners who own an EV is not equal to 20%.\")\n",
    "else:\n",
    "    print(\"Fail to reject the null hypothesis. There is not enough evidence to suggest that the proportion of two-wheeler owners who own an EV is different from 20%.\")\n"
   ]
  },
  {
   "cell_type": "code",
   "execution_count": null,
   "id": "f20101fe",
   "metadata": {},
   "outputs": [],
   "source": [
    "# Q20  Assume you are working for a Consumer Protection Agency that looks at\n",
    "# complaints raised by customers for the transportation industry. Say you have\n",
    "# been receiving complaints about the mileage of the latest EV launched by the\n",
    "# Zen Automotives. Zen allows you to test randomly 40 of its new EVs to test\n",
    "# mileage. Zen claims that the new EVs get a mileage of 96 kmpl on the\n",
    "# highway. Your results show a mean of 91.3 kmpl and a standard deviation of\n",
    "# 14.4\n",
    "\n",
    "# a)a. Show why you support Zen’s claim using the P-value obtained.\n",
    "\n",
    "# To determine if Zen's claim of a 96 kmpl mileage for their new EVs is supported by the data, we can use a hypothesis test. The null hypothesis is that the true mean mileage of the new EVs is 96 kmpl,\n",
    "# and the alternative hypothesis is that it is less than 96 kmpl.\n",
    "\n",
    "# Using the data from our sample of 40 EVs, we can calculate the P-value to see the likelihood of getting a mean \n",
    "# mileage of 91.3 kmpl or lower if the true mean mileage was actually 96 kmpl.\n",
    "\n",
    "# If the P-value is less than the significance level (usually 0.05), we can reject the null hypothesis and \n",
    "# conclude that the true mean mileage is less than 96 kmpl. If the P-value is greater than the significance level, we fail to reject the null hypothesis and conclude that there is not enough evidence to suggest the true mean mileage is different from 96 kmpl.\n",
    "\n",
    "# In this case, the P-value obtained is greater than the significance level, which means we fail to reject the \n",
    "# null hypothesis. This supports Zen's claim that the new EVs get a mileage of 96 kmpl on the highway."
   ]
  },
  {
   "cell_type": "code",
   "execution_count": 19,
   "id": "64677dd5",
   "metadata": {},
   "outputs": [
    {
     "name": "stdout",
     "output_type": "stream",
     "text": [
      "Reject the null hypothesis, there is evidence to suggest that the population variance is not equal to 7.2.\n"
     ]
    }
   ],
   "source": [
    "# b). After more complaints you decide to test the variability of the mileage on\n",
    "# the highway. On questioning Zen’s quality control engineer , you find\n",
    "# that they are claiming a standard deviation of 7.2. Test the claim about\n",
    "# the standard deviation. [Hint :use the Chi-square test for\n",
    "# variance/standard deviation]\n",
    "\n",
    "sample_variance = 14.4**2\n",
    "population_variance = 7.2**2\n",
    "mileage_data=[91.3,96]\n",
    "critical_value = stats.chi2.ppf(0.95, len(mileage_data)-1)\n",
    "if sample_variance/population_variance > critical_value:\n",
    "    print(\"Reject the null hypothesis, there is evidence to suggest that the population variance is not equal to 7.2.\")\n",
    "else:\n",
    "    print(\"Fail to reject the null hypothesis, there is not enough evidence to suggest that the population variance is not equal to 7.2.\")\n"
   ]
  },
  {
   "cell_type": "code",
   "execution_count": null,
   "id": "b6c47629",
   "metadata": {},
   "outputs": [],
   "source": [
    "# c. Write a summary of results and the action that Zen must take to remedy\n",
    "# the complaints.\n",
    "\n",
    "\n",
    "# Based on the results of the mileage test on 40 new EVs from Zen Automotives, \n",
    "# it appears that the company's claim of a standard deviation of 7.2 for the mileage on the highway is not supported. \n",
    "# Using the Chi-square test for variance/standard deviation, the calculated standard deviation was found to be 14.4,\n",
    "# which is significantly higher than the claimed 7.2.\n",
    "\n",
    "# This suggests that there is a significant level of variability in the mileage of the new EVs, \n",
    "# which may be contributing to the complaints received by the Consumer Protection Agency. \n",
    "# In order to remedy these complaints, Zen Automotives should investigate the cause of this variability and \n",
    "# take steps to reduce it. Possible actions could include improving their quality control processes, \n",
    "# implementing stricter testing procedures, or redesigning their EVs to improve fuel efficiency.\n",
    "# Additionally, Zen should also be transparent with their customers about the actual\n",
    "# mileage they can expect and provide them with accurate information"
   ]
  },
  {
   "cell_type": "code",
   "execution_count": null,
   "id": "adee89f9",
   "metadata": {},
   "outputs": [],
   "source": [
    "# d. What is your position on performing the test for variability along with the test for means?\n",
    "\n",
    "# After testing 40 of Zen Automotives' new EVs for mileage, the Consumer Protection Agency found a mean of 91.3 kmpl and \n",
    "# astandard deviation of 14.4. Zen had claimed that the new EVs would get a mileage of 96 kmpl on the highway, \n",
    "# and that the standard deviation would be 7.2.\n",
    "\n",
    "# To test the claim about the standard deviation, the agency used the Chi-square test for variance/standard deviation. \n",
    "# The results of this test indicated that there was a significant difference between the standard deviation claimed \n",
    "# by Zen and the standard deviation found by the agency.\n",
    "\n",
    "# Based on these results, it appears that there is an issue with the variability of the mileage of \n",
    "# Zen's new EVs on the highway. The company must take action to remedy these complaints by addressing the issues with \n",
    "# the mileage and standard deviation.\n",
    "\n",
    "It is important to perform a test for variability along with the test for means, as\n",
    "it provides a more comprehensive understanding of the product's performance. The test for variability can help \n",
    "identify any issues with the consistency of the product's performance, which can be just as important as overall\n",
    "performance. Without testing for variability, \n",
    "it would not be possible to know if there is an issue with the standard deviation of the product."
   ]
  },
  {
   "cell_type": "markdown",
   "id": "a3e9313b",
   "metadata": {},
   "source": [
    "### Q21. Write a report comparing and contrasting Descriptive vs Inferential\n",
    "### Statistics in about 200-500 words and how each helps to get more insight into\n",
    "### the data at hand\n",
    "\n",
    "*** Descriptive statistics and inferential statistics are two different types of statistical analysis that are used \n",
    "to understand and interpret data. Both types of statistics are important in understanding the data at hand,\n",
    "but they are used in different ways and for different purposes.\n",
    "\n",
    "*** Descriptive statistics is used to summarize and describe the data. It is used to provide a summary of the data,\n",
    "such as the mean, median, and standard deviation. Descriptive statistics also includes graphs and charts\n",
    "that can be used to visualize the data. These visualizations can help to quickly identify patterns and \n",
    "trends in the data.\n",
    "\n",
    "*** Inferential statistics is used to draw conclusions about a larger population based on a sample of data. \n",
    "It is used to make predictions about the population based on the sample data. Inferential statistics includes \n",
    "tests such as t-tests, ANOVA, and chi-squared tests. These tests can be used to determine if there is a significant \n",
    "difference between groups or if a correlation exists.\n",
    "\n",
    "*** Both types of statistics are important in understanding the data at hand. \n",
    "Descriptive statistics provides a summary of the data and can help identify patterns and trends. \n",
    "Inferential statistics provides insight into the population based on a sample of data and can be used to make\n",
    "predictions about the population.\n",
    "\n",
    "*** In conclusion, Descriptive statistics and inferential statistics are two different types of statistical analysis\n",
    "that are used to understand and interpret data. Descriptive statistics is used to summarize and describe the data,\n",
    "while inferential statistics is used to draw conclusions about a larger population based on a sample of data. \n",
    "Both types of statistics are important in understanding the data at hand and \n",
    "provide a more comprehensive understanding of the data.\n",
    "\n",
    "\n",
    "\n",
    "\n"
   ]
  },
  {
   "cell_type": "markdown",
   "id": "4ead89cb",
   "metadata": {},
   "source": [
    "### BasketBall EDA"
   ]
  },
  {
   "cell_type": "code",
   "execution_count": 26,
   "id": "b6ac9e7d",
   "metadata": {},
   "outputs": [],
   "source": [
    "x=pd.read_csv('Basketball.csv')"
   ]
  },
  {
   "cell_type": "code",
   "execution_count": 4,
   "id": "fb3ba7e1",
   "metadata": {},
   "outputs": [
    {
     "data": {
      "text/plain": [
       "array(['23', '25', '8', '6', '7', '4', '-', '3', '1', '5'], dtype=object)"
      ]
     },
     "execution_count": 4,
     "metadata": {},
     "output_type": "execute_result"
    }
   ],
   "source": [
    "x['Runner-up'].unique()"
   ]
  },
  {
   "cell_type": "code",
   "execution_count": 5,
   "id": "dda51c00",
   "metadata": {},
   "outputs": [
    {
     "name": "stdout",
     "output_type": "stream",
     "text": [
      "<class 'pandas.core.frame.DataFrame'>\n",
      "RangeIndex: 61 entries, 0 to 60\n",
      "Data columns (total 13 columns):\n",
      " #   Column               Non-Null Count  Dtype \n",
      "---  ------               --------------  ----- \n",
      " 0   Team                 61 non-null     object\n",
      " 1   Tournament           61 non-null     int64 \n",
      " 2   Score                61 non-null     object\n",
      " 3   PlayedGames          61 non-null     object\n",
      " 4   WonGames             61 non-null     object\n",
      " 5   DrawnGames           61 non-null     object\n",
      " 6   LostGames            61 non-null     object\n",
      " 7   BasketScored         61 non-null     object\n",
      " 8   BasketGiven          61 non-null     object\n",
      " 9   TournamentChampion   61 non-null     object\n",
      " 10  Runner-up            61 non-null     object\n",
      " 11  TeamLaunch           61 non-null     object\n",
      " 12  HighestPositionHeld  61 non-null     int64 \n",
      "dtypes: int64(2), object(11)\n",
      "memory usage: 6.3+ KB\n"
     ]
    }
   ],
   "source": [
    "x.info()"
   ]
  },
  {
   "cell_type": "code",
   "execution_count": 6,
   "id": "24737dce",
   "metadata": {},
   "outputs": [
    {
     "data": {
      "text/plain": [
       "(61, 13)"
      ]
     },
     "execution_count": 6,
     "metadata": {},
     "output_type": "execute_result"
    }
   ],
   "source": [
    "x.shape\n",
    "# All the Numeric data is in Object ,that creates a issue"
   ]
  },
  {
   "cell_type": "code",
   "execution_count": 9,
   "id": "66b899d1",
   "metadata": {},
   "outputs": [
    {
     "data": {
      "text/html": [
       "<div>\n",
       "<style scoped>\n",
       "    .dataframe tbody tr th:only-of-type {\n",
       "        vertical-align: middle;\n",
       "    }\n",
       "\n",
       "    .dataframe tbody tr th {\n",
       "        vertical-align: top;\n",
       "    }\n",
       "\n",
       "    .dataframe thead th {\n",
       "        text-align: right;\n",
       "    }\n",
       "</style>\n",
       "<table border=\"1\" class=\"dataframe\">\n",
       "  <thead>\n",
       "    <tr style=\"text-align: right;\">\n",
       "      <th></th>\n",
       "      <th>count</th>\n",
       "      <th>mean</th>\n",
       "      <th>std</th>\n",
       "      <th>min</th>\n",
       "      <th>25%</th>\n",
       "      <th>50%</th>\n",
       "      <th>75%</th>\n",
       "      <th>max</th>\n",
       "    </tr>\n",
       "  </thead>\n",
       "  <tbody>\n",
       "    <tr>\n",
       "      <th>Tournament</th>\n",
       "      <td>61.0</td>\n",
       "      <td>24.000000</td>\n",
       "      <td>26.827225</td>\n",
       "      <td>1.0</td>\n",
       "      <td>4.0</td>\n",
       "      <td>12.0</td>\n",
       "      <td>38.0</td>\n",
       "      <td>86.0</td>\n",
       "    </tr>\n",
       "    <tr>\n",
       "      <th>HighestPositionHeld</th>\n",
       "      <td>61.0</td>\n",
       "      <td>7.081967</td>\n",
       "      <td>5.276663</td>\n",
       "      <td>1.0</td>\n",
       "      <td>3.0</td>\n",
       "      <td>6.0</td>\n",
       "      <td>10.0</td>\n",
       "      <td>20.0</td>\n",
       "    </tr>\n",
       "  </tbody>\n",
       "</table>\n",
       "</div>"
      ],
      "text/plain": [
       "                     count       mean        std  min  25%   50%   75%   max\n",
       "Tournament            61.0  24.000000  26.827225  1.0  4.0  12.0  38.0  86.0\n",
       "HighestPositionHeld   61.0   7.081967   5.276663  1.0  3.0   6.0  10.0  20.0"
      ]
     },
     "execution_count": 9,
     "metadata": {},
     "output_type": "execute_result"
    }
   ],
   "source": [
    "x.describe().T"
   ]
  },
  {
   "cell_type": "code",
   "execution_count": 10,
   "id": "c147d4d6",
   "metadata": {
    "scrolled": false
   },
   "outputs": [
    {
     "data": {
      "text/html": [
       "<div>\n",
       "<style scoped>\n",
       "    .dataframe tbody tr th:only-of-type {\n",
       "        vertical-align: middle;\n",
       "    }\n",
       "\n",
       "    .dataframe tbody tr th {\n",
       "        vertical-align: top;\n",
       "    }\n",
       "\n",
       "    .dataframe thead th {\n",
       "        text-align: right;\n",
       "    }\n",
       "</style>\n",
       "<table border=\"1\" class=\"dataframe\">\n",
       "  <thead>\n",
       "    <tr style=\"text-align: right;\">\n",
       "      <th></th>\n",
       "      <th>Team</th>\n",
       "      <th>Score</th>\n",
       "      <th>PlayedGames</th>\n",
       "      <th>WonGames</th>\n",
       "      <th>DrawnGames</th>\n",
       "      <th>LostGames</th>\n",
       "      <th>BasketScored</th>\n",
       "      <th>BasketGiven</th>\n",
       "      <th>TournamentChampion</th>\n",
       "      <th>Runner-up</th>\n",
       "      <th>TeamLaunch</th>\n",
       "    </tr>\n",
       "  </thead>\n",
       "  <tbody>\n",
       "    <tr>\n",
       "      <th>count</th>\n",
       "      <td>61</td>\n",
       "      <td>61</td>\n",
       "      <td>61</td>\n",
       "      <td>61</td>\n",
       "      <td>61</td>\n",
       "      <td>61</td>\n",
       "      <td>61</td>\n",
       "      <td>61</td>\n",
       "      <td>61</td>\n",
       "      <td>61</td>\n",
       "      <td>61</td>\n",
       "    </tr>\n",
       "    <tr>\n",
       "      <th>unique</th>\n",
       "      <td>61</td>\n",
       "      <td>61</td>\n",
       "      <td>53</td>\n",
       "      <td>59</td>\n",
       "      <td>57</td>\n",
       "      <td>56</td>\n",
       "      <td>60</td>\n",
       "      <td>61</td>\n",
       "      <td>8</td>\n",
       "      <td>10</td>\n",
       "      <td>47</td>\n",
       "    </tr>\n",
       "    <tr>\n",
       "      <th>top</th>\n",
       "      <td>Team 1</td>\n",
       "      <td>4385</td>\n",
       "      <td>2762</td>\n",
       "      <td>7</td>\n",
       "      <td>14</td>\n",
       "      <td>37</td>\n",
       "      <td>70</td>\n",
       "      <td>3140</td>\n",
       "      <td>-</td>\n",
       "      <td>-</td>\n",
       "      <td>1929</td>\n",
       "    </tr>\n",
       "    <tr>\n",
       "      <th>freq</th>\n",
       "      <td>1</td>\n",
       "      <td>1</td>\n",
       "      <td>3</td>\n",
       "      <td>2</td>\n",
       "      <td>2</td>\n",
       "      <td>3</td>\n",
       "      <td>2</td>\n",
       "      <td>1</td>\n",
       "      <td>52</td>\n",
       "      <td>48</td>\n",
       "      <td>10</td>\n",
       "    </tr>\n",
       "  </tbody>\n",
       "</table>\n",
       "</div>"
      ],
      "text/plain": [
       "          Team Score PlayedGames WonGames DrawnGames LostGames BasketScored  \\\n",
       "count       61    61          61       61         61        61           61   \n",
       "unique      61    61          53       59         57        56           60   \n",
       "top     Team 1  4385        2762        7         14        37           70   \n",
       "freq         1     1           3        2          2         3            2   \n",
       "\n",
       "       BasketGiven TournamentChampion Runner-up TeamLaunch  \n",
       "count           61                 61        61         61  \n",
       "unique          61                  8        10         47  \n",
       "top           3140                  -         -       1929  \n",
       "freq             1                 52        48         10  "
      ]
     },
     "execution_count": 10,
     "metadata": {},
     "output_type": "execute_result"
    }
   ],
   "source": [
    "x.describe(include='object')"
   ]
  },
  {
   "cell_type": "code",
   "execution_count": 47,
   "id": "17e82176",
   "metadata": {},
   "outputs": [],
   "source": [
    "# Clean the data ,conversion of Data type\n",
    "x['Score']=pd.to_numeric(x['Score'],errors='coerce')"
   ]
  },
  {
   "cell_type": "code",
   "execution_count": 50,
   "id": "5eb5aa7f",
   "metadata": {},
   "outputs": [],
   "source": [
    "x['PlayedGames']=pd.to_numeric(x['PlayedGames'],errors='coerce')"
   ]
  },
  {
   "cell_type": "code",
   "execution_count": 51,
   "id": "bf72af35",
   "metadata": {},
   "outputs": [],
   "source": [
    "x['WonGames']=pd.to_numeric(x['WonGames'],errors='coerce')"
   ]
  },
  {
   "cell_type": "code",
   "execution_count": 52,
   "id": "4ebdcbc0",
   "metadata": {},
   "outputs": [],
   "source": [
    "x['DrawnGames']=pd.to_numeric(x['DrawnGames'],errors='coerce')"
   ]
  },
  {
   "cell_type": "code",
   "execution_count": 53,
   "id": "b4a369b4",
   "metadata": {},
   "outputs": [],
   "source": [
    "x['LostGames']=pd.to_numeric(x['LostGames'],errors='coerce')"
   ]
  },
  {
   "cell_type": "code",
   "execution_count": 54,
   "id": "a90a2d37",
   "metadata": {},
   "outputs": [],
   "source": [
    "x['BasketScored']=pd.to_numeric(x['BasketScored'],errors='coerce')"
   ]
  },
  {
   "cell_type": "code",
   "execution_count": 58,
   "id": "3bdaecb7",
   "metadata": {},
   "outputs": [],
   "source": [
    "x['BasketGiven']=pd.to_numeric(x['BasketGiven'],errors='coerce')"
   ]
  },
  {
   "cell_type": "code",
   "execution_count": 59,
   "id": "2615cd64",
   "metadata": {},
   "outputs": [],
   "source": [
    "x['TournamentChampion']=pd.to_numeric(x['TournamentChampion'],errors='coerce')"
   ]
  },
  {
   "cell_type": "code",
   "execution_count": 60,
   "id": "f1b50c0c",
   "metadata": {},
   "outputs": [],
   "source": [
    "x['Runner-up']=pd.to_numeric(x['Runner-up'],errors='coerce')"
   ]
  },
  {
   "cell_type": "code",
   "execution_count": 63,
   "id": "d7d4c519",
   "metadata": {},
   "outputs": [
    {
     "name": "stdout",
     "output_type": "stream",
     "text": [
      "<class 'pandas.core.frame.DataFrame'>\n",
      "RangeIndex: 61 entries, 0 to 60\n",
      "Data columns (total 13 columns):\n",
      " #   Column               Non-Null Count  Dtype  \n",
      "---  ------               --------------  -----  \n",
      " 0   Team                 61 non-null     object \n",
      " 1   Tournament           61 non-null     int64  \n",
      " 2   Score                60 non-null     float64\n",
      " 3   PlayedGames          60 non-null     float64\n",
      " 4   WonGames             60 non-null     float64\n",
      " 5   DrawnGames           60 non-null     float64\n",
      " 6   LostGames            60 non-null     float64\n",
      " 7   BasketScored         60 non-null     float64\n",
      " 8   BasketGiven          60 non-null     float64\n",
      " 9   TournamentChampion   9 non-null      float64\n",
      " 10  Runner-up            13 non-null     float64\n",
      " 11  TeamLaunch           61 non-null     object \n",
      " 12  HighestPositionHeld  61 non-null     int64  \n",
      "dtypes: float64(9), int64(2), object(2)\n",
      "memory usage: 6.3+ KB\n"
     ]
    }
   ],
   "source": [
    "x.info()\n",
    "# AFter conversion of Dtype"
   ]
  },
  {
   "cell_type": "code",
   "execution_count": 64,
   "id": "0fd2ce35",
   "metadata": {},
   "outputs": [
    {
     "data": {
      "text/plain": [
       "Team                    0\n",
       "Tournament              0\n",
       "Score                   1\n",
       "PlayedGames             1\n",
       "WonGames                1\n",
       "DrawnGames              1\n",
       "LostGames               1\n",
       "BasketScored            1\n",
       "BasketGiven             1\n",
       "TournamentChampion     52\n",
       "Runner-up              48\n",
       "TeamLaunch              0\n",
       "HighestPositionHeld     0\n",
       "dtype: int64"
      ]
     },
     "execution_count": 64,
     "metadata": {},
     "output_type": "execute_result"
    }
   ],
   "source": [
    "x.isnull().sum()"
   ]
  },
  {
   "cell_type": "code",
   "execution_count": 65,
   "id": "c32ca52a",
   "metadata": {
    "scrolled": true
   },
   "outputs": [
    {
     "data": {
      "text/html": [
       "<div>\n",
       "<style scoped>\n",
       "    .dataframe tbody tr th:only-of-type {\n",
       "        vertical-align: middle;\n",
       "    }\n",
       "\n",
       "    .dataframe tbody tr th {\n",
       "        vertical-align: top;\n",
       "    }\n",
       "\n",
       "    .dataframe thead th {\n",
       "        text-align: right;\n",
       "    }\n",
       "</style>\n",
       "<table border=\"1\" class=\"dataframe\">\n",
       "  <thead>\n",
       "    <tr style=\"text-align: right;\">\n",
       "      <th></th>\n",
       "      <th>Tournament</th>\n",
       "      <th>Score</th>\n",
       "      <th>PlayedGames</th>\n",
       "      <th>WonGames</th>\n",
       "      <th>DrawnGames</th>\n",
       "      <th>LostGames</th>\n",
       "      <th>BasketScored</th>\n",
       "      <th>BasketGiven</th>\n",
       "      <th>TournamentChampion</th>\n",
       "      <th>Runner-up</th>\n",
       "      <th>HighestPositionHeld</th>\n",
       "    </tr>\n",
       "  </thead>\n",
       "  <tbody>\n",
       "    <tr>\n",
       "      <th>count</th>\n",
       "      <td>61.000000</td>\n",
       "      <td>60.000000</td>\n",
       "      <td>60.000000</td>\n",
       "      <td>60.000000</td>\n",
       "      <td>60.000000</td>\n",
       "      <td>60.000000</td>\n",
       "      <td>60.000000</td>\n",
       "      <td>60.000000</td>\n",
       "      <td>9.000000</td>\n",
       "      <td>13.000000</td>\n",
       "      <td>61.000000</td>\n",
       "    </tr>\n",
       "    <tr>\n",
       "      <th>mean</th>\n",
       "      <td>24.000000</td>\n",
       "      <td>916.450000</td>\n",
       "      <td>810.100000</td>\n",
       "      <td>309.033333</td>\n",
       "      <td>192.083333</td>\n",
       "      <td>308.816667</td>\n",
       "      <td>1159.350000</td>\n",
       "      <td>1159.233333</td>\n",
       "      <td>9.666667</td>\n",
       "      <td>6.615385</td>\n",
       "      <td>7.081967</td>\n",
       "    </tr>\n",
       "    <tr>\n",
       "      <th>std</th>\n",
       "      <td>26.827225</td>\n",
       "      <td>1138.342899</td>\n",
       "      <td>877.465393</td>\n",
       "      <td>408.481395</td>\n",
       "      <td>201.985508</td>\n",
       "      <td>294.508639</td>\n",
       "      <td>1512.063948</td>\n",
       "      <td>1163.946914</td>\n",
       "      <td>11.618950</td>\n",
       "      <td>8.109033</td>\n",
       "      <td>5.276663</td>\n",
       "    </tr>\n",
       "    <tr>\n",
       "      <th>min</th>\n",
       "      <td>1.000000</td>\n",
       "      <td>14.000000</td>\n",
       "      <td>30.000000</td>\n",
       "      <td>5.000000</td>\n",
       "      <td>4.000000</td>\n",
       "      <td>15.000000</td>\n",
       "      <td>34.000000</td>\n",
       "      <td>55.000000</td>\n",
       "      <td>1.000000</td>\n",
       "      <td>1.000000</td>\n",
       "      <td>1.000000</td>\n",
       "    </tr>\n",
       "    <tr>\n",
       "      <th>25%</th>\n",
       "      <td>4.000000</td>\n",
       "      <td>104.250000</td>\n",
       "      <td>115.500000</td>\n",
       "      <td>34.750000</td>\n",
       "      <td>26.250000</td>\n",
       "      <td>62.750000</td>\n",
       "      <td>154.500000</td>\n",
       "      <td>236.000000</td>\n",
       "      <td>1.000000</td>\n",
       "      <td>1.000000</td>\n",
       "      <td>3.000000</td>\n",
       "    </tr>\n",
       "    <tr>\n",
       "      <th>50%</th>\n",
       "      <td>12.000000</td>\n",
       "      <td>395.500000</td>\n",
       "      <td>424.500000</td>\n",
       "      <td>124.000000</td>\n",
       "      <td>98.500000</td>\n",
       "      <td>197.500000</td>\n",
       "      <td>444.000000</td>\n",
       "      <td>632.500000</td>\n",
       "      <td>6.000000</td>\n",
       "      <td>4.000000</td>\n",
       "      <td>6.000000</td>\n",
       "    </tr>\n",
       "    <tr>\n",
       "      <th>75%</th>\n",
       "      <td>38.000000</td>\n",
       "      <td>1360.500000</td>\n",
       "      <td>1345.500000</td>\n",
       "      <td>432.750000</td>\n",
       "      <td>331.500000</td>\n",
       "      <td>563.500000</td>\n",
       "      <td>1669.750000</td>\n",
       "      <td>2001.250000</td>\n",
       "      <td>10.000000</td>\n",
       "      <td>7.000000</td>\n",
       "      <td>10.000000</td>\n",
       "    </tr>\n",
       "    <tr>\n",
       "      <th>max</th>\n",
       "      <td>86.000000</td>\n",
       "      <td>4385.000000</td>\n",
       "      <td>2762.000000</td>\n",
       "      <td>1647.000000</td>\n",
       "      <td>633.000000</td>\n",
       "      <td>1070.000000</td>\n",
       "      <td>5947.000000</td>\n",
       "      <td>3889.000000</td>\n",
       "      <td>33.000000</td>\n",
       "      <td>25.000000</td>\n",
       "      <td>20.000000</td>\n",
       "    </tr>\n",
       "  </tbody>\n",
       "</table>\n",
       "</div>"
      ],
      "text/plain": [
       "       Tournament        Score  PlayedGames     WonGames  DrawnGames  \\\n",
       "count   61.000000    60.000000    60.000000    60.000000   60.000000   \n",
       "mean    24.000000   916.450000   810.100000   309.033333  192.083333   \n",
       "std     26.827225  1138.342899   877.465393   408.481395  201.985508   \n",
       "min      1.000000    14.000000    30.000000     5.000000    4.000000   \n",
       "25%      4.000000   104.250000   115.500000    34.750000   26.250000   \n",
       "50%     12.000000   395.500000   424.500000   124.000000   98.500000   \n",
       "75%     38.000000  1360.500000  1345.500000   432.750000  331.500000   \n",
       "max     86.000000  4385.000000  2762.000000  1647.000000  633.000000   \n",
       "\n",
       "         LostGames  BasketScored  BasketGiven  TournamentChampion  Runner-up  \\\n",
       "count    60.000000     60.000000    60.000000            9.000000  13.000000   \n",
       "mean    308.816667   1159.350000  1159.233333            9.666667   6.615385   \n",
       "std     294.508639   1512.063948  1163.946914           11.618950   8.109033   \n",
       "min      15.000000     34.000000    55.000000            1.000000   1.000000   \n",
       "25%      62.750000    154.500000   236.000000            1.000000   1.000000   \n",
       "50%     197.500000    444.000000   632.500000            6.000000   4.000000   \n",
       "75%     563.500000   1669.750000  2001.250000           10.000000   7.000000   \n",
       "max    1070.000000   5947.000000  3889.000000           33.000000  25.000000   \n",
       "\n",
       "       HighestPositionHeld  \n",
       "count            61.000000  \n",
       "mean              7.081967  \n",
       "std               5.276663  \n",
       "min               1.000000  \n",
       "25%               3.000000  \n",
       "50%               6.000000  \n",
       "75%              10.000000  \n",
       "max              20.000000  "
      ]
     },
     "execution_count": 65,
     "metadata": {},
     "output_type": "execute_result"
    }
   ],
   "source": [
    "x.describe()"
   ]
  },
  {
   "cell_type": "code",
   "execution_count": 72,
   "id": "37f031f8",
   "metadata": {
    "scrolled": true
   },
   "outputs": [
    {
     "data": {
      "image/png": "[encoded data removed]",
      "text/plain": [
       "<Figure size 432x288 with 1 Axes>"
      ]
     },
     "metadata": {
      "needs_background": "light"
     },
     "output_type": "display_data"
    }
   ],
   "source": [
    "import matplotlib.pyplot as plt\n",
    "x.boxplot()\n",
    "plt.xticks(rotation=90)\n",
    "plt.show()"
   ]
  },
  {
   "cell_type": "code",
   "execution_count": 31,
   "id": "bbf6929e",
   "metadata": {},
   "outputs": [],
   "source": [
    "# x=x.drop(columns='Team').astype(int)"
   ]
  },
  {
   "cell_type": "code",
   "execution_count": 71,
   "id": "e085efd6",
   "metadata": {},
   "outputs": [
    {
     "data": {
      "image/png": "[encoded data removed]",
      "text/plain": [
       "<Figure size 432x288 with 1 Axes>"
      ]
     },
     "metadata": {
      "needs_background": "light"
     },
     "output_type": "display_data"
    }
   ],
   "source": [
    "x.plot(kind='box')\n",
    "plt.xticks(rotation=90)\n",
    "plt.show()"
   ]
  },
  {
   "cell_type": "code",
   "execution_count": 4,
   "id": "d997ede3",
   "metadata": {},
   "outputs": [],
   "source": [
    "x.replace(np.nan, 0, inplace=True)"
   ]
  },
  {
   "cell_type": "code",
   "execution_count": 27,
   "id": "94d9e1b7",
   "metadata": {},
   "outputs": [],
   "source": [
    "df=x"
   ]
  },
  {
   "cell_type": "code",
   "execution_count": 4,
   "id": "ac206e27",
   "metadata": {},
   "outputs": [],
   "source": [
    "#for the column team launch, let's take the first year as year of origin \n",
    "df['TeamLaunch']= df['TeamLaunch'].apply(lambda x: x[0:4])"
   ]
  },
  {
   "cell_type": "code",
   "execution_count": 5,
   "id": "b6fb233b",
   "metadata": {},
   "outputs": [
    {
     "data": {
      "text/html": [
       "<div>\n",
       "<style scoped>\n",
       "    .dataframe tbody tr th:only-of-type {\n",
       "        vertical-align: middle;\n",
       "    }\n",
       "\n",
       "    .dataframe tbody tr th {\n",
       "        vertical-align: top;\n",
       "    }\n",
       "\n",
       "    .dataframe thead th {\n",
       "        text-align: right;\n",
       "    }\n",
       "</style>\n",
       "<table border=\"1\" class=\"dataframe\">\n",
       "  <thead>\n",
       "    <tr style=\"text-align: right;\">\n",
       "      <th></th>\n",
       "      <th>Team</th>\n",
       "      <th>Tournament</th>\n",
       "      <th>Score</th>\n",
       "      <th>PlayedGames</th>\n",
       "      <th>WonGames</th>\n",
       "      <th>DrawnGames</th>\n",
       "      <th>LostGames</th>\n",
       "      <th>BasketScored</th>\n",
       "      <th>BasketGiven</th>\n",
       "      <th>TournamentChampion</th>\n",
       "      <th>Runner-up</th>\n",
       "      <th>TeamLaunch</th>\n",
       "      <th>HighestPositionHeld</th>\n",
       "    </tr>\n",
       "  </thead>\n",
       "  <tbody>\n",
       "    <tr>\n",
       "      <th>0</th>\n",
       "      <td>Team 1</td>\n",
       "      <td>86</td>\n",
       "      <td>4385</td>\n",
       "      <td>2762</td>\n",
       "      <td>1647</td>\n",
       "      <td>552</td>\n",
       "      <td>563</td>\n",
       "      <td>5947</td>\n",
       "      <td>3140</td>\n",
       "      <td>33</td>\n",
       "      <td>23</td>\n",
       "      <td>1929</td>\n",
       "      <td>1</td>\n",
       "    </tr>\n",
       "    <tr>\n",
       "      <th>43</th>\n",
       "      <td>Team 44</td>\n",
       "      <td>3</td>\n",
       "      <td>132</td>\n",
       "      <td>114</td>\n",
       "      <td>35</td>\n",
       "      <td>27</td>\n",
       "      <td>52</td>\n",
       "      <td>139</td>\n",
       "      <td>167</td>\n",
       "      <td>-</td>\n",
       "      <td>-</td>\n",
       "      <td>2014</td>\n",
       "      <td>10</td>\n",
       "    </tr>\n",
       "    <tr>\n",
       "      <th>19</th>\n",
       "      <td>Team 20</td>\n",
       "      <td>33</td>\n",
       "      <td>1020</td>\n",
       "      <td>1096</td>\n",
       "      <td>367</td>\n",
       "      <td>242</td>\n",
       "      <td>487</td>\n",
       "      <td>1347</td>\n",
       "      <td>1746</td>\n",
       "      <td>-</td>\n",
       "      <td>1</td>\n",
       "      <td>1951</td>\n",
       "      <td>2</td>\n",
       "    </tr>\n",
       "    <tr>\n",
       "      <th>4</th>\n",
       "      <td>Team 5</td>\n",
       "      <td>86</td>\n",
       "      <td>3368</td>\n",
       "      <td>2762</td>\n",
       "      <td>1209</td>\n",
       "      <td>633</td>\n",
       "      <td>920</td>\n",
       "      <td>4631</td>\n",
       "      <td>3700</td>\n",
       "      <td>8</td>\n",
       "      <td>7</td>\n",
       "      <td>1929</td>\n",
       "      <td>1</td>\n",
       "    </tr>\n",
       "    <tr>\n",
       "      <th>48</th>\n",
       "      <td>Team 49</td>\n",
       "      <td>2</td>\n",
       "      <td>81</td>\n",
       "      <td>80</td>\n",
       "      <td>19</td>\n",
       "      <td>24</td>\n",
       "      <td>37</td>\n",
       "      <td>70</td>\n",
       "      <td>115</td>\n",
       "      <td>-</td>\n",
       "      <td>-</td>\n",
       "      <td>1995</td>\n",
       "      <td>19</td>\n",
       "    </tr>\n",
       "  </tbody>\n",
       "</table>\n",
       "</div>"
      ],
      "text/plain": [
       "       Team  Tournament Score PlayedGames WonGames DrawnGames LostGames  \\\n",
       "0    Team 1          86  4385        2762     1647        552       563   \n",
       "43  Team 44           3   132         114       35         27        52   \n",
       "19  Team 20          33  1020        1096      367        242       487   \n",
       "4    Team 5          86  3368        2762     1209        633       920   \n",
       "48  Team 49           2    81          80       19         24        37   \n",
       "\n",
       "   BasketScored BasketGiven TournamentChampion Runner-up TeamLaunch  \\\n",
       "0          5947        3140                 33        23       1929   \n",
       "43          139         167                  -         -       2014   \n",
       "19         1347        1746                  -         1       1951   \n",
       "4          4631        3700                  8         7       1929   \n",
       "48           70         115                  -         -       1995   \n",
       "\n",
       "    HighestPositionHeld  \n",
       "0                     1  \n",
       "43                   10  \n",
       "19                    2  \n",
       "4                     1  \n",
       "48                   19  "
      ]
     },
     "execution_count": 5,
     "metadata": {},
     "output_type": "execute_result"
    }
   ],
   "source": [
    "df.sample(5)"
   ]
  },
  {
   "cell_type": "code",
   "execution_count": null,
   "id": "546310fd",
   "metadata": {},
   "outputs": [],
   "source": [
    "#total avg matches played by each team is around 800 out of which, winning and losing percentange is almost equal."
   ]
  },
  {
   "cell_type": "code",
   "execution_count": 24,
   "id": "0a6b8b88",
   "metadata": {},
   "outputs": [
    {
     "data": {
      "image/png": "[encoded data removed]",
      "text/plain": [
       "<Figure size 432x288 with 1 Axes>"
      ]
     },
     "metadata": {
      "needs_background": "light"
     },
     "output_type": "display_data"
    }
   ],
   "source": [
    "sns.histplot(df['WonGames'],kde=True)\n",
    "plt.xticks(rotation=90)\n",
    "plt.xlabel('no of games won')\n",
    "plt.ylabel('no of teams')\n",
    "plt.show()\n",
    "\n",
    "\n",
    "\n",
    "#we can see that the winning column is  Right skewed and most of teams won 0-200 matches \n",
    "\n"
   ]
  },
  {
   "cell_type": "code",
   "execution_count": 30,
   "id": "f08553bd",
   "metadata": {},
   "outputs": [
    {
     "data": {
      "image/png": "[encoded data removed]",
      "text/plain": [
       "<Figure size 432x288 with 1 Axes>"
      ]
     },
     "metadata": {
      "needs_background": "light"
     },
     "output_type": "display_data"
    }
   ],
   "source": [
    "sns.boxplot(df['WonGames'])\n",
    "#we have to find the best performing teams so now we will be focusing on individual rows instead of finding patterns in the \n",
    "#whole dataset\n",
    "plt.show()"
   ]
  },
  {
   "cell_type": "code",
   "execution_count": 29,
   "id": "6d94a815",
   "metadata": {},
   "outputs": [
    {
     "name": "stdout",
     "output_type": "stream",
     "text": [
      "#details of the top 20 winning teams        Team  Tournament   Score  PlayedGames  WonGames  DrawnGames  LostGames  \\\n",
      "0    Team 1        86.0  4385.0       2762.0    1647.0       552.0      563.0   \n",
      "1    Team 2        86.0  4262.0       2762.0    1581.0       573.0      608.0   \n",
      "2    Team 3        80.0  3442.0       2614.0    1241.0       598.0      775.0   \n",
      "4    Team 5        86.0  3368.0       2762.0    1209.0       633.0      920.0   \n",
      "3    Team 4        82.0  3386.0       2664.0    1187.0       616.0      861.0   \n",
      "5    Team 6        73.0  2819.0       2408.0     990.0       531.0      887.0   \n",
      "6    Team 7        82.0  2792.0       2626.0     948.0       608.0     1070.0   \n",
      "7    Team 8        70.0  2573.0       2302.0     864.0       577.0      861.0   \n",
      "8    Team 9        58.0  2109.0       1986.0     698.0       522.0      766.0   \n",
      "9   Team 10        51.0  1884.0       1728.0     606.0       440.0      682.0   \n",
      "11  Team 12        51.0  1789.0       1698.0     586.0       389.0      723.0   \n",
      "10  Team 11        45.0  1814.0       1530.0     563.0       392.0      575.0   \n",
      "14  Team 15        43.0  1389.0       1458.0     471.0       358.0      629.0   \n",
      "12  Team 13        42.0  1471.0       1466.0     463.0       384.0      619.0   \n",
      "13  Team 14        44.0  1416.0       1428.0     453.0       336.0      639.0   \n",
      "15  Team 16        37.0  1351.0       1318.0     426.0       327.0      565.0   \n",
      "17  Team 18        38.0  1174.0       1192.0     408.0       292.0      492.0   \n",
      "16  Team 17        36.0  1314.0       1255.0     390.0       330.0      535.0   \n",
      "19  Team 20        33.0  1020.0       1096.0     367.0       242.0      487.0   \n",
      "18  Team 19        27.0  1148.0        988.0     333.0       256.0      399.0   \n",
      "\n",
      "    BasketScored  BasketGiven  TournamentChampion  Runner-up TeamLaunch  \\\n",
      "0         5947.0       3140.0                33.0       23.0       1929   \n",
      "1         5900.0       3114.0                25.0       25.0       1929   \n",
      "2         4534.0       3309.0                10.0        8.0       1929   \n",
      "4         4631.0       3700.0                 8.0        7.0       1929   \n",
      "3         4398.0       3469.0                 6.0        6.0   1931to32   \n",
      "5         3680.0       3373.0                 1.0        4.0    1934-35   \n",
      "6         3609.0       3889.0                 NaN        NaN       1929   \n",
      "7         3228.0       3230.0                 2.0        3.0       1929   \n",
      "8         2683.0       2847.0                 NaN        1.0    1939-40   \n",
      "9         2159.0       2492.0                 1.0        NaN    1932-33   \n",
      "11        2278.0       2624.0                 NaN        NaN    1939-40   \n",
      "10        2052.0       2188.0                 1.0        5.0   1941to42   \n",
      "14        1753.0       2152.0                 NaN        1.0    1944_45   \n",
      "12        1767.0       2180.0                 NaN        NaN    1948-49   \n",
      "13        1843.0       2368.0                 NaN        1.0       1929   \n",
      "15        1500.0       1834.0                 NaN        NaN    1935-36   \n",
      "17        1642.0       1951.0                 NaN        NaN   1933to34   \n",
      "16        1421.0       1763.0                 NaN        NaN    1949_50   \n",
      "19        1347.0       1746.0                 NaN        1.0    1951-52   \n",
      "18        1182.0       1371.0                 NaN        NaN    1960-61   \n",
      "\n",
      "    HighestPositionHeld  \n",
      "0                     1  \n",
      "1                     1  \n",
      "2                     1  \n",
      "4                     1  \n",
      "3                     1  \n",
      "5                     1  \n",
      "6                     3  \n",
      "7                     1  \n",
      "8                     2  \n",
      "9                     1  \n",
      "11                    4  \n",
      "10                    1  \n",
      "14                    2  \n",
      "12                    4  \n",
      "13                    2  \n",
      "15                    4  \n",
      "17                    3  \n",
      "16                    4  \n",
      "19                    2  \n",
      "18                    3  \n"
     ]
    }
   ],
   "source": [
    "#details of the top 20 winning teams, also the teams with highest score\n",
    "df_wongames= df.nlargest(20, ['WonGames'])\n",
    "print('#details of the top 20 winning teams',df_wongames)"
   ]
  },
  {
   "cell_type": "code",
   "execution_count": 28,
   "id": "58a0bca6",
   "metadata": {},
   "outputs": [],
   "source": [
    "cols=['Tournament', 'Score', 'PlayedGames', 'WonGames', 'DrawnGames',\n",
    "       'LostGames', 'BasketScored', 'BasketGiven', 'TournamentChampion',\n",
    "       'Runner-up']\n",
    "df[cols] = df[cols].apply(pd.to_numeric, errors='coerce', axis=1)"
   ]
  },
  {
   "cell_type": "code",
   "execution_count": 15,
   "id": "35da350f",
   "metadata": {
    "scrolled": true
   },
   "outputs": [
    {
     "name": "stdout",
     "output_type": "stream",
     "text": [
      "<class 'pandas.core.frame.DataFrame'>\n",
      "RangeIndex: 61 entries, 0 to 60\n",
      "Data columns (total 13 columns):\n",
      " #   Column               Non-Null Count  Dtype  \n",
      "---  ------               --------------  -----  \n",
      " 0   Team                 61 non-null     object \n",
      " 1   Tournament           61 non-null     float64\n",
      " 2   Score                60 non-null     float64\n",
      " 3   PlayedGames          60 non-null     float64\n",
      " 4   WonGames             60 non-null     float64\n",
      " 5   DrawnGames           60 non-null     float64\n",
      " 6   LostGames            60 non-null     float64\n",
      " 7   BasketScored         60 non-null     float64\n",
      " 8   BasketGiven          60 non-null     float64\n",
      " 9   TournamentChampion   9 non-null      float64\n",
      " 10  Runner-up            13 non-null     float64\n",
      " 11  TeamLaunch           61 non-null     object \n",
      " 12  HighestPositionHeld  61 non-null     int64  \n",
      "dtypes: float64(10), int64(1), object(2)\n",
      "memory usage: 6.3+ KB\n"
     ]
    }
   ],
   "source": [
    "df.info()"
   ]
  },
  {
   "cell_type": "markdown",
   "id": "b81c5aea",
   "metadata": {},
   "source": [
    "### TOP 20 TEAMS WITH HIGHEST SCORE AND MOST NUMBER OF MATCHES WON"
   ]
  },
  {
   "cell_type": "code",
   "execution_count": 30,
   "id": "a869efef",
   "metadata": {
    "scrolled": true
   },
   "outputs": [
    {
     "data": {
      "image/png": "[encoded data removed]",
      "text/plain": [
       "<Figure size 432x288 with 1 Axes>"
      ]
     },
     "metadata": {
      "needs_background": "light"
     },
     "output_type": "display_data"
    }
   ],
   "source": [
    "sns.barplot(y=df_wongames['Team'], x= df_wongames['WonGames'])\n",
    "plt.show()"
   ]
  },
  {
   "cell_type": "code",
   "execution_count": 37,
   "id": "afe94069",
   "metadata": {},
   "outputs": [
    {
     "data": {
      "application/vnd.plotly.v1+json": {
       "config": {
        "plotlyServerURL": "https://plot.ly"
       },
       "data": [
        {
         "alignmentgroup": "True",
         "hovertemplate": "animation_frame=Team 1<br>x=%{x}<br>y=%{y}<extra></extra>",
         "legendgroup": "",
         "marker": {
          "color": "#636efa",
          "pattern": {
           "shape": ""
          }
         },
         "name": "",
         "offsetgroup": "",
         "orientation": "h",
         "showlegend": false,
         "textposition": "auto",
         "type": "bar",
         "x": [
          1647
         ],
         "xaxis": "x",
         "y": [
          "Team 1"
         ],
         "yaxis": "y"
        }
       ],
       "frames": [
        {
         "data": [
          {
           "alignmentgroup": "True",
           "hovertemplate": "animation_frame=Team 1<br>x=%{x}<br>y=%{y}<extra></extra>",
           "legendgroup": "",
           "marker": {
            "color": "#636efa",
            "pattern": {
             "shape": ""
            }
           },
           "name": "",
           "offsetgroup": "",
           "orientation": "h",
           "showlegend": false,
           "textposition": "auto",
           "type": "bar",
           "x": [
            1647
           ],
           "xaxis": "x",
           "y": [
            "Team 1"
           ],
           "yaxis": "y"
          }
         ],
         "name": "Team 1"
        },
        {
         "data": [
          {
           "alignmentgroup": "True",
           "hovertemplate": "animation_frame=Team 2<br>x=%{x}<br>y=%{y}<extra></extra>",
           "legendgroup": "",
           "marker": {
            "color": "#636efa",
            "pattern": {
             "shape": ""
            }
           },
           "name": "",
           "offsetgroup": "",
           "orientation": "h",
           "showlegend": false,
           "textposition": "auto",
           "type": "bar",
           "x": [
            1581
           ],
           "xaxis": "x",
           "y": [
            "Team 2"
           ],
           "yaxis": "y"
          }
         ],
         "name": "Team 2"
        },
        {
         "data": [
          {
           "alignmentgroup": "True",
           "hovertemplate": "animation_frame=Team 3<br>x=%{x}<br>y=%{y}<extra></extra>",
           "legendgroup": "",
           "marker": {
            "color": "#636efa",
            "pattern": {
             "shape": ""
            }
           },
           "name": "",
           "offsetgroup": "",
           "orientation": "h",
           "showlegend": false,
           "textposition": "auto",
           "type": "bar",
           "x": [
            1241
           ],
           "xaxis": "x",
           "y": [
            "Team 3"
           ],
           "yaxis": "y"
          }
         ],
         "name": "Team 3"
        },
        {
         "data": [
          {
           "alignmentgroup": "True",
           "hovertemplate": "animation_frame=Team 5<br>x=%{x}<br>y=%{y}<extra></extra>",
           "legendgroup": "",
           "marker": {
            "color": "#636efa",
            "pattern": {
             "shape": ""
            }
           },
           "name": "",
           "offsetgroup": "",
           "orientation": "h",
           "showlegend": false,
           "textposition": "auto",
           "type": "bar",
           "x": [
            1209
           ],
           "xaxis": "x",
           "y": [
            "Team 5"
           ],
           "yaxis": "y"
          }
         ],
         "name": "Team 5"
        },
        {
         "data": [
          {
           "alignmentgroup": "True",
           "hovertemplate": "animation_frame=Team 4<br>x=%{x}<br>y=%{y}<extra></extra>",
           "legendgroup": "",
           "marker": {
            "color": "#636efa",
            "pattern": {
             "shape": ""
            }
           },
           "name": "",
           "offsetgroup": "",
           "orientation": "h",
           "showlegend": false,
           "textposition": "auto",
           "type": "bar",
           "x": [
            1187
           ],
           "xaxis": "x",
           "y": [
            "Team 4"
           ],
           "yaxis": "y"
          }
         ],
         "name": "Team 4"
        },
        {
         "data": [
          {
           "alignmentgroup": "True",
           "hovertemplate": "animation_frame=Team 6<br>x=%{x}<br>y=%{y}<extra></extra>",
           "legendgroup": "",
           "marker": {
            "color": "#636efa",
            "pattern": {
             "shape": ""
            }
           },
           "name": "",
           "offsetgroup": "",
           "orientation": "h",
           "showlegend": false,
           "textposition": "auto",
           "type": "bar",
           "x": [
            990
           ],
           "xaxis": "x",
           "y": [
            "Team 6"
           ],
           "yaxis": "y"
          }
         ],
         "name": "Team 6"
        },
        {
         "data": [
          {
           "alignmentgroup": "True",
           "hovertemplate": "animation_frame=Team 7<br>x=%{x}<br>y=%{y}<extra></extra>",
           "legendgroup": "",
           "marker": {
            "color": "#636efa",
            "pattern": {
             "shape": ""
            }
           },
           "name": "",
           "offsetgroup": "",
           "orientation": "h",
           "showlegend": false,
           "textposition": "auto",
           "type": "bar",
           "x": [
            948
           ],
           "xaxis": "x",
           "y": [
            "Team 7"
           ],
           "yaxis": "y"
          }
         ],
         "name": "Team 7"
        },
        {
         "data": [
          {
           "alignmentgroup": "True",
           "hovertemplate": "animation_frame=Team 8<br>x=%{x}<br>y=%{y}<extra></extra>",
           "legendgroup": "",
           "marker": {
            "color": "#636efa",
            "pattern": {
             "shape": ""
            }
           },
           "name": "",
           "offsetgroup": "",
           "orientation": "h",
           "showlegend": false,
           "textposition": "auto",
           "type": "bar",
           "x": [
            864
           ],
           "xaxis": "x",
           "y": [
            "Team 8"
           ],
           "yaxis": "y"
          }
         ],
         "name": "Team 8"
        },
        {
         "data": [
          {
           "alignmentgroup": "True",
           "hovertemplate": "animation_frame=Team 9<br>x=%{x}<br>y=%{y}<extra></extra>",
           "legendgroup": "",
           "marker": {
            "color": "#636efa",
            "pattern": {
             "shape": ""
            }
           },
           "name": "",
           "offsetgroup": "",
           "orientation": "h",
           "showlegend": false,
           "textposition": "auto",
           "type": "bar",
           "x": [
            698
           ],
           "xaxis": "x",
           "y": [
            "Team 9"
           ],
           "yaxis": "y"
          }
         ],
         "name": "Team 9"
        },
        {
         "data": [
          {
           "alignmentgroup": "True",
           "hovertemplate": "animation_frame=Team 10<br>x=%{x}<br>y=%{y}<extra></extra>",
           "legendgroup": "",
           "marker": {
            "color": "#636efa",
            "pattern": {
             "shape": ""
            }
           },
           "name": "",
           "offsetgroup": "",
           "orientation": "h",
           "showlegend": false,
           "textposition": "auto",
           "type": "bar",
           "x": [
            606
           ],
           "xaxis": "x",
           "y": [
            "Team 10"
           ],
           "yaxis": "y"
          }
         ],
         "name": "Team 10"
        },
        {
         "data": [
          {
           "alignmentgroup": "True",
           "hovertemplate": "animation_frame=Team 12<br>x=%{x}<br>y=%{y}<extra></extra>",
           "legendgroup": "",
           "marker": {
            "color": "#636efa",
            "pattern": {
             "shape": ""
            }
           },
           "name": "",
           "offsetgroup": "",
           "orientation": "h",
           "showlegend": false,
           "textposition": "auto",
           "type": "bar",
           "x": [
            586
           ],
           "xaxis": "x",
           "y": [
            "Team 12"
           ],
           "yaxis": "y"
          }
         ],
         "name": "Team 12"
        },
        {
         "data": [
          {
           "alignmentgroup": "True",
           "hovertemplate": "animation_frame=Team 11<br>x=%{x}<br>y=%{y}<extra></extra>",
           "legendgroup": "",
           "marker": {
            "color": "#636efa",
            "pattern": {
             "shape": ""
            }
           },
           "name": "",
           "offsetgroup": "",
           "orientation": "h",
           "showlegend": false,
           "textposition": "auto",
           "type": "bar",
           "x": [
            563
           ],
           "xaxis": "x",
           "y": [
            "Team 11"
           ],
           "yaxis": "y"
          }
         ],
         "name": "Team 11"
        },
        {
         "data": [
          {
           "alignmentgroup": "True",
           "hovertemplate": "animation_frame=Team 15<br>x=%{x}<br>y=%{y}<extra></extra>",
           "legendgroup": "",
           "marker": {
            "color": "#636efa",
            "pattern": {
             "shape": ""
            }
           },
           "name": "",
           "offsetgroup": "",
           "orientation": "h",
           "showlegend": false,
           "textposition": "auto",
           "type": "bar",
           "x": [
            471
           ],
           "xaxis": "x",
           "y": [
            "Team 15"
           ],
           "yaxis": "y"
          }
         ],
         "name": "Team 15"
        },
        {
         "data": [
          {
           "alignmentgroup": "True",
           "hovertemplate": "animation_frame=Team 13<br>x=%{x}<br>y=%{y}<extra></extra>",
           "legendgroup": "",
           "marker": {
            "color": "#636efa",
            "pattern": {
             "shape": ""
            }
           },
           "name": "",
           "offsetgroup": "",
           "orientation": "h",
           "showlegend": false,
           "textposition": "auto",
           "type": "bar",
           "x": [
            463
           ],
           "xaxis": "x",
           "y": [
            "Team 13"
           ],
           "yaxis": "y"
          }
         ],
         "name": "Team 13"
        },
        {
         "data": [
          {
           "alignmentgroup": "True",
           "hovertemplate": "animation_frame=Team 14<br>x=%{x}<br>y=%{y}<extra></extra>",
           "legendgroup": "",
           "marker": {
            "color": "#636efa",
            "pattern": {
             "shape": ""
            }
           },
           "name": "",
           "offsetgroup": "",
           "orientation": "h",
           "showlegend": false,
           "textposition": "auto",
           "type": "bar",
           "x": [
            453
           ],
           "xaxis": "x",
           "y": [
            "Team 14"
           ],
           "yaxis": "y"
          }
         ],
         "name": "Team 14"
        },
        {
         "data": [
          {
           "alignmentgroup": "True",
           "hovertemplate": "animation_frame=Team 16<br>x=%{x}<br>y=%{y}<extra></extra>",
           "legendgroup": "",
           "marker": {
            "color": "#636efa",
            "pattern": {
             "shape": ""
            }
           },
           "name": "",
           "offsetgroup": "",
           "orientation": "h",
           "showlegend": false,
           "textposition": "auto",
           "type": "bar",
           "x": [
            426
           ],
           "xaxis": "x",
           "y": [
            "Team 16"
           ],
           "yaxis": "y"
          }
         ],
         "name": "Team 16"
        },
        {
         "data": [
          {
           "alignmentgroup": "True",
           "hovertemplate": "animation_frame=Team 18<br>x=%{x}<br>y=%{y}<extra></extra>",
           "legendgroup": "",
           "marker": {
            "color": "#636efa",
            "pattern": {
             "shape": ""
            }
           },
           "name": "",
           "offsetgroup": "",
           "orientation": "h",
           "showlegend": false,
           "textposition": "auto",
           "type": "bar",
           "x": [
            408
           ],
           "xaxis": "x",
           "y": [
            "Team 18"
           ],
           "yaxis": "y"
          }
         ],
         "name": "Team 18"
        },
        {
         "data": [
          {
           "alignmentgroup": "True",
           "hovertemplate": "animation_frame=Team 17<br>x=%{x}<br>y=%{y}<extra></extra>",
           "legendgroup": "",
           "marker": {
            "color": "#636efa",
            "pattern": {
             "shape": ""
            }
           },
           "name": "",
           "offsetgroup": "",
           "orientation": "h",
           "showlegend": false,
           "textposition": "auto",
           "type": "bar",
           "x": [
            390
           ],
           "xaxis": "x",
           "y": [
            "Team 17"
           ],
           "yaxis": "y"
          }
         ],
         "name": "Team 17"
        },
        {
         "data": [
          {
           "alignmentgroup": "True",
           "hovertemplate": "animation_frame=Team 20<br>x=%{x}<br>y=%{y}<extra></extra>",
           "legendgroup": "",
           "marker": {
            "color": "#636efa",
            "pattern": {
             "shape": ""
            }
           },
           "name": "",
           "offsetgroup": "",
           "orientation": "h",
           "showlegend": false,
           "textposition": "auto",
           "type": "bar",
           "x": [
            367
           ],
           "xaxis": "x",
           "y": [
            "Team 20"
           ],
           "yaxis": "y"
          }
         ],
         "name": "Team 20"
        },
        {
         "data": [
          {
           "alignmentgroup": "True",
           "hovertemplate": "animation_frame=Team 19<br>x=%{x}<br>y=%{y}<extra></extra>",
           "legendgroup": "",
           "marker": {
            "color": "#636efa",
            "pattern": {
             "shape": ""
            }
           },
           "name": "",
           "offsetgroup": "",
           "orientation": "h",
           "showlegend": false,
           "textposition": "auto",
           "type": "bar",
           "x": [
            333
           ],
           "xaxis": "x",
           "y": [
            "Team 19"
           ],
           "yaxis": "y"
          }
         ],
         "name": "Team 19"
        }
       ],
       "layout": {
        "barmode": "relative",
        "legend": {
         "tracegroupgap": 0
        },
        "sliders": [
         {
          "active": 0,
          "currentvalue": {
           "prefix": "animation_frame="
          },
          "len": 0.9,
          "pad": {
           "b": 10,
           "t": 60
          },
          "steps": [
           {
            "args": [
             [
              "Team 1"
             ],
             {
              "frame": {
               "duration": 0,
               "redraw": true
              },
              "fromcurrent": true,
              "mode": "immediate",
              "transition": {
               "duration": 0,
               "easing": "linear"
              }
             }
            ],
            "label": "Team 1",
            "method": "animate"
           },
           {
            "args": [
             [
              "Team 2"
             ],
             {
              "frame": {
               "duration": 0,
               "redraw": true
              },
              "fromcurrent": true,
              "mode": "immediate",
              "transition": {
               "duration": 0,
               "easing": "linear"
              }
             }
            ],
            "label": "Team 2",
            "method": "animate"
           },
           {
            "args": [
             [
              "Team 3"
             ],
             {
              "frame": {
               "duration": 0,
               "redraw": true
              },
              "fromcurrent": true,
              "mode": "immediate",
              "transition": {
               "duration": 0,
               "easing": "linear"
              }
             }
            ],
            "label": "Team 3",
            "method": "animate"
           },
           {
            "args": [
             [
              "Team 5"
             ],
             {
              "frame": {
               "duration": 0,
               "redraw": true
              },
              "fromcurrent": true,
              "mode": "immediate",
              "transition": {
               "duration": 0,
               "easing": "linear"
              }
             }
            ],
            "label": "Team 5",
            "method": "animate"
           },
           {
            "args": [
             [
              "Team 4"
             ],
             {
              "frame": {
               "duration": 0,
               "redraw": true
              },
              "fromcurrent": true,
              "mode": "immediate",
              "transition": {
               "duration": 0,
               "easing": "linear"
              }
             }
            ],
            "label": "Team 4",
            "method": "animate"
           },
           {
            "args": [
             [
              "Team 6"
             ],
             {
              "frame": {
               "duration": 0,
               "redraw": true
              },
              "fromcurrent": true,
              "mode": "immediate",
              "transition": {
               "duration": 0,
               "easing": "linear"
              }
             }
            ],
            "label": "Team 6",
            "method": "animate"
           },
           {
            "args": [
             [
              "Team 7"
             ],
             {
              "frame": {
               "duration": 0,
               "redraw": true
              },
              "fromcurrent": true,
              "mode": "immediate",
              "transition": {
               "duration": 0,
               "easing": "linear"
              }
             }
            ],
            "label": "Team 7",
            "method": "animate"
           },
           {
            "args": [
             [
              "Team 8"
             ],
             {
              "frame": {
               "duration": 0,
               "redraw": true
              },
              "fromcurrent": true,
              "mode": "immediate",
              "transition": {
               "duration": 0,
               "easing": "linear"
              }
             }
            ],
            "label": "Team 8",
            "method": "animate"
           },
           {
            "args": [
             [
              "Team 9"
             ],
             {
              "frame": {
               "duration": 0,
               "redraw": true
              },
              "fromcurrent": true,
              "mode": "immediate",
              "transition": {
               "duration": 0,
               "easing": "linear"
              }
             }
            ],
            "label": "Team 9",
            "method": "animate"
           },
           {
            "args": [
             [
              "Team 10"
             ],
             {
              "frame": {
               "duration": 0,
               "redraw": true
              },
              "fromcurrent": true,
              "mode": "immediate",
              "transition": {
               "duration": 0,
               "easing": "linear"
              }
             }
            ],
            "label": "Team 10",
            "method": "animate"
           },
           {
            "args": [
             [
              "Team 12"
             ],
             {
              "frame": {
               "duration": 0,
               "redraw": true
              },
              "fromcurrent": true,
              "mode": "immediate",
              "transition": {
               "duration": 0,
               "easing": "linear"
              }
             }
            ],
            "label": "Team 12",
            "method": "animate"
           },
           {
            "args": [
             [
              "Team 11"
             ],
             {
              "frame": {
               "duration": 0,
               "redraw": true
              },
              "fromcurrent": true,
              "mode": "immediate",
              "transition": {
               "duration": 0,
               "easing": "linear"
              }
             }
            ],
            "label": "Team 11",
            "method": "animate"
           },
           {
            "args": [
             [
              "Team 15"
             ],
             {
              "frame": {
               "duration": 0,
               "redraw": true
              },
              "fromcurrent": true,
              "mode": "immediate",
              "transition": {
               "duration": 0,
               "easing": "linear"
              }
             }
            ],
            "label": "Team 15",
            "method": "animate"
           },
           {
            "args": [
             [
              "Team 13"
             ],
             {
              "frame": {
               "duration": 0,
               "redraw": true
              },
              "fromcurrent": true,
              "mode": "immediate",
              "transition": {
               "duration": 0,
               "easing": "linear"
              }
             }
            ],
            "label": "Team 13",
            "method": "animate"
           },
           {
            "args": [
             [
              "Team 14"
             ],
             {
              "frame": {
               "duration": 0,
               "redraw": true
              },
              "fromcurrent": true,
              "mode": "immediate",
              "transition": {
               "duration": 0,
               "easing": "linear"
              }
             }
            ],
            "label": "Team 14",
            "method": "animate"
           },
           {
            "args": [
             [
              "Team 16"
             ],
             {
              "frame": {
               "duration": 0,
               "redraw": true
              },
              "fromcurrent": true,
              "mode": "immediate",
              "transition": {
               "duration": 0,
               "easing": "linear"
              }
             }
            ],
            "label": "Team 16",
            "method": "animate"
           },
           {
            "args": [
             [
              "Team 18"
             ],
             {
              "frame": {
               "duration": 0,
               "redraw": true
              },
              "fromcurrent": true,
              "mode": "immediate",
              "transition": {
               "duration": 0,
               "easing": "linear"
              }
             }
            ],
            "label": "Team 18",
            "method": "animate"
           },
           {
            "args": [
             [
              "Team 17"
             ],
             {
              "frame": {
               "duration": 0,
               "redraw": true
              },
              "fromcurrent": true,
              "mode": "immediate",
              "transition": {
               "duration": 0,
               "easing": "linear"
              }
             }
            ],
            "label": "Team 17",
            "method": "animate"
           },
           {
            "args": [
             [
              "Team 20"
             ],
             {
              "frame": {
               "duration": 0,
               "redraw": true
              },
              "fromcurrent": true,
              "mode": "immediate",
              "transition": {
               "duration": 0,
               "easing": "linear"
              }
             }
            ],
            "label": "Team 20",
            "method": "animate"
           },
           {
            "args": [
             [
              "Team 19"
             ],
             {
              "frame": {
               "duration": 0,
               "redraw": true
              },
              "fromcurrent": true,
              "mode": "immediate",
              "transition": {
               "duration": 0,
               "easing": "linear"
              }
             }
            ],
            "label": "Team 19",
            "method": "animate"
           }
          ],
          "x": 0.1,
          "xanchor": "left",
          "y": 0,
          "yanchor": "top"
         }
        ],
        "template": {
         "data": {
          "bar": [
           {
            "error_x": {
             "color": "#2a3f5f"
            },
            "error_y": {
             "color": "#2a3f5f"
            },
            "marker": {
             "line": {
              "color": "#E5ECF6",
              "width": 0.5
             },
             "pattern": {
              "fillmode": "overlay",
              "size": 10,
              "solidity": 0.2
             }
            },
            "type": "bar"
           }
          ],
          "barpolar": [
           {
            "marker": {
             "line": {
              "color": "#E5ECF6",
              "width": 0.5
             },
             "pattern": {
              "fillmode": "overlay",
              "size": 10,
              "solidity": 0.2
             }
            },
            "type": "barpolar"
           }
          ],
          "carpet": [
           {
            "aaxis": {
             "endlinecolor": "#2a3f5f",
             "gridcolor": "white",
             "linecolor": "white",
             "minorgridcolor": "white",
             "startlinecolor": "#2a3f5f"
            },
            "baxis": {
             "endlinecolor": "#2a3f5f",
             "gridcolor": "white",
             "linecolor": "white",
             "minorgridcolor": "white",
             "startlinecolor": "#2a3f5f"
            },
            "type": "carpet"
           }
          ],
          "choropleth": [
           {
            "colorbar": {
             "outlinewidth": 0,
             "ticks": ""
            },
            "type": "choropleth"
           }
          ],
          "contour": [
           {
            "colorbar": {
             "outlinewidth": 0,
             "ticks": ""
            },
            "colorscale": [
             [
              0,
              "#0d0887"
             ],
             [
              0.1111111111111111,
              "#46039f"
             ],
             [
              0.2222222222222222,
              "#7201a8"
             ],
             [
              0.3333333333333333,
              "#9c179e"
             ],
             [
              0.4444444444444444,
              "#bd3786"
             ],
             [
              0.5555555555555556,
              "#d8576b"
             ],
             [
              0.6666666666666666,
              "#ed7953"
             ],
             [
              0.7777777777777778,
              "#fb9f3a"
             ],
             [
              0.8888888888888888,
              "#fdca26"
             ],
             [
              1,
              "#f0f921"
             ]
            ],
            "type": "contour"
           }
          ],
          "contourcarpet": [
           {
            "colorbar": {
             "outlinewidth": 0,
             "ticks": ""
            },
            "type": "contourcarpet"
           }
          ],
          "heatmap": [
           {
            "colorbar": {
             "outlinewidth": 0,
             "ticks": ""
            },
            "colorscale": [
             [
              0,
              "#0d0887"
             ],
             [
              0.1111111111111111,
              "#46039f"
             ],
             [
              0.2222222222222222,
              "#7201a8"
             ],
             [
              0.3333333333333333,
              "#9c179e"
             ],
             [
              0.4444444444444444,
              "#bd3786"
             ],
             [
              0.5555555555555556,
              "#d8576b"
             ],
             [
              0.6666666666666666,
              "#ed7953"
             ],
             [
              0.7777777777777778,
              "#fb9f3a"
             ],
             [
              0.8888888888888888,
              "#fdca26"
             ],
             [
              1,
              "#f0f921"
             ]
            ],
            "type": "heatmap"
           }
          ],
          "heatmapgl": [
           {
            "colorbar": {
             "outlinewidth": 0,
             "ticks": ""
            },
            "colorscale": [
             [
              0,
              "#0d0887"
             ],
             [
              0.1111111111111111,
              "#46039f"
             ],
             [
              0.2222222222222222,
              "#7201a8"
             ],
             [
              0.3333333333333333,
              "#9c179e"
             ],
             [
              0.4444444444444444,
              "#bd3786"
             ],
             [
              0.5555555555555556,
              "#d8576b"
             ],
             [
              0.6666666666666666,
              "#ed7953"
             ],
             [
              0.7777777777777778,
              "#fb9f3a"
             ],
             [
              0.8888888888888888,
              "#fdca26"
             ],
             [
              1,
              "#f0f921"
             ]
            ],
            "type": "heatmapgl"
           }
          ],
          "histogram": [
           {
            "marker": {
             "pattern": {
              "fillmode": "overlay",
              "size": 10,
              "solidity": 0.2
             }
            },
            "type": "histogram"
           }
          ],
          "histogram2d": [
           {
            "colorbar": {
             "outlinewidth": 0,
             "ticks": ""
            },
            "colorscale": [
             [
              0,
              "#0d0887"
             ],
             [
              0.1111111111111111,
              "#46039f"
             ],
             [
              0.2222222222222222,
              "#7201a8"
             ],
             [
              0.3333333333333333,
              "#9c179e"
             ],
             [
              0.4444444444444444,
              "#bd3786"
             ],
             [
              0.5555555555555556,
              "#d8576b"
             ],
             [
              0.6666666666666666,
              "#ed7953"
             ],
             [
              0.7777777777777778,
              "#fb9f3a"
             ],
             [
              0.8888888888888888,
              "#fdca26"
             ],
             [
              1,
              "#f0f921"
             ]
            ],
            "type": "histogram2d"
           }
          ],
          "histogram2dcontour": [
           {
            "colorbar": {
             "outlinewidth": 0,
             "ticks": ""
            },
            "colorscale": [
             [
              0,
              "#0d0887"
             ],
             [
              0.1111111111111111,
              "#46039f"
             ],
             [
              0.2222222222222222,
              "#7201a8"
             ],
             [
              0.3333333333333333,
              "#9c179e"
             ],
             [
              0.4444444444444444,
              "#bd3786"
             ],
             [
              0.5555555555555556,
              "#d8576b"
             ],
             [
              0.6666666666666666,
              "#ed7953"
             ],
             [
              0.7777777777777778,
              "#fb9f3a"
             ],
             [
              0.8888888888888888,
              "#fdca26"
             ],
             [
              1,
              "#f0f921"
             ]
            ],
            "type": "histogram2dcontour"
           }
          ],
          "mesh3d": [
           {
            "colorbar": {
             "outlinewidth": 0,
             "ticks": ""
            },
            "type": "mesh3d"
           }
          ],
          "parcoords": [
           {
            "line": {
             "colorbar": {
              "outlinewidth": 0,
              "ticks": ""
             }
            },
            "type": "parcoords"
           }
          ],
          "pie": [
           {
            "automargin": true,
            "type": "pie"
           }
          ],
          "scatter": [
           {
            "marker": {
             "colorbar": {
              "outlinewidth": 0,
              "ticks": ""
             }
            },
            "type": "scatter"
           }
          ],
          "scatter3d": [
           {
            "line": {
             "colorbar": {
              "outlinewidth": 0,
              "ticks": ""
             }
            },
            "marker": {
             "colorbar": {
              "outlinewidth": 0,
              "ticks": ""
             }
            },
            "type": "scatter3d"
           }
          ],
          "scattercarpet": [
           {
            "marker": {
             "colorbar": {
              "outlinewidth": 0,
              "ticks": ""
             }
            },
            "type": "scattercarpet"
           }
          ],
          "scattergeo": [
           {
            "marker": {
             "colorbar": {
              "outlinewidth": 0,
              "ticks": ""
             }
            },
            "type": "scattergeo"
           }
          ],
          "scattergl": [
           {
            "marker": {
             "colorbar": {
              "outlinewidth": 0,
              "ticks": ""
             }
            },
            "type": "scattergl"
           }
          ],
          "scattermapbox": [
           {
            "marker": {
             "colorbar": {
              "outlinewidth": 0,
              "ticks": ""
             }
            },
            "type": "scattermapbox"
           }
          ],
          "scatterpolar": [
           {
            "marker": {
             "colorbar": {
              "outlinewidth": 0,
              "ticks": ""
             }
            },
            "type": "scatterpolar"
           }
          ],
          "scatterpolargl": [
           {
            "marker": {
             "colorbar": {
              "outlinewidth": 0,
              "ticks": ""
             }
            },
            "type": "scatterpolargl"
           }
          ],
          "scatterternary": [
           {
            "marker": {
             "colorbar": {
              "outlinewidth": 0,
              "ticks": ""
             }
            },
            "type": "scatterternary"
           }
          ],
          "surface": [
           {
            "colorbar": {
             "outlinewidth": 0,
             "ticks": ""
            },
            "colorscale": [
             [
              0,
              "#0d0887"
             ],
             [
              0.1111111111111111,
              "#46039f"
             ],
             [
              0.2222222222222222,
              "#7201a8"
             ],
             [
              0.3333333333333333,
              "#9c179e"
             ],
             [
              0.4444444444444444,
              "#bd3786"
             ],
             [
              0.5555555555555556,
              "#d8576b"
             ],
             [
              0.6666666666666666,
              "#ed7953"
             ],
             [
              0.7777777777777778,
              "#fb9f3a"
             ],
             [
              0.8888888888888888,
              "#fdca26"
             ],
             [
              1,
              "#f0f921"
             ]
            ],
            "type": "surface"
           }
          ],
          "table": [
           {
            "cells": {
             "fill": {
              "color": "#EBF0F8"
             },
             "line": {
              "color": "white"
             }
            },
            "header": {
             "fill": {
              "color": "#C8D4E3"
             },
             "line": {
              "color": "white"
             }
            },
            "type": "table"
           }
          ]
         },
         "layout": {
          "annotationdefaults": {
           "arrowcolor": "#2a3f5f",
           "arrowhead": 0,
           "arrowwidth": 1
          },
          "autotypenumbers": "strict",
          "coloraxis": {
           "colorbar": {
            "outlinewidth": 0,
            "ticks": ""
           }
          },
          "colorscale": {
           "diverging": [
            [
             0,
             "#8e0152"
            ],
            [
             0.1,
             "#c51b7d"
            ],
            [
             0.2,
             "#de77ae"
            ],
            [
             0.3,
             "#f1b6da"
            ],
            [
             0.4,
             "#fde0ef"
            ],
            [
             0.5,
             "#f7f7f7"
            ],
            [
             0.6,
             "#e6f5d0"
            ],
            [
             0.7,
             "#b8e186"
            ],
            [
             0.8,
             "#7fbc41"
            ],
            [
             0.9,
             "#4d9221"
            ],
            [
             1,
             "#276419"
            ]
           ],
           "sequential": [
            [
             0,
             "#0d0887"
            ],
            [
             0.1111111111111111,
             "#46039f"
            ],
            [
             0.2222222222222222,
             "#7201a8"
            ],
            [
             0.3333333333333333,
             "#9c179e"
            ],
            [
             0.4444444444444444,
             "#bd3786"
            ],
            [
             0.5555555555555556,
             "#d8576b"
            ],
            [
             0.6666666666666666,
             "#ed7953"
            ],
            [
             0.7777777777777778,
             "#fb9f3a"
            ],
            [
             0.8888888888888888,
             "#fdca26"
            ],
            [
             1,
             "#f0f921"
            ]
           ],
           "sequentialminus": [
            [
             0,
             "#0d0887"
            ],
            [
             0.1111111111111111,
             "#46039f"
            ],
            [
             0.2222222222222222,
             "#7201a8"
            ],
            [
             0.3333333333333333,
             "#9c179e"
            ],
            [
             0.4444444444444444,
             "#bd3786"
            ],
            [
             0.5555555555555556,
             "#d8576b"
            ],
            [
             0.6666666666666666,
             "#ed7953"
            ],
            [
             0.7777777777777778,
             "#fb9f3a"
            ],
            [
             0.8888888888888888,
             "#fdca26"
            ],
            [
             1,
             "#f0f921"
            ]
           ]
          },
          "colorway": [
           "#636efa",
           "#EF553B",
           "#00cc96",
           "#ab63fa",
           "#FFA15A",
           "#19d3f3",
           "#FF6692",
           "#B6E880",
           "#FF97FF",
           "#FECB52"
          ],
          "font": {
           "color": "#2a3f5f"
          },
          "geo": {
           "bgcolor": "white",
           "lakecolor": "white",
           "landcolor": "#E5ECF6",
           "showlakes": true,
           "showland": true,
           "subunitcolor": "white"
          },
          "hoverlabel": {
           "align": "left"
          },
          "hovermode": "closest",
          "mapbox": {
           "style": "light"
          },
          "paper_bgcolor": "white",
          "plot_bgcolor": "#E5ECF6",
          "polar": {
           "angularaxis": {
            "gridcolor": "white",
            "linecolor": "white",
            "ticks": ""
           },
           "bgcolor": "#E5ECF6",
           "radialaxis": {
            "gridcolor": "white",
            "linecolor": "white",
            "ticks": ""
           }
          },
          "scene": {
           "xaxis": {
            "backgroundcolor": "#E5ECF6",
            "gridcolor": "white",
            "gridwidth": 2,
            "linecolor": "white",
            "showbackground": true,
            "ticks": "",
            "zerolinecolor": "white"
           },
           "yaxis": {
            "backgroundcolor": "#E5ECF6",
            "gridcolor": "white",
            "gridwidth": 2,
            "linecolor": "white",
            "showbackground": true,
            "ticks": "",
            "zerolinecolor": "white"
           },
           "zaxis": {
            "backgroundcolor": "#E5ECF6",
            "gridcolor": "white",
            "gridwidth": 2,
            "linecolor": "white",
            "showbackground": true,
            "ticks": "",
            "zerolinecolor": "white"
           }
          },
          "shapedefaults": {
           "line": {
            "color": "#2a3f5f"
           }
          },
          "ternary": {
           "aaxis": {
            "gridcolor": "white",
            "linecolor": "white",
            "ticks": ""
           },
           "baxis": {
            "gridcolor": "white",
            "linecolor": "white",
            "ticks": ""
           },
           "bgcolor": "#E5ECF6",
           "caxis": {
            "gridcolor": "white",
            "linecolor": "white",
            "ticks": ""
           }
          },
          "title": {
           "x": 0.05
          },
          "xaxis": {
           "automargin": true,
           "gridcolor": "white",
           "linecolor": "white",
           "ticks": "",
           "title": {
            "standoff": 15
           },
           "zerolinecolor": "white",
           "zerolinewidth": 2
          },
          "yaxis": {
           "automargin": true,
           "gridcolor": "white",
           "linecolor": "white",
           "ticks": "",
           "title": {
            "standoff": 15
           },
           "zerolinecolor": "white",
           "zerolinewidth": 2
          }
         }
        },
        "title": {
         "text": "TIMELINE"
        },
        "updatemenus": [
         {
          "buttons": [
           {
            "args": [
             null,
             {
              "frame": {
               "duration": 500,
               "redraw": true
              },
              "fromcurrent": true,
              "mode": "immediate",
              "transition": {
               "duration": 500,
               "easing": "linear"
              }
             }
            ],
            "label": "&#9654;",
            "method": "animate"
           },
           {
            "args": [
             [
              null
             ],
             {
              "frame": {
               "duration": 0,
               "redraw": true
              },
              "fromcurrent": true,
              "mode": "immediate",
              "transition": {
               "duration": 0,
               "easing": "linear"
              }
             }
            ],
            "label": "&#9724;",
            "method": "animate"
           }
          ],
          "direction": "left",
          "pad": {
           "r": 10,
           "t": 70
          },
          "showactive": false,
          "type": "buttons",
          "x": 0.1,
          "xanchor": "right",
          "y": 0,
          "yanchor": "top"
         }
        ],
        "xaxis": {
         "anchor": "y",
         "domain": [
          0,
          1
         ],
         "title": {
          "text": "x"
         }
        },
        "yaxis": {
         "anchor": "x",
         "domain": [
          0,
          1
         ],
         "title": {
          "text": "y"
         }
        }
       }
      },
      "text/html": [
       "<div>                            <div id=\"b58cf015-7df5-48da-b826-ef16b8e1771f\" class=\"plotly-graph-div\" style=\"height:525px; width:100%;\"></div>            <script type=\"text/javascript\">                require([\"plotly\"], function(Plotly) {                    window.PLOTLYENV=window.PLOTLYENV || {};                                    if (document.getElementById(\"b58cf015-7df5-48da-b826-ef16b8e1771f\")) {                    Plotly.newPlot(                        \"b58cf015-7df5-48da-b826-ef16b8e1771f\",                        [{\"alignmentgroup\":\"True\",\"hovertemplate\":\"animation_frame=Team 1<br>x=%{x}<br>y=%{y}<extra></extra>\",\"legendgroup\":\"\",\"marker\":{\"color\":\"#636efa\",\"pattern\":{\"shape\":\"\"}},\"name\":\"\",\"offsetgroup\":\"\",\"orientation\":\"h\",\"showlegend\":false,\"textposition\":\"auto\",\"x\":[1647.0],\"xaxis\":\"x\",\"y\":[\"Team 1\"],\"yaxis\":\"y\",\"type\":\"bar\"}],                        {\"template\":{\"data\":{\"bar\":[{\"error_x\":{\"color\":\"#2a3f5f\"},\"error_y\":{\"color\":\"#2a3f5f\"},\"marker\":{\"line\":{\"color\":\"#E5ECF6\",\"width\":0.5},\"pattern\":{\"fillmode\":\"overlay\",\"size\":10,\"solidity\":0.2}},\"type\":\"bar\"}],\"barpolar\":[{\"marker\":{\"line\":{\"color\":\"#E5ECF6\",\"width\":0.5},\"pattern\":{\"fillmode\":\"overlay\",\"size\":10,\"solidity\":0.2}},\"type\":\"barpolar\"}],\"carpet\":[{\"aaxis\":{\"endlinecolor\":\"#2a3f5f\",\"gridcolor\":\"white\",\"linecolor\":\"white\",\"minorgridcolor\":\"white\",\"startlinecolor\":\"#2a3f5f\"},\"baxis\":{\"endlinecolor\":\"#2a3f5f\",\"gridcolor\":\"white\",\"linecolor\":\"white\",\"minorgridcolor\":\"white\",\"startlinecolor\":\"#2a3f5f\"},\"type\":\"carpet\"}],\"choropleth\":[{\"colorbar\":{\"outlinewidth\":0,\"ticks\":\"\"},\"type\":\"choropleth\"}],\"contour\":[{\"colorbar\":{\"outlinewidth\":0,\"ticks\":\"\"},\"colorscale\":[[0.0,\"#0d0887\"],[0.1111111111111111,\"#46039f\"],[0.2222222222222222,\"#7201a8\"],[0.3333333333333333,\"#9c179e\"],[0.4444444444444444,\"#bd3786\"],[0.5555555555555556,\"#d8576b\"],[0.6666666666666666,\"#ed7953\"],[0.7777777777777778,\"#fb9f3a\"],[0.8888888888888888,\"#fdca26\"],[1.0,\"#f0f921\"]],\"type\":\"contour\"}],\"contourcarpet\":[{\"colorbar\":{\"outlinewidth\":0,\"ticks\":\"\"},\"type\":\"contourcarpet\"}],\"heatmap\":[{\"colorbar\":{\"outlinewidth\":0,\"ticks\":\"\"},\"colorscale\":[[0.0,\"#0d0887\"],[0.1111111111111111,\"#46039f\"],[0.2222222222222222,\"#7201a8\"],[0.3333333333333333,\"#9c179e\"],[0.4444444444444444,\"#bd3786\"],[0.5555555555555556,\"#d8576b\"],[0.6666666666666666,\"#ed7953\"],[0.7777777777777778,\"#fb9f3a\"],[0.8888888888888888,\"#fdca26\"],[1.0,\"#f0f921\"]],\"type\":\"heatmap\"}],\"heatmapgl\":[{\"colorbar\":{\"outlinewidth\":0,\"ticks\":\"\"},\"colorscale\":[[0.0,\"#0d0887\"],[0.1111111111111111,\"#46039f\"],[0.2222222222222222,\"#7201a8\"],[0.3333333333333333,\"#9c179e\"],[0.4444444444444444,\"#bd3786\"],[0.5555555555555556,\"#d8576b\"],[0.6666666666666666,\"#ed7953\"],[0.7777777777777778,\"#fb9f3a\"],[0.8888888888888888,\"#fdca26\"],[1.0,\"#f0f921\"]],\"type\":\"heatmapgl\"}],\"histogram\":[{\"marker\":{\"pattern\":{\"fillmode\":\"overlay\",\"size\":10,\"solidity\":0.2}},\"type\":\"histogram\"}],\"histogram2d\":[{\"colorbar\":{\"outlinewidth\":0,\"ticks\":\"\"},\"colorscale\":[[0.0,\"#0d0887\"],[0.1111111111111111,\"#46039f\"],[0.2222222222222222,\"#7201a8\"],[0.3333333333333333,\"#9c179e\"],[0.4444444444444444,\"#bd3786\"],[0.5555555555555556,\"#d8576b\"],[0.6666666666666666,\"#ed7953\"],[0.7777777777777778,\"#fb9f3a\"],[0.8888888888888888,\"#fdca26\"],[1.0,\"#f0f921\"]],\"type\":\"histogram2d\"}],\"histogram2dcontour\":[{\"colorbar\":{\"outlinewidth\":0,\"ticks\":\"\"},\"colorscale\":[[0.0,\"#0d0887\"],[0.1111111111111111,\"#46039f\"],[0.2222222222222222,\"#7201a8\"],[0.3333333333333333,\"#9c179e\"],[0.4444444444444444,\"#bd3786\"],[0.5555555555555556,\"#d8576b\"],[0.6666666666666666,\"#ed7953\"],[0.7777777777777778,\"#fb9f3a\"],[0.8888888888888888,\"#fdca26\"],[1.0,\"#f0f921\"]],\"type\":\"histogram2dcontour\"}],\"mesh3d\":[{\"colorbar\":{\"outlinewidth\":0,\"ticks\":\"\"},\"type\":\"mesh3d\"}],\"parcoords\":[{\"line\":{\"colorbar\":{\"outlinewidth\":0,\"ticks\":\"\"}},\"type\":\"parcoords\"}],\"pie\":[{\"automargin\":true,\"type\":\"pie\"}],\"scatter\":[{\"marker\":{\"colorbar\":{\"outlinewidth\":0,\"ticks\":\"\"}},\"type\":\"scatter\"}],\"scatter3d\":[{\"line\":{\"colorbar\":{\"outlinewidth\":0,\"ticks\":\"\"}},\"marker\":{\"colorbar\":{\"outlinewidth\":0,\"ticks\":\"\"}},\"type\":\"scatter3d\"}],\"scattercarpet\":[{\"marker\":{\"colorbar\":{\"outlinewidth\":0,\"ticks\":\"\"}},\"type\":\"scattercarpet\"}],\"scattergeo\":[{\"marker\":{\"colorbar\":{\"outlinewidth\":0,\"ticks\":\"\"}},\"type\":\"scattergeo\"}],\"scattergl\":[{\"marker\":{\"colorbar\":{\"outlinewidth\":0,\"ticks\":\"\"}},\"type\":\"scattergl\"}],\"scattermapbox\":[{\"marker\":{\"colorbar\":{\"outlinewidth\":0,\"ticks\":\"\"}},\"type\":\"scattermapbox\"}],\"scatterpolar\":[{\"marker\":{\"colorbar\":{\"outlinewidth\":0,\"ticks\":\"\"}},\"type\":\"scatterpolar\"}],\"scatterpolargl\":[{\"marker\":{\"colorbar\":{\"outlinewidth\":0,\"ticks\":\"\"}},\"type\":\"scatterpolargl\"}],\"scatterternary\":[{\"marker\":{\"colorbar\":{\"outlinewidth\":0,\"ticks\":\"\"}},\"type\":\"scatterternary\"}],\"surface\":[{\"colorbar\":{\"outlinewidth\":0,\"ticks\":\"\"},\"colorscale\":[[0.0,\"#0d0887\"],[0.1111111111111111,\"#46039f\"],[0.2222222222222222,\"#7201a8\"],[0.3333333333333333,\"#9c179e\"],[0.4444444444444444,\"#bd3786\"],[0.5555555555555556,\"#d8576b\"],[0.6666666666666666,\"#ed7953\"],[0.7777777777777778,\"#fb9f3a\"],[0.8888888888888888,\"#fdca26\"],[1.0,\"#f0f921\"]],\"type\":\"surface\"}],\"table\":[{\"cells\":{\"fill\":{\"color\":\"#EBF0F8\"},\"line\":{\"color\":\"white\"}},\"header\":{\"fill\":{\"color\":\"#C8D4E3\"},\"line\":{\"color\":\"white\"}},\"type\":\"table\"}]},\"layout\":{\"annotationdefaults\":{\"arrowcolor\":\"#2a3f5f\",\"arrowhead\":0,\"arrowwidth\":1},\"autotypenumbers\":\"strict\",\"coloraxis\":{\"colorbar\":{\"outlinewidth\":0,\"ticks\":\"\"}},\"colorscale\":{\"diverging\":[[0,\"#8e0152\"],[0.1,\"#c51b7d\"],[0.2,\"#de77ae\"],[0.3,\"#f1b6da\"],[0.4,\"#fde0ef\"],[0.5,\"#f7f7f7\"],[0.6,\"#e6f5d0\"],[0.7,\"#b8e186\"],[0.8,\"#7fbc41\"],[0.9,\"#4d9221\"],[1,\"#276419\"]],\"sequential\":[[0.0,\"#0d0887\"],[0.1111111111111111,\"#46039f\"],[0.2222222222222222,\"#7201a8\"],[0.3333333333333333,\"#9c179e\"],[0.4444444444444444,\"#bd3786\"],[0.5555555555555556,\"#d8576b\"],[0.6666666666666666,\"#ed7953\"],[0.7777777777777778,\"#fb9f3a\"],[0.8888888888888888,\"#fdca26\"],[1.0,\"#f0f921\"]],\"sequentialminus\":[[0.0,\"#0d0887\"],[0.1111111111111111,\"#46039f\"],[0.2222222222222222,\"#7201a8\"],[0.3333333333333333,\"#9c179e\"],[0.4444444444444444,\"#bd3786\"],[0.5555555555555556,\"#d8576b\"],[0.6666666666666666,\"#ed7953\"],[0.7777777777777778,\"#fb9f3a\"],[0.8888888888888888,\"#fdca26\"],[1.0,\"#f0f921\"]]},\"colorway\":[\"#636efa\",\"#EF553B\",\"#00cc96\",\"#ab63fa\",\"#FFA15A\",\"#19d3f3\",\"#FF6692\",\"#B6E880\",\"#FF97FF\",\"#FECB52\"],\"font\":{\"color\":\"#2a3f5f\"},\"geo\":{\"bgcolor\":\"white\",\"lakecolor\":\"white\",\"landcolor\":\"#E5ECF6\",\"showlakes\":true,\"showland\":true,\"subunitcolor\":\"white\"},\"hoverlabel\":{\"align\":\"left\"},\"hovermode\":\"closest\",\"mapbox\":{\"style\":\"light\"},\"paper_bgcolor\":\"white\",\"plot_bgcolor\":\"#E5ECF6\",\"polar\":{\"angularaxis\":{\"gridcolor\":\"white\",\"linecolor\":\"white\",\"ticks\":\"\"},\"bgcolor\":\"#E5ECF6\",\"radialaxis\":{\"gridcolor\":\"white\",\"linecolor\":\"white\",\"ticks\":\"\"}},\"scene\":{\"xaxis\":{\"backgroundcolor\":\"#E5ECF6\",\"gridcolor\":\"white\",\"gridwidth\":2,\"linecolor\":\"white\",\"showbackground\":true,\"ticks\":\"\",\"zerolinecolor\":\"white\"},\"yaxis\":{\"backgroundcolor\":\"#E5ECF6\",\"gridcolor\":\"white\",\"gridwidth\":2,\"linecolor\":\"white\",\"showbackground\":true,\"ticks\":\"\",\"zerolinecolor\":\"white\"},\"zaxis\":{\"backgroundcolor\":\"#E5ECF6\",\"gridcolor\":\"white\",\"gridwidth\":2,\"linecolor\":\"white\",\"showbackground\":true,\"ticks\":\"\",\"zerolinecolor\":\"white\"}},\"shapedefaults\":{\"line\":{\"color\":\"#2a3f5f\"}},\"ternary\":{\"aaxis\":{\"gridcolor\":\"white\",\"linecolor\":\"white\",\"ticks\":\"\"},\"baxis\":{\"gridcolor\":\"white\",\"linecolor\":\"white\",\"ticks\":\"\"},\"bgcolor\":\"#E5ECF6\",\"caxis\":{\"gridcolor\":\"white\",\"linecolor\":\"white\",\"ticks\":\"\"}},\"title\":{\"x\":0.05},\"xaxis\":{\"automargin\":true,\"gridcolor\":\"white\",\"linecolor\":\"white\",\"ticks\":\"\",\"title\":{\"standoff\":15},\"zerolinecolor\":\"white\",\"zerolinewidth\":2},\"yaxis\":{\"automargin\":true,\"gridcolor\":\"white\",\"linecolor\":\"white\",\"ticks\":\"\",\"title\":{\"standoff\":15},\"zerolinecolor\":\"white\",\"zerolinewidth\":2}}},\"xaxis\":{\"anchor\":\"y\",\"domain\":[0.0,1.0],\"title\":{\"text\":\"x\"}},\"yaxis\":{\"anchor\":\"x\",\"domain\":[0.0,1.0],\"title\":{\"text\":\"y\"}},\"legend\":{\"tracegroupgap\":0},\"title\":{\"text\":\"TIMELINE\"},\"barmode\":\"relative\",\"updatemenus\":[{\"buttons\":[{\"args\":[null,{\"frame\":{\"duration\":500,\"redraw\":true},\"mode\":\"immediate\",\"fromcurrent\":true,\"transition\":{\"duration\":500,\"easing\":\"linear\"}}],\"label\":\"&#9654;\",\"method\":\"animate\"},{\"args\":[[null],{\"frame\":{\"duration\":0,\"redraw\":true},\"mode\":\"immediate\",\"fromcurrent\":true,\"transition\":{\"duration\":0,\"easing\":\"linear\"}}],\"label\":\"&#9724;\",\"method\":\"animate\"}],\"direction\":\"left\",\"pad\":{\"r\":10,\"t\":70},\"showactive\":false,\"type\":\"buttons\",\"x\":0.1,\"xanchor\":\"right\",\"y\":0,\"yanchor\":\"top\"}],\"sliders\":[{\"active\":0,\"currentvalue\":{\"prefix\":\"animation_frame=\"},\"len\":0.9,\"pad\":{\"b\":10,\"t\":60},\"steps\":[{\"args\":[[\"Team 1\"],{\"frame\":{\"duration\":0,\"redraw\":true},\"mode\":\"immediate\",\"fromcurrent\":true,\"transition\":{\"duration\":0,\"easing\":\"linear\"}}],\"label\":\"Team 1\",\"method\":\"animate\"},{\"args\":[[\"Team 2\"],{\"frame\":{\"duration\":0,\"redraw\":true},\"mode\":\"immediate\",\"fromcurrent\":true,\"transition\":{\"duration\":0,\"easing\":\"linear\"}}],\"label\":\"Team 2\",\"method\":\"animate\"},{\"args\":[[\"Team 3\"],{\"frame\":{\"duration\":0,\"redraw\":true},\"mode\":\"immediate\",\"fromcurrent\":true,\"transition\":{\"duration\":0,\"easing\":\"linear\"}}],\"label\":\"Team 3\",\"method\":\"animate\"},{\"args\":[[\"Team 5\"],{\"frame\":{\"duration\":0,\"redraw\":true},\"mode\":\"immediate\",\"fromcurrent\":true,\"transition\":{\"duration\":0,\"easing\":\"linear\"}}],\"label\":\"Team 5\",\"method\":\"animate\"},{\"args\":[[\"Team 4\"],{\"frame\":{\"duration\":0,\"redraw\":true},\"mode\":\"immediate\",\"fromcurrent\":true,\"transition\":{\"duration\":0,\"easing\":\"linear\"}}],\"label\":\"Team 4\",\"method\":\"animate\"},{\"args\":[[\"Team 6\"],{\"frame\":{\"duration\":0,\"redraw\":true},\"mode\":\"immediate\",\"fromcurrent\":true,\"transition\":{\"duration\":0,\"easing\":\"linear\"}}],\"label\":\"Team 6\",\"method\":\"animate\"},{\"args\":[[\"Team 7\"],{\"frame\":{\"duration\":0,\"redraw\":true},\"mode\":\"immediate\",\"fromcurrent\":true,\"transition\":{\"duration\":0,\"easing\":\"linear\"}}],\"label\":\"Team 7\",\"method\":\"animate\"},{\"args\":[[\"Team 8\"],{\"frame\":{\"duration\":0,\"redraw\":true},\"mode\":\"immediate\",\"fromcurrent\":true,\"transition\":{\"duration\":0,\"easing\":\"linear\"}}],\"label\":\"Team 8\",\"method\":\"animate\"},{\"args\":[[\"Team 9\"],{\"frame\":{\"duration\":0,\"redraw\":true},\"mode\":\"immediate\",\"fromcurrent\":true,\"transition\":{\"duration\":0,\"easing\":\"linear\"}}],\"label\":\"Team 9\",\"method\":\"animate\"},{\"args\":[[\"Team 10\"],{\"frame\":{\"duration\":0,\"redraw\":true},\"mode\":\"immediate\",\"fromcurrent\":true,\"transition\":{\"duration\":0,\"easing\":\"linear\"}}],\"label\":\"Team 10\",\"method\":\"animate\"},{\"args\":[[\"Team 12\"],{\"frame\":{\"duration\":0,\"redraw\":true},\"mode\":\"immediate\",\"fromcurrent\":true,\"transition\":{\"duration\":0,\"easing\":\"linear\"}}],\"label\":\"Team 12\",\"method\":\"animate\"},{\"args\":[[\"Team 11\"],{\"frame\":{\"duration\":0,\"redraw\":true},\"mode\":\"immediate\",\"fromcurrent\":true,\"transition\":{\"duration\":0,\"easing\":\"linear\"}}],\"label\":\"Team 11\",\"method\":\"animate\"},{\"args\":[[\"Team 15\"],{\"frame\":{\"duration\":0,\"redraw\":true},\"mode\":\"immediate\",\"fromcurrent\":true,\"transition\":{\"duration\":0,\"easing\":\"linear\"}}],\"label\":\"Team 15\",\"method\":\"animate\"},{\"args\":[[\"Team 13\"],{\"frame\":{\"duration\":0,\"redraw\":true},\"mode\":\"immediate\",\"fromcurrent\":true,\"transition\":{\"duration\":0,\"easing\":\"linear\"}}],\"label\":\"Team 13\",\"method\":\"animate\"},{\"args\":[[\"Team 14\"],{\"frame\":{\"duration\":0,\"redraw\":true},\"mode\":\"immediate\",\"fromcurrent\":true,\"transition\":{\"duration\":0,\"easing\":\"linear\"}}],\"label\":\"Team 14\",\"method\":\"animate\"},{\"args\":[[\"Team 16\"],{\"frame\":{\"duration\":0,\"redraw\":true},\"mode\":\"immediate\",\"fromcurrent\":true,\"transition\":{\"duration\":0,\"easing\":\"linear\"}}],\"label\":\"Team 16\",\"method\":\"animate\"},{\"args\":[[\"Team 18\"],{\"frame\":{\"duration\":0,\"redraw\":true},\"mode\":\"immediate\",\"fromcurrent\":true,\"transition\":{\"duration\":0,\"easing\":\"linear\"}}],\"label\":\"Team 18\",\"method\":\"animate\"},{\"args\":[[\"Team 17\"],{\"frame\":{\"duration\":0,\"redraw\":true},\"mode\":\"immediate\",\"fromcurrent\":true,\"transition\":{\"duration\":0,\"easing\":\"linear\"}}],\"label\":\"Team 17\",\"method\":\"animate\"},{\"args\":[[\"Team 20\"],{\"frame\":{\"duration\":0,\"redraw\":true},\"mode\":\"immediate\",\"fromcurrent\":true,\"transition\":{\"duration\":0,\"easing\":\"linear\"}}],\"label\":\"Team 20\",\"method\":\"animate\"},{\"args\":[[\"Team 19\"],{\"frame\":{\"duration\":0,\"redraw\":true},\"mode\":\"immediate\",\"fromcurrent\":true,\"transition\":{\"duration\":0,\"easing\":\"linear\"}}],\"label\":\"Team 19\",\"method\":\"animate\"}],\"x\":0.1,\"xanchor\":\"left\",\"y\":0,\"yanchor\":\"top\"}]},                        {\"responsive\": true}                    ).then(function(){\n",
       "                            Plotly.addFrames('b58cf015-7df5-48da-b826-ef16b8e1771f', [{\"data\":[{\"alignmentgroup\":\"True\",\"hovertemplate\":\"animation_frame=Team 1<br>x=%{x}<br>y=%{y}<extra></extra>\",\"legendgroup\":\"\",\"marker\":{\"color\":\"#636efa\",\"pattern\":{\"shape\":\"\"}},\"name\":\"\",\"offsetgroup\":\"\",\"orientation\":\"h\",\"showlegend\":false,\"textposition\":\"auto\",\"x\":[1647.0],\"xaxis\":\"x\",\"y\":[\"Team 1\"],\"yaxis\":\"y\",\"type\":\"bar\"}],\"name\":\"Team 1\"},{\"data\":[{\"alignmentgroup\":\"True\",\"hovertemplate\":\"animation_frame=Team 2<br>x=%{x}<br>y=%{y}<extra></extra>\",\"legendgroup\":\"\",\"marker\":{\"color\":\"#636efa\",\"pattern\":{\"shape\":\"\"}},\"name\":\"\",\"offsetgroup\":\"\",\"orientation\":\"h\",\"showlegend\":false,\"textposition\":\"auto\",\"x\":[1581.0],\"xaxis\":\"x\",\"y\":[\"Team 2\"],\"yaxis\":\"y\",\"type\":\"bar\"}],\"name\":\"Team 2\"},{\"data\":[{\"alignmentgroup\":\"True\",\"hovertemplate\":\"animation_frame=Team 3<br>x=%{x}<br>y=%{y}<extra></extra>\",\"legendgroup\":\"\",\"marker\":{\"color\":\"#636efa\",\"pattern\":{\"shape\":\"\"}},\"name\":\"\",\"offsetgroup\":\"\",\"orientation\":\"h\",\"showlegend\":false,\"textposition\":\"auto\",\"x\":[1241.0],\"xaxis\":\"x\",\"y\":[\"Team 3\"],\"yaxis\":\"y\",\"type\":\"bar\"}],\"name\":\"Team 3\"},{\"data\":[{\"alignmentgroup\":\"True\",\"hovertemplate\":\"animation_frame=Team 5<br>x=%{x}<br>y=%{y}<extra></extra>\",\"legendgroup\":\"\",\"marker\":{\"color\":\"#636efa\",\"pattern\":{\"shape\":\"\"}},\"name\":\"\",\"offsetgroup\":\"\",\"orientation\":\"h\",\"showlegend\":false,\"textposition\":\"auto\",\"x\":[1209.0],\"xaxis\":\"x\",\"y\":[\"Team 5\"],\"yaxis\":\"y\",\"type\":\"bar\"}],\"name\":\"Team 5\"},{\"data\":[{\"alignmentgroup\":\"True\",\"hovertemplate\":\"animation_frame=Team 4<br>x=%{x}<br>y=%{y}<extra></extra>\",\"legendgroup\":\"\",\"marker\":{\"color\":\"#636efa\",\"pattern\":{\"shape\":\"\"}},\"name\":\"\",\"offsetgroup\":\"\",\"orientation\":\"h\",\"showlegend\":false,\"textposition\":\"auto\",\"x\":[1187.0],\"xaxis\":\"x\",\"y\":[\"Team 4\"],\"yaxis\":\"y\",\"type\":\"bar\"}],\"name\":\"Team 4\"},{\"data\":[{\"alignmentgroup\":\"True\",\"hovertemplate\":\"animation_frame=Team 6<br>x=%{x}<br>y=%{y}<extra></extra>\",\"legendgroup\":\"\",\"marker\":{\"color\":\"#636efa\",\"pattern\":{\"shape\":\"\"}},\"name\":\"\",\"offsetgroup\":\"\",\"orientation\":\"h\",\"showlegend\":false,\"textposition\":\"auto\",\"x\":[990.0],\"xaxis\":\"x\",\"y\":[\"Team 6\"],\"yaxis\":\"y\",\"type\":\"bar\"}],\"name\":\"Team 6\"},{\"data\":[{\"alignmentgroup\":\"True\",\"hovertemplate\":\"animation_frame=Team 7<br>x=%{x}<br>y=%{y}<extra></extra>\",\"legendgroup\":\"\",\"marker\":{\"color\":\"#636efa\",\"pattern\":{\"shape\":\"\"}},\"name\":\"\",\"offsetgroup\":\"\",\"orientation\":\"h\",\"showlegend\":false,\"textposition\":\"auto\",\"x\":[948.0],\"xaxis\":\"x\",\"y\":[\"Team 7\"],\"yaxis\":\"y\",\"type\":\"bar\"}],\"name\":\"Team 7\"},{\"data\":[{\"alignmentgroup\":\"True\",\"hovertemplate\":\"animation_frame=Team 8<br>x=%{x}<br>y=%{y}<extra></extra>\",\"legendgroup\":\"\",\"marker\":{\"color\":\"#636efa\",\"pattern\":{\"shape\":\"\"}},\"name\":\"\",\"offsetgroup\":\"\",\"orientation\":\"h\",\"showlegend\":false,\"textposition\":\"auto\",\"x\":[864.0],\"xaxis\":\"x\",\"y\":[\"Team 8\"],\"yaxis\":\"y\",\"type\":\"bar\"}],\"name\":\"Team 8\"},{\"data\":[{\"alignmentgroup\":\"True\",\"hovertemplate\":\"animation_frame=Team 9<br>x=%{x}<br>y=%{y}<extra></extra>\",\"legendgroup\":\"\",\"marker\":{\"color\":\"#636efa\",\"pattern\":{\"shape\":\"\"}},\"name\":\"\",\"offsetgroup\":\"\",\"orientation\":\"h\",\"showlegend\":false,\"textposition\":\"auto\",\"x\":[698.0],\"xaxis\":\"x\",\"y\":[\"Team 9\"],\"yaxis\":\"y\",\"type\":\"bar\"}],\"name\":\"Team 9\"},{\"data\":[{\"alignmentgroup\":\"True\",\"hovertemplate\":\"animation_frame=Team 10<br>x=%{x}<br>y=%{y}<extra></extra>\",\"legendgroup\":\"\",\"marker\":{\"color\":\"#636efa\",\"pattern\":{\"shape\":\"\"}},\"name\":\"\",\"offsetgroup\":\"\",\"orientation\":\"h\",\"showlegend\":false,\"textposition\":\"auto\",\"x\":[606.0],\"xaxis\":\"x\",\"y\":[\"Team 10\"],\"yaxis\":\"y\",\"type\":\"bar\"}],\"name\":\"Team 10\"},{\"data\":[{\"alignmentgroup\":\"True\",\"hovertemplate\":\"animation_frame=Team 12<br>x=%{x}<br>y=%{y}<extra></extra>\",\"legendgroup\":\"\",\"marker\":{\"color\":\"#636efa\",\"pattern\":{\"shape\":\"\"}},\"name\":\"\",\"offsetgroup\":\"\",\"orientation\":\"h\",\"showlegend\":false,\"textposition\":\"auto\",\"x\":[586.0],\"xaxis\":\"x\",\"y\":[\"Team 12\"],\"yaxis\":\"y\",\"type\":\"bar\"}],\"name\":\"Team 12\"},{\"data\":[{\"alignmentgroup\":\"True\",\"hovertemplate\":\"animation_frame=Team 11<br>x=%{x}<br>y=%{y}<extra></extra>\",\"legendgroup\":\"\",\"marker\":{\"color\":\"#636efa\",\"pattern\":{\"shape\":\"\"}},\"name\":\"\",\"offsetgroup\":\"\",\"orientation\":\"h\",\"showlegend\":false,\"textposition\":\"auto\",\"x\":[563.0],\"xaxis\":\"x\",\"y\":[\"Team 11\"],\"yaxis\":\"y\",\"type\":\"bar\"}],\"name\":\"Team 11\"},{\"data\":[{\"alignmentgroup\":\"True\",\"hovertemplate\":\"animation_frame=Team 15<br>x=%{x}<br>y=%{y}<extra></extra>\",\"legendgroup\":\"\",\"marker\":{\"color\":\"#636efa\",\"pattern\":{\"shape\":\"\"}},\"name\":\"\",\"offsetgroup\":\"\",\"orientation\":\"h\",\"showlegend\":false,\"textposition\":\"auto\",\"x\":[471.0],\"xaxis\":\"x\",\"y\":[\"Team 15\"],\"yaxis\":\"y\",\"type\":\"bar\"}],\"name\":\"Team 15\"},{\"data\":[{\"alignmentgroup\":\"True\",\"hovertemplate\":\"animation_frame=Team 13<br>x=%{x}<br>y=%{y}<extra></extra>\",\"legendgroup\":\"\",\"marker\":{\"color\":\"#636efa\",\"pattern\":{\"shape\":\"\"}},\"name\":\"\",\"offsetgroup\":\"\",\"orientation\":\"h\",\"showlegend\":false,\"textposition\":\"auto\",\"x\":[463.0],\"xaxis\":\"x\",\"y\":[\"Team 13\"],\"yaxis\":\"y\",\"type\":\"bar\"}],\"name\":\"Team 13\"},{\"data\":[{\"alignmentgroup\":\"True\",\"hovertemplate\":\"animation_frame=Team 14<br>x=%{x}<br>y=%{y}<extra></extra>\",\"legendgroup\":\"\",\"marker\":{\"color\":\"#636efa\",\"pattern\":{\"shape\":\"\"}},\"name\":\"\",\"offsetgroup\":\"\",\"orientation\":\"h\",\"showlegend\":false,\"textposition\":\"auto\",\"x\":[453.0],\"xaxis\":\"x\",\"y\":[\"Team 14\"],\"yaxis\":\"y\",\"type\":\"bar\"}],\"name\":\"Team 14\"},{\"data\":[{\"alignmentgroup\":\"True\",\"hovertemplate\":\"animation_frame=Team 16<br>x=%{x}<br>y=%{y}<extra></extra>\",\"legendgroup\":\"\",\"marker\":{\"color\":\"#636efa\",\"pattern\":{\"shape\":\"\"}},\"name\":\"\",\"offsetgroup\":\"\",\"orientation\":\"h\",\"showlegend\":false,\"textposition\":\"auto\",\"x\":[426.0],\"xaxis\":\"x\",\"y\":[\"Team 16\"],\"yaxis\":\"y\",\"type\":\"bar\"}],\"name\":\"Team 16\"},{\"data\":[{\"alignmentgroup\":\"True\",\"hovertemplate\":\"animation_frame=Team 18<br>x=%{x}<br>y=%{y}<extra></extra>\",\"legendgroup\":\"\",\"marker\":{\"color\":\"#636efa\",\"pattern\":{\"shape\":\"\"}},\"name\":\"\",\"offsetgroup\":\"\",\"orientation\":\"h\",\"showlegend\":false,\"textposition\":\"auto\",\"x\":[408.0],\"xaxis\":\"x\",\"y\":[\"Team 18\"],\"yaxis\":\"y\",\"type\":\"bar\"}],\"name\":\"Team 18\"},{\"data\":[{\"alignmentgroup\":\"True\",\"hovertemplate\":\"animation_frame=Team 17<br>x=%{x}<br>y=%{y}<extra></extra>\",\"legendgroup\":\"\",\"marker\":{\"color\":\"#636efa\",\"pattern\":{\"shape\":\"\"}},\"name\":\"\",\"offsetgroup\":\"\",\"orientation\":\"h\",\"showlegend\":false,\"textposition\":\"auto\",\"x\":[390.0],\"xaxis\":\"x\",\"y\":[\"Team 17\"],\"yaxis\":\"y\",\"type\":\"bar\"}],\"name\":\"Team 17\"},{\"data\":[{\"alignmentgroup\":\"True\",\"hovertemplate\":\"animation_frame=Team 20<br>x=%{x}<br>y=%{y}<extra></extra>\",\"legendgroup\":\"\",\"marker\":{\"color\":\"#636efa\",\"pattern\":{\"shape\":\"\"}},\"name\":\"\",\"offsetgroup\":\"\",\"orientation\":\"h\",\"showlegend\":false,\"textposition\":\"auto\",\"x\":[367.0],\"xaxis\":\"x\",\"y\":[\"Team 20\"],\"yaxis\":\"y\",\"type\":\"bar\"}],\"name\":\"Team 20\"},{\"data\":[{\"alignmentgroup\":\"True\",\"hovertemplate\":\"animation_frame=Team 19<br>x=%{x}<br>y=%{y}<extra></extra>\",\"legendgroup\":\"\",\"marker\":{\"color\":\"#636efa\",\"pattern\":{\"shape\":\"\"}},\"name\":\"\",\"offsetgroup\":\"\",\"orientation\":\"h\",\"showlegend\":false,\"textposition\":\"auto\",\"x\":[333.0],\"xaxis\":\"x\",\"y\":[\"Team 19\"],\"yaxis\":\"y\",\"type\":\"bar\"}],\"name\":\"Team 19\"}]);\n",
       "                        }).then(function(){\n",
       "                            \n",
       "var gd = document.getElementById('b58cf015-7df5-48da-b826-ef16b8e1771f');\n",
       "var x = new MutationObserver(function (mutations, observer) {{\n",
       "        var display = window.getComputedStyle(gd).display;\n",
       "        if (!display || display === 'none') {{\n",
       "            console.log([gd, 'removed!']);\n",
       "            Plotly.purge(gd);\n",
       "            observer.disconnect();\n",
       "        }}\n",
       "}});\n",
       "\n",
       "// Listen for the removal of the full notebook cells\n",
       "var notebookContainer = gd.closest('#notebook-container');\n",
       "if (notebookContainer) {{\n",
       "    x.observe(notebookContainer, {childList: true});\n",
       "}}\n",
       "\n",
       "// Listen for the clearing of the current output cell\n",
       "var outputEl = gd.closest('.output');\n",
       "if (outputEl) {{\n",
       "    x.observe(outputEl, {childList: true});\n",
       "}}\n",
       "\n",
       "                        })                };                });            </script>        </div>"
      ]
     },
     "metadata": {},
     "output_type": "display_data"
    }
   ],
   "source": [
    "import plotly.express as px\n",
    "px.bar(y=df_wongames['Team'], x= df_wongames['WonGames'],animation_frame=df_wongames['Team'],title='TIMELINE')"
   ]
  },
  {
   "cell_type": "code",
   "execution_count": 26,
   "id": "4c546242",
   "metadata": {},
   "outputs": [],
   "source": [
    "#we will find if the teams with max number of matches won also has the max number of baskets scored"
   ]
  },
  {
   "cell_type": "code",
   "execution_count": 38,
   "id": "2881577a",
   "metadata": {},
   "outputs": [
    {
     "data": {
      "image/png": "[encoded data removed]",
      "text/plain": [
       "<Figure size 432x288 with 1 Axes>"
      ]
     },
     "metadata": {
      "needs_background": "light"
     },
     "output_type": "display_data"
    }
   ],
   "source": [
    "sns.lineplot('Team', 'WonGames', data=df_wongames.head(10), color='red')\n",
    "sns.lineplot('Team', 'BasketScored', data=df_wongames.head(10), color='green')\n",
    "sns.lineplot('Team', 'BasketGiven', data=df_wongames.head(10), color='orange')\n",
    "sns.lineplot('Team', 'Score', data=df_wongames.head(10), color='black')\n",
    "plt.grid()\n",
    "plt.xticks(rotation=90)\n",
    "plt.legend(labels=['games won', 'baskets scored', 'baskets given', 'score'])\n",
    "plt.show()"
   ]
  },
  {
   "cell_type": "markdown",
   "id": "56277cff",
   "metadata": {},
   "source": [
    "### TEAM 1 has the highest score, max games won and baskets scored. \n",
    "*** Baskets given increases as number of matches won decreases\n"
   ]
  },
  {
   "cell_type": "code",
   "execution_count": 39,
   "id": "a4dc7548",
   "metadata": {},
   "outputs": [
    {
     "data": {
      "text/plain": [
       "<AxesSubplot:>"
      ]
     },
     "execution_count": 39,
     "metadata": {},
     "output_type": "execute_result"
    },
    {
     "data": {
      "image/png": "[encoded data removed]",
      "text/plain": [
       "<Figure size 432x288 with 2 Axes>"
      ]
     },
     "metadata": {
      "needs_background": "light"
     },
     "output_type": "display_data"
    }
   ],
   "source": [
    "sns.heatmap(df_wongames.corr(), annot=True)\n",
    "# there is a very strong correlation between games won,baskets scored and be score."
   ]
  },
  {
   "cell_type": "markdown",
   "id": "23db66c4",
   "metadata": {},
   "source": [
    "### Teams who have been tournament champions for the max number of times"
   ]
  },
  {
   "cell_type": "code",
   "execution_count": 40,
   "id": "716aaed6",
   "metadata": {},
   "outputs": [
    {
     "data": {
      "text/html": [
       "<div>\n",
       "<style scoped>\n",
       "    .dataframe tbody tr th:only-of-type {\n",
       "        vertical-align: middle;\n",
       "    }\n",
       "\n",
       "    .dataframe tbody tr th {\n",
       "        vertical-align: top;\n",
       "    }\n",
       "\n",
       "    .dataframe thead th {\n",
       "        text-align: right;\n",
       "    }\n",
       "</style>\n",
       "<table border=\"1\" class=\"dataframe\">\n",
       "  <thead>\n",
       "    <tr style=\"text-align: right;\">\n",
       "      <th></th>\n",
       "      <th>Team</th>\n",
       "      <th>Tournament</th>\n",
       "      <th>Score</th>\n",
       "      <th>PlayedGames</th>\n",
       "      <th>WonGames</th>\n",
       "      <th>DrawnGames</th>\n",
       "      <th>LostGames</th>\n",
       "      <th>BasketScored</th>\n",
       "      <th>BasketGiven</th>\n",
       "      <th>TournamentChampion</th>\n",
       "      <th>Runner-up</th>\n",
       "      <th>TeamLaunch</th>\n",
       "      <th>HighestPositionHeld</th>\n",
       "    </tr>\n",
       "  </thead>\n",
       "  <tbody>\n",
       "    <tr>\n",
       "      <th>0</th>\n",
       "      <td>Team 1</td>\n",
       "      <td>86.0</td>\n",
       "      <td>4385.0</td>\n",
       "      <td>2762.0</td>\n",
       "      <td>1647.0</td>\n",
       "      <td>552.0</td>\n",
       "      <td>563.0</td>\n",
       "      <td>5947.0</td>\n",
       "      <td>3140.0</td>\n",
       "      <td>33.0</td>\n",
       "      <td>23.0</td>\n",
       "      <td>1929</td>\n",
       "      <td>1</td>\n",
       "    </tr>\n",
       "    <tr>\n",
       "      <th>1</th>\n",
       "      <td>Team 2</td>\n",
       "      <td>86.0</td>\n",
       "      <td>4262.0</td>\n",
       "      <td>2762.0</td>\n",
       "      <td>1581.0</td>\n",
       "      <td>573.0</td>\n",
       "      <td>608.0</td>\n",
       "      <td>5900.0</td>\n",
       "      <td>3114.0</td>\n",
       "      <td>25.0</td>\n",
       "      <td>25.0</td>\n",
       "      <td>1929</td>\n",
       "      <td>1</td>\n",
       "    </tr>\n",
       "    <tr>\n",
       "      <th>2</th>\n",
       "      <td>Team 3</td>\n",
       "      <td>80.0</td>\n",
       "      <td>3442.0</td>\n",
       "      <td>2614.0</td>\n",
       "      <td>1241.0</td>\n",
       "      <td>598.0</td>\n",
       "      <td>775.0</td>\n",
       "      <td>4534.0</td>\n",
       "      <td>3309.0</td>\n",
       "      <td>10.0</td>\n",
       "      <td>8.0</td>\n",
       "      <td>1929</td>\n",
       "      <td>1</td>\n",
       "    </tr>\n",
       "    <tr>\n",
       "      <th>4</th>\n",
       "      <td>Team 5</td>\n",
       "      <td>86.0</td>\n",
       "      <td>3368.0</td>\n",
       "      <td>2762.0</td>\n",
       "      <td>1209.0</td>\n",
       "      <td>633.0</td>\n",
       "      <td>920.0</td>\n",
       "      <td>4631.0</td>\n",
       "      <td>3700.0</td>\n",
       "      <td>8.0</td>\n",
       "      <td>7.0</td>\n",
       "      <td>1929</td>\n",
       "      <td>1</td>\n",
       "    </tr>\n",
       "    <tr>\n",
       "      <th>3</th>\n",
       "      <td>Team 4</td>\n",
       "      <td>82.0</td>\n",
       "      <td>3386.0</td>\n",
       "      <td>2664.0</td>\n",
       "      <td>1187.0</td>\n",
       "      <td>616.0</td>\n",
       "      <td>861.0</td>\n",
       "      <td>4398.0</td>\n",
       "      <td>3469.0</td>\n",
       "      <td>6.0</td>\n",
       "      <td>6.0</td>\n",
       "      <td>1931to32</td>\n",
       "      <td>1</td>\n",
       "    </tr>\n",
       "    <tr>\n",
       "      <th>7</th>\n",
       "      <td>Team 8</td>\n",
       "      <td>70.0</td>\n",
       "      <td>2573.0</td>\n",
       "      <td>2302.0</td>\n",
       "      <td>864.0</td>\n",
       "      <td>577.0</td>\n",
       "      <td>861.0</td>\n",
       "      <td>3228.0</td>\n",
       "      <td>3230.0</td>\n",
       "      <td>2.0</td>\n",
       "      <td>3.0</td>\n",
       "      <td>1929</td>\n",
       "      <td>1</td>\n",
       "    </tr>\n",
       "    <tr>\n",
       "      <th>5</th>\n",
       "      <td>Team 6</td>\n",
       "      <td>73.0</td>\n",
       "      <td>2819.0</td>\n",
       "      <td>2408.0</td>\n",
       "      <td>990.0</td>\n",
       "      <td>531.0</td>\n",
       "      <td>887.0</td>\n",
       "      <td>3680.0</td>\n",
       "      <td>3373.0</td>\n",
       "      <td>1.0</td>\n",
       "      <td>4.0</td>\n",
       "      <td>1934-35</td>\n",
       "      <td>1</td>\n",
       "    </tr>\n",
       "    <tr>\n",
       "      <th>9</th>\n",
       "      <td>Team 10</td>\n",
       "      <td>51.0</td>\n",
       "      <td>1884.0</td>\n",
       "      <td>1728.0</td>\n",
       "      <td>606.0</td>\n",
       "      <td>440.0</td>\n",
       "      <td>682.0</td>\n",
       "      <td>2159.0</td>\n",
       "      <td>2492.0</td>\n",
       "      <td>1.0</td>\n",
       "      <td>NaN</td>\n",
       "      <td>1932-33</td>\n",
       "      <td>1</td>\n",
       "    </tr>\n",
       "    <tr>\n",
       "      <th>10</th>\n",
       "      <td>Team 11</td>\n",
       "      <td>45.0</td>\n",
       "      <td>1814.0</td>\n",
       "      <td>1530.0</td>\n",
       "      <td>563.0</td>\n",
       "      <td>392.0</td>\n",
       "      <td>575.0</td>\n",
       "      <td>2052.0</td>\n",
       "      <td>2188.0</td>\n",
       "      <td>1.0</td>\n",
       "      <td>5.0</td>\n",
       "      <td>1941to42</td>\n",
       "      <td>1</td>\n",
       "    </tr>\n",
       "    <tr>\n",
       "      <th>6</th>\n",
       "      <td>Team 7</td>\n",
       "      <td>82.0</td>\n",
       "      <td>2792.0</td>\n",
       "      <td>2626.0</td>\n",
       "      <td>948.0</td>\n",
       "      <td>608.0</td>\n",
       "      <td>1070.0</td>\n",
       "      <td>3609.0</td>\n",
       "      <td>3889.0</td>\n",
       "      <td>NaN</td>\n",
       "      <td>NaN</td>\n",
       "      <td>1929</td>\n",
       "      <td>3</td>\n",
       "    </tr>\n",
       "  </tbody>\n",
       "</table>\n",
       "</div>"
      ],
      "text/plain": [
       "       Team  Tournament   Score  PlayedGames  WonGames  DrawnGames  LostGames  \\\n",
       "0    Team 1        86.0  4385.0       2762.0    1647.0       552.0      563.0   \n",
       "1    Team 2        86.0  4262.0       2762.0    1581.0       573.0      608.0   \n",
       "2    Team 3        80.0  3442.0       2614.0    1241.0       598.0      775.0   \n",
       "4    Team 5        86.0  3368.0       2762.0    1209.0       633.0      920.0   \n",
       "3    Team 4        82.0  3386.0       2664.0    1187.0       616.0      861.0   \n",
       "7    Team 8        70.0  2573.0       2302.0     864.0       577.0      861.0   \n",
       "5    Team 6        73.0  2819.0       2408.0     990.0       531.0      887.0   \n",
       "9   Team 10        51.0  1884.0       1728.0     606.0       440.0      682.0   \n",
       "10  Team 11        45.0  1814.0       1530.0     563.0       392.0      575.0   \n",
       "6    Team 7        82.0  2792.0       2626.0     948.0       608.0     1070.0   \n",
       "\n",
       "    BasketScored  BasketGiven  TournamentChampion  Runner-up TeamLaunch  \\\n",
       "0         5947.0       3140.0                33.0       23.0       1929   \n",
       "1         5900.0       3114.0                25.0       25.0       1929   \n",
       "2         4534.0       3309.0                10.0        8.0       1929   \n",
       "4         4631.0       3700.0                 8.0        7.0       1929   \n",
       "3         4398.0       3469.0                 6.0        6.0   1931to32   \n",
       "7         3228.0       3230.0                 2.0        3.0       1929   \n",
       "5         3680.0       3373.0                 1.0        4.0    1934-35   \n",
       "9         2159.0       2492.0                 1.0        NaN    1932-33   \n",
       "10        2052.0       2188.0                 1.0        5.0   1941to42   \n",
       "6         3609.0       3889.0                 NaN        NaN       1929   \n",
       "\n",
       "    HighestPositionHeld  \n",
       "0                     1  \n",
       "1                     1  \n",
       "2                     1  \n",
       "4                     1  \n",
       "3                     1  \n",
       "7                     1  \n",
       "5                     1  \n",
       "9                     1  \n",
       "10                    1  \n",
       "6                     3  "
      ]
     },
     "execution_count": 40,
     "metadata": {},
     "output_type": "execute_result"
    }
   ],
   "source": [
    "df.nlargest(10, 'TournamentChampion')"
   ]
  },
  {
   "cell_type": "code",
   "execution_count": 33,
   "id": "e675756d",
   "metadata": {},
   "outputs": [
    {
     "data": {
      "image/png": "[encoded data removed]",
      "text/plain": [
       "<Figure size 432x288 with 1 Axes>"
      ]
     },
     "metadata": {
      "needs_background": "light"
     },
     "output_type": "display_data"
    }
   ],
   "source": [
    "sns.scatterplot( 'TeamLaunch', 'Team', data=df_wongames)\n",
    "plt.show()"
   ]
  },
  {
   "cell_type": "code",
   "execution_count": 64,
   "id": "8bd04e42",
   "metadata": {},
   "outputs": [
    {
     "data": {
      "text/html": [
       "<div>\n",
       "<style scoped>\n",
       "    .dataframe tbody tr th:only-of-type {\n",
       "        vertical-align: middle;\n",
       "    }\n",
       "\n",
       "    .dataframe tbody tr th {\n",
       "        vertical-align: top;\n",
       "    }\n",
       "\n",
       "    .dataframe thead th {\n",
       "        text-align: right;\n",
       "    }\n",
       "</style>\n",
       "<table border=\"1\" class=\"dataframe\">\n",
       "  <thead>\n",
       "    <tr style=\"text-align: right;\">\n",
       "      <th></th>\n",
       "      <th>Team</th>\n",
       "      <th>Tournament</th>\n",
       "      <th>Score</th>\n",
       "      <th>PlayedGames</th>\n",
       "      <th>WonGames</th>\n",
       "      <th>DrawnGames</th>\n",
       "      <th>LostGames</th>\n",
       "      <th>BasketScored</th>\n",
       "      <th>BasketGiven</th>\n",
       "      <th>TournamentChampion</th>\n",
       "      <th>Runner-up</th>\n",
       "      <th>TeamLaunch</th>\n",
       "      <th>HighestPositionHeld</th>\n",
       "      <th>prob-Win</th>\n",
       "      <th>prob-lost</th>\n",
       "      <th>win%</th>\n",
       "    </tr>\n",
       "  </thead>\n",
       "  <tbody>\n",
       "    <tr>\n",
       "      <th>24</th>\n",
       "      <td>Team 25</td>\n",
       "      <td>12.0</td>\n",
       "      <td>553.0</td>\n",
       "      <td>456.0</td>\n",
       "      <td>147.0</td>\n",
       "      <td>112.0</td>\n",
       "      <td>197.0</td>\n",
       "      <td>520.0</td>\n",
       "      <td>633.0</td>\n",
       "      <td>NaN</td>\n",
       "      <td>NaN</td>\n",
       "      <td>2004</td>\n",
       "      <td>6</td>\n",
       "      <td>0.322368</td>\n",
       "      <td>0.432018</td>\n",
       "      <td>0.445175</td>\n",
       "    </tr>\n",
       "    <tr>\n",
       "      <th>36</th>\n",
       "      <td>Team 37</td>\n",
       "      <td>6.0</td>\n",
       "      <td>242.0</td>\n",
       "      <td>228.0</td>\n",
       "      <td>62.0</td>\n",
       "      <td>56.0</td>\n",
       "      <td>110.0</td>\n",
       "      <td>244.0</td>\n",
       "      <td>366.0</td>\n",
       "      <td>NaN</td>\n",
       "      <td>NaN</td>\n",
       "      <td>2007</td>\n",
       "      <td>8</td>\n",
       "      <td>0.271930</td>\n",
       "      <td>0.482456</td>\n",
       "      <td>0.394737</td>\n",
       "    </tr>\n",
       "    <tr>\n",
       "      <th>43</th>\n",
       "      <td>Team 44</td>\n",
       "      <td>3.0</td>\n",
       "      <td>132.0</td>\n",
       "      <td>114.0</td>\n",
       "      <td>35.0</td>\n",
       "      <td>27.0</td>\n",
       "      <td>52.0</td>\n",
       "      <td>139.0</td>\n",
       "      <td>167.0</td>\n",
       "      <td>NaN</td>\n",
       "      <td>NaN</td>\n",
       "      <td>2014</td>\n",
       "      <td>10</td>\n",
       "      <td>0.307018</td>\n",
       "      <td>0.456140</td>\n",
       "      <td>0.425439</td>\n",
       "    </tr>\n",
       "    <tr>\n",
       "      <th>55</th>\n",
       "      <td>Team 56</td>\n",
       "      <td>1.0</td>\n",
       "      <td>35.0</td>\n",
       "      <td>38.0</td>\n",
       "      <td>8.0</td>\n",
       "      <td>11.0</td>\n",
       "      <td>19.0</td>\n",
       "      <td>36.0</td>\n",
       "      <td>55.0</td>\n",
       "      <td>NaN</td>\n",
       "      <td>NaN</td>\n",
       "      <td>2016</td>\n",
       "      <td>17</td>\n",
       "      <td>0.210526</td>\n",
       "      <td>0.500000</td>\n",
       "      <td>0.355263</td>\n",
       "    </tr>\n",
       "    <tr>\n",
       "      <th>56</th>\n",
       "      <td>Team 57</td>\n",
       "      <td>1.0</td>\n",
       "      <td>34.0</td>\n",
       "      <td>38.0</td>\n",
       "      <td>8.0</td>\n",
       "      <td>10.0</td>\n",
       "      <td>20.0</td>\n",
       "      <td>38.0</td>\n",
       "      <td>66.0</td>\n",
       "      <td>NaN</td>\n",
       "      <td>NaN</td>\n",
       "      <td>2009</td>\n",
       "      <td>20</td>\n",
       "      <td>0.210526</td>\n",
       "      <td>0.526316</td>\n",
       "      <td>0.342105</td>\n",
       "    </tr>\n",
       "    <tr>\n",
       "      <th>60</th>\n",
       "      <td>Team 61</td>\n",
       "      <td>1.0</td>\n",
       "      <td>NaN</td>\n",
       "      <td>NaN</td>\n",
       "      <td>NaN</td>\n",
       "      <td>NaN</td>\n",
       "      <td>NaN</td>\n",
       "      <td>NaN</td>\n",
       "      <td>NaN</td>\n",
       "      <td>NaN</td>\n",
       "      <td>NaN</td>\n",
       "      <td>2017</td>\n",
       "      <td>9</td>\n",
       "      <td>NaN</td>\n",
       "      <td>NaN</td>\n",
       "      <td>NaN</td>\n",
       "    </tr>\n",
       "  </tbody>\n",
       "</table>\n",
       "</div>"
      ],
      "text/plain": [
       "       Team  Tournament  Score  PlayedGames  WonGames  DrawnGames  LostGames  \\\n",
       "24  Team 25        12.0  553.0        456.0     147.0       112.0      197.0   \n",
       "36  Team 37         6.0  242.0        228.0      62.0        56.0      110.0   \n",
       "43  Team 44         3.0  132.0        114.0      35.0        27.0       52.0   \n",
       "55  Team 56         1.0   35.0         38.0       8.0        11.0       19.0   \n",
       "56  Team 57         1.0   34.0         38.0       8.0        10.0       20.0   \n",
       "60  Team 61         1.0    NaN          NaN       NaN         NaN        NaN   \n",
       "\n",
       "    BasketScored  BasketGiven  TournamentChampion  Runner-up TeamLaunch  \\\n",
       "24         520.0        633.0                 NaN        NaN       2004   \n",
       "36         244.0        366.0                 NaN        NaN       2007   \n",
       "43         139.0        167.0                 NaN        NaN       2014   \n",
       "55          36.0         55.0                 NaN        NaN       2016   \n",
       "56          38.0         66.0                 NaN        NaN       2009   \n",
       "60           NaN          NaN                 NaN        NaN       2017   \n",
       "\n",
       "    HighestPositionHeld  prob-Win  prob-lost      win%  \n",
       "24                    6  0.322368   0.432018  0.445175  \n",
       "36                    8  0.271930   0.482456  0.394737  \n",
       "43                   10  0.307018   0.456140  0.425439  \n",
       "55                   17  0.210526   0.500000  0.355263  \n",
       "56                   20  0.210526   0.526316  0.342105  \n",
       "60                    9       NaN        NaN       NaN  "
      ]
     },
     "execution_count": 64,
     "metadata": {},
     "output_type": "execute_result"
    }
   ],
   "source": [
    "# we can see that most of the top winning teams were launched in 1929-60s\n",
    "df[df['TeamLaunch']>='2000']"
   ]
  },
  {
   "cell_type": "code",
   "execution_count": 32,
   "id": "007dbe9a",
   "metadata": {},
   "outputs": [],
   "source": [
    "# we can see that only 6 teams were launched after 2000s and \n",
    "# their performance is below average so we will be discarding these."
   ]
  },
  {
   "cell_type": "markdown",
   "id": "689f50f8",
   "metadata": {},
   "source": [
    "### #we can add another column of probability of winning a game of each team"
   ]
  },
  {
   "cell_type": "code",
   "execution_count": null,
   "id": "b9eb2e10",
   "metadata": {},
   "outputs": [],
   "source": []
  },
  {
   "cell_type": "code",
   "execution_count": 41,
   "id": "932e2be6",
   "metadata": {},
   "outputs": [],
   "source": [
    "x=0\n",
    "df['prob-Win']=0\n",
    "for x in range(61):\n",
    "     df['prob-Win'].iloc[x]= df['WonGames'].iloc[x]/ df['PlayedGames'].iloc[x]"
   ]
  },
  {
   "cell_type": "code",
   "execution_count": 42,
   "id": "9644ba06",
   "metadata": {},
   "outputs": [],
   "source": [
    "x=0\n",
    "df['prob-lost']= 0\n",
    "for x in range(61):\n",
    "     df['prob-lost'].iloc[x]= df['LostGames'].iloc[x]/ df['PlayedGames'].iloc[x]"
   ]
  },
  {
   "cell_type": "code",
   "execution_count": 43,
   "id": "54d301bb",
   "metadata": {},
   "outputs": [
    {
     "data": {
      "text/html": [
       "<div>\n",
       "<style scoped>\n",
       "    .dataframe tbody tr th:only-of-type {\n",
       "        vertical-align: middle;\n",
       "    }\n",
       "\n",
       "    .dataframe tbody tr th {\n",
       "        vertical-align: top;\n",
       "    }\n",
       "\n",
       "    .dataframe thead th {\n",
       "        text-align: right;\n",
       "    }\n",
       "</style>\n",
       "<table border=\"1\" class=\"dataframe\">\n",
       "  <thead>\n",
       "    <tr style=\"text-align: right;\">\n",
       "      <th></th>\n",
       "      <th>Team</th>\n",
       "      <th>Tournament</th>\n",
       "      <th>Score</th>\n",
       "      <th>PlayedGames</th>\n",
       "      <th>WonGames</th>\n",
       "      <th>DrawnGames</th>\n",
       "      <th>LostGames</th>\n",
       "      <th>BasketScored</th>\n",
       "      <th>BasketGiven</th>\n",
       "      <th>TournamentChampion</th>\n",
       "      <th>Runner-up</th>\n",
       "      <th>TeamLaunch</th>\n",
       "      <th>HighestPositionHeld</th>\n",
       "      <th>prob-Win</th>\n",
       "      <th>prob-lost</th>\n",
       "    </tr>\n",
       "  </thead>\n",
       "  <tbody>\n",
       "    <tr>\n",
       "      <th>17</th>\n",
       "      <td>Team 18</td>\n",
       "      <td>38.0</td>\n",
       "      <td>1174.0</td>\n",
       "      <td>1192.0</td>\n",
       "      <td>408.0</td>\n",
       "      <td>292.0</td>\n",
       "      <td>492.0</td>\n",
       "      <td>1642.0</td>\n",
       "      <td>1951.0</td>\n",
       "      <td>NaN</td>\n",
       "      <td>NaN</td>\n",
       "      <td>1933to34</td>\n",
       "      <td>3</td>\n",
       "      <td>0.342282</td>\n",
       "      <td>0.412752</td>\n",
       "    </tr>\n",
       "  </tbody>\n",
       "</table>\n",
       "</div>"
      ],
      "text/plain": [
       "       Team  Tournament   Score  PlayedGames  WonGames  DrawnGames  LostGames  \\\n",
       "17  Team 18        38.0  1174.0       1192.0     408.0       292.0      492.0   \n",
       "\n",
       "    BasketScored  BasketGiven  TournamentChampion  Runner-up TeamLaunch  \\\n",
       "17        1642.0       1951.0                 NaN        NaN   1933to34   \n",
       "\n",
       "    HighestPositionHeld  prob-Win  prob-lost  \n",
       "17                    3  0.342282   0.412752  "
      ]
     },
     "execution_count": 43,
     "metadata": {},
     "output_type": "execute_result"
    }
   ],
   "source": [
    "df.sample()"
   ]
  },
  {
   "cell_type": "code",
   "execution_count": 45,
   "id": "784933eb",
   "metadata": {},
   "outputs": [],
   "source": [
    "df_wongames= df.nlargest(20, ['WonGames'])"
   ]
  },
  {
   "cell_type": "code",
   "execution_count": 46,
   "id": "631a5d29",
   "metadata": {},
   "outputs": [
    {
     "data": {
      "image/png": "[encoded data removed]",
      "text/plain": [
       "<Figure size 432x288 with 1 Axes>"
      ]
     },
     "metadata": {
      "needs_background": "light"
     },
     "output_type": "display_data"
    }
   ],
   "source": [
    "sns.lineplot( 'Team', 'prob-Win',data=df_wongames.head(10))\n",
    "plt.xticks(rotation=90)\n",
    "plt.show()"
   ]
  },
  {
   "cell_type": "code",
   "execution_count": null,
   "id": "31f17c55",
   "metadata": {},
   "outputs": [],
   "source": []
  },
  {
   "cell_type": "code",
   "execution_count": 47,
   "id": "f27c498c",
   "metadata": {},
   "outputs": [
    {
     "data": {
      "text/html": [
       "<div>\n",
       "<style scoped>\n",
       "    .dataframe tbody tr th:only-of-type {\n",
       "        vertical-align: middle;\n",
       "    }\n",
       "\n",
       "    .dataframe tbody tr th {\n",
       "        vertical-align: top;\n",
       "    }\n",
       "\n",
       "    .dataframe thead th {\n",
       "        text-align: right;\n",
       "    }\n",
       "</style>\n",
       "<table border=\"1\" class=\"dataframe\">\n",
       "  <thead>\n",
       "    <tr style=\"text-align: right;\">\n",
       "      <th></th>\n",
       "      <th>Team</th>\n",
       "      <th>Tournament</th>\n",
       "      <th>Score</th>\n",
       "      <th>PlayedGames</th>\n",
       "      <th>WonGames</th>\n",
       "      <th>DrawnGames</th>\n",
       "      <th>LostGames</th>\n",
       "      <th>BasketScored</th>\n",
       "      <th>BasketGiven</th>\n",
       "      <th>TournamentChampion</th>\n",
       "      <th>Runner-up</th>\n",
       "      <th>TeamLaunch</th>\n",
       "      <th>HighestPositionHeld</th>\n",
       "      <th>prob-Win</th>\n",
       "      <th>prob-lost</th>\n",
       "    </tr>\n",
       "  </thead>\n",
       "  <tbody>\n",
       "    <tr>\n",
       "      <th>0</th>\n",
       "      <td>Team 1</td>\n",
       "      <td>86.0</td>\n",
       "      <td>4385.0</td>\n",
       "      <td>2762.0</td>\n",
       "      <td>1647.0</td>\n",
       "      <td>552.0</td>\n",
       "      <td>563.0</td>\n",
       "      <td>5947.0</td>\n",
       "      <td>3140.0</td>\n",
       "      <td>33.0</td>\n",
       "      <td>23.0</td>\n",
       "      <td>1929</td>\n",
       "      <td>1</td>\n",
       "      <td>0.596307</td>\n",
       "      <td>0.203838</td>\n",
       "    </tr>\n",
       "    <tr>\n",
       "      <th>1</th>\n",
       "      <td>Team 2</td>\n",
       "      <td>86.0</td>\n",
       "      <td>4262.0</td>\n",
       "      <td>2762.0</td>\n",
       "      <td>1581.0</td>\n",
       "      <td>573.0</td>\n",
       "      <td>608.0</td>\n",
       "      <td>5900.0</td>\n",
       "      <td>3114.0</td>\n",
       "      <td>25.0</td>\n",
       "      <td>25.0</td>\n",
       "      <td>1929</td>\n",
       "      <td>1</td>\n",
       "      <td>0.572411</td>\n",
       "      <td>0.220130</td>\n",
       "    </tr>\n",
       "    <tr>\n",
       "      <th>2</th>\n",
       "      <td>Team 3</td>\n",
       "      <td>80.0</td>\n",
       "      <td>3442.0</td>\n",
       "      <td>2614.0</td>\n",
       "      <td>1241.0</td>\n",
       "      <td>598.0</td>\n",
       "      <td>775.0</td>\n",
       "      <td>4534.0</td>\n",
       "      <td>3309.0</td>\n",
       "      <td>10.0</td>\n",
       "      <td>8.0</td>\n",
       "      <td>1929</td>\n",
       "      <td>1</td>\n",
       "      <td>0.474751</td>\n",
       "      <td>0.296480</td>\n",
       "    </tr>\n",
       "    <tr>\n",
       "      <th>4</th>\n",
       "      <td>Team 5</td>\n",
       "      <td>86.0</td>\n",
       "      <td>3368.0</td>\n",
       "      <td>2762.0</td>\n",
       "      <td>1209.0</td>\n",
       "      <td>633.0</td>\n",
       "      <td>920.0</td>\n",
       "      <td>4631.0</td>\n",
       "      <td>3700.0</td>\n",
       "      <td>8.0</td>\n",
       "      <td>7.0</td>\n",
       "      <td>1929</td>\n",
       "      <td>1</td>\n",
       "      <td>0.437726</td>\n",
       "      <td>0.333092</td>\n",
       "    </tr>\n",
       "    <tr>\n",
       "      <th>3</th>\n",
       "      <td>Team 4</td>\n",
       "      <td>82.0</td>\n",
       "      <td>3386.0</td>\n",
       "      <td>2664.0</td>\n",
       "      <td>1187.0</td>\n",
       "      <td>616.0</td>\n",
       "      <td>861.0</td>\n",
       "      <td>4398.0</td>\n",
       "      <td>3469.0</td>\n",
       "      <td>6.0</td>\n",
       "      <td>6.0</td>\n",
       "      <td>1931to32</td>\n",
       "      <td>1</td>\n",
       "      <td>0.445571</td>\n",
       "      <td>0.323198</td>\n",
       "    </tr>\n",
       "    <tr>\n",
       "      <th>5</th>\n",
       "      <td>Team 6</td>\n",
       "      <td>73.0</td>\n",
       "      <td>2819.0</td>\n",
       "      <td>2408.0</td>\n",
       "      <td>990.0</td>\n",
       "      <td>531.0</td>\n",
       "      <td>887.0</td>\n",
       "      <td>3680.0</td>\n",
       "      <td>3373.0</td>\n",
       "      <td>1.0</td>\n",
       "      <td>4.0</td>\n",
       "      <td>1934-35</td>\n",
       "      <td>1</td>\n",
       "      <td>0.411130</td>\n",
       "      <td>0.368355</td>\n",
       "    </tr>\n",
       "    <tr>\n",
       "      <th>6</th>\n",
       "      <td>Team 7</td>\n",
       "      <td>82.0</td>\n",
       "      <td>2792.0</td>\n",
       "      <td>2626.0</td>\n",
       "      <td>948.0</td>\n",
       "      <td>608.0</td>\n",
       "      <td>1070.0</td>\n",
       "      <td>3609.0</td>\n",
       "      <td>3889.0</td>\n",
       "      <td>NaN</td>\n",
       "      <td>NaN</td>\n",
       "      <td>1929</td>\n",
       "      <td>3</td>\n",
       "      <td>0.361005</td>\n",
       "      <td>0.407464</td>\n",
       "    </tr>\n",
       "    <tr>\n",
       "      <th>7</th>\n",
       "      <td>Team 8</td>\n",
       "      <td>70.0</td>\n",
       "      <td>2573.0</td>\n",
       "      <td>2302.0</td>\n",
       "      <td>864.0</td>\n",
       "      <td>577.0</td>\n",
       "      <td>861.0</td>\n",
       "      <td>3228.0</td>\n",
       "      <td>3230.0</td>\n",
       "      <td>2.0</td>\n",
       "      <td>3.0</td>\n",
       "      <td>1929</td>\n",
       "      <td>1</td>\n",
       "      <td>0.375326</td>\n",
       "      <td>0.374023</td>\n",
       "    </tr>\n",
       "    <tr>\n",
       "      <th>8</th>\n",
       "      <td>Team 9</td>\n",
       "      <td>58.0</td>\n",
       "      <td>2109.0</td>\n",
       "      <td>1986.0</td>\n",
       "      <td>698.0</td>\n",
       "      <td>522.0</td>\n",
       "      <td>766.0</td>\n",
       "      <td>2683.0</td>\n",
       "      <td>2847.0</td>\n",
       "      <td>NaN</td>\n",
       "      <td>1.0</td>\n",
       "      <td>1939-40</td>\n",
       "      <td>2</td>\n",
       "      <td>0.351460</td>\n",
       "      <td>0.385700</td>\n",
       "    </tr>\n",
       "    <tr>\n",
       "      <th>9</th>\n",
       "      <td>Team 10</td>\n",
       "      <td>51.0</td>\n",
       "      <td>1884.0</td>\n",
       "      <td>1728.0</td>\n",
       "      <td>606.0</td>\n",
       "      <td>440.0</td>\n",
       "      <td>682.0</td>\n",
       "      <td>2159.0</td>\n",
       "      <td>2492.0</td>\n",
       "      <td>1.0</td>\n",
       "      <td>NaN</td>\n",
       "      <td>1932-33</td>\n",
       "      <td>1</td>\n",
       "      <td>0.350694</td>\n",
       "      <td>0.394676</td>\n",
       "    </tr>\n",
       "    <tr>\n",
       "      <th>11</th>\n",
       "      <td>Team 12</td>\n",
       "      <td>51.0</td>\n",
       "      <td>1789.0</td>\n",
       "      <td>1698.0</td>\n",
       "      <td>586.0</td>\n",
       "      <td>389.0</td>\n",
       "      <td>723.0</td>\n",
       "      <td>2278.0</td>\n",
       "      <td>2624.0</td>\n",
       "      <td>NaN</td>\n",
       "      <td>NaN</td>\n",
       "      <td>1939-40</td>\n",
       "      <td>4</td>\n",
       "      <td>0.345112</td>\n",
       "      <td>0.425795</td>\n",
       "    </tr>\n",
       "    <tr>\n",
       "      <th>10</th>\n",
       "      <td>Team 11</td>\n",
       "      <td>45.0</td>\n",
       "      <td>1814.0</td>\n",
       "      <td>1530.0</td>\n",
       "      <td>563.0</td>\n",
       "      <td>392.0</td>\n",
       "      <td>575.0</td>\n",
       "      <td>2052.0</td>\n",
       "      <td>2188.0</td>\n",
       "      <td>1.0</td>\n",
       "      <td>5.0</td>\n",
       "      <td>1941to42</td>\n",
       "      <td>1</td>\n",
       "      <td>0.367974</td>\n",
       "      <td>0.375817</td>\n",
       "    </tr>\n",
       "    <tr>\n",
       "      <th>14</th>\n",
       "      <td>Team 15</td>\n",
       "      <td>43.0</td>\n",
       "      <td>1389.0</td>\n",
       "      <td>1458.0</td>\n",
       "      <td>471.0</td>\n",
       "      <td>358.0</td>\n",
       "      <td>629.0</td>\n",
       "      <td>1753.0</td>\n",
       "      <td>2152.0</td>\n",
       "      <td>NaN</td>\n",
       "      <td>1.0</td>\n",
       "      <td>1944_45</td>\n",
       "      <td>2</td>\n",
       "      <td>0.323045</td>\n",
       "      <td>0.431413</td>\n",
       "    </tr>\n",
       "    <tr>\n",
       "      <th>12</th>\n",
       "      <td>Team 13</td>\n",
       "      <td>42.0</td>\n",
       "      <td>1471.0</td>\n",
       "      <td>1466.0</td>\n",
       "      <td>463.0</td>\n",
       "      <td>384.0</td>\n",
       "      <td>619.0</td>\n",
       "      <td>1767.0</td>\n",
       "      <td>2180.0</td>\n",
       "      <td>NaN</td>\n",
       "      <td>NaN</td>\n",
       "      <td>1948-49</td>\n",
       "      <td>4</td>\n",
       "      <td>0.315825</td>\n",
       "      <td>0.422237</td>\n",
       "    </tr>\n",
       "    <tr>\n",
       "      <th>13</th>\n",
       "      <td>Team 14</td>\n",
       "      <td>44.0</td>\n",
       "      <td>1416.0</td>\n",
       "      <td>1428.0</td>\n",
       "      <td>453.0</td>\n",
       "      <td>336.0</td>\n",
       "      <td>639.0</td>\n",
       "      <td>1843.0</td>\n",
       "      <td>2368.0</td>\n",
       "      <td>NaN</td>\n",
       "      <td>1.0</td>\n",
       "      <td>1929</td>\n",
       "      <td>2</td>\n",
       "      <td>0.317227</td>\n",
       "      <td>0.447479</td>\n",
       "    </tr>\n",
       "    <tr>\n",
       "      <th>15</th>\n",
       "      <td>Team 16</td>\n",
       "      <td>37.0</td>\n",
       "      <td>1351.0</td>\n",
       "      <td>1318.0</td>\n",
       "      <td>426.0</td>\n",
       "      <td>327.0</td>\n",
       "      <td>565.0</td>\n",
       "      <td>1500.0</td>\n",
       "      <td>1834.0</td>\n",
       "      <td>NaN</td>\n",
       "      <td>NaN</td>\n",
       "      <td>1935-36</td>\n",
       "      <td>4</td>\n",
       "      <td>0.323217</td>\n",
       "      <td>0.428680</td>\n",
       "    </tr>\n",
       "    <tr>\n",
       "      <th>17</th>\n",
       "      <td>Team 18</td>\n",
       "      <td>38.0</td>\n",
       "      <td>1174.0</td>\n",
       "      <td>1192.0</td>\n",
       "      <td>408.0</td>\n",
       "      <td>292.0</td>\n",
       "      <td>492.0</td>\n",
       "      <td>1642.0</td>\n",
       "      <td>1951.0</td>\n",
       "      <td>NaN</td>\n",
       "      <td>NaN</td>\n",
       "      <td>1933to34</td>\n",
       "      <td>3</td>\n",
       "      <td>0.342282</td>\n",
       "      <td>0.412752</td>\n",
       "    </tr>\n",
       "    <tr>\n",
       "      <th>16</th>\n",
       "      <td>Team 17</td>\n",
       "      <td>36.0</td>\n",
       "      <td>1314.0</td>\n",
       "      <td>1255.0</td>\n",
       "      <td>390.0</td>\n",
       "      <td>330.0</td>\n",
       "      <td>535.0</td>\n",
       "      <td>1421.0</td>\n",
       "      <td>1763.0</td>\n",
       "      <td>NaN</td>\n",
       "      <td>NaN</td>\n",
       "      <td>1949_50</td>\n",
       "      <td>4</td>\n",
       "      <td>0.310757</td>\n",
       "      <td>0.426295</td>\n",
       "    </tr>\n",
       "    <tr>\n",
       "      <th>19</th>\n",
       "      <td>Team 20</td>\n",
       "      <td>33.0</td>\n",
       "      <td>1020.0</td>\n",
       "      <td>1096.0</td>\n",
       "      <td>367.0</td>\n",
       "      <td>242.0</td>\n",
       "      <td>487.0</td>\n",
       "      <td>1347.0</td>\n",
       "      <td>1746.0</td>\n",
       "      <td>NaN</td>\n",
       "      <td>1.0</td>\n",
       "      <td>1951-52</td>\n",
       "      <td>2</td>\n",
       "      <td>0.334854</td>\n",
       "      <td>0.444343</td>\n",
       "    </tr>\n",
       "    <tr>\n",
       "      <th>18</th>\n",
       "      <td>Team 19</td>\n",
       "      <td>27.0</td>\n",
       "      <td>1148.0</td>\n",
       "      <td>988.0</td>\n",
       "      <td>333.0</td>\n",
       "      <td>256.0</td>\n",
       "      <td>399.0</td>\n",
       "      <td>1182.0</td>\n",
       "      <td>1371.0</td>\n",
       "      <td>NaN</td>\n",
       "      <td>NaN</td>\n",
       "      <td>1960-61</td>\n",
       "      <td>3</td>\n",
       "      <td>0.337045</td>\n",
       "      <td>0.403846</td>\n",
       "    </tr>\n",
       "  </tbody>\n",
       "</table>\n",
       "</div>"
      ],
      "text/plain": [
       "       Team  Tournament   Score  PlayedGames  WonGames  DrawnGames  LostGames  \\\n",
       "0    Team 1        86.0  4385.0       2762.0    1647.0       552.0      563.0   \n",
       "1    Team 2        86.0  4262.0       2762.0    1581.0       573.0      608.0   \n",
       "2    Team 3        80.0  3442.0       2614.0    1241.0       598.0      775.0   \n",
       "4    Team 5        86.0  3368.0       2762.0    1209.0       633.0      920.0   \n",
       "3    Team 4        82.0  3386.0       2664.0    1187.0       616.0      861.0   \n",
       "5    Team 6        73.0  2819.0       2408.0     990.0       531.0      887.0   \n",
       "6    Team 7        82.0  2792.0       2626.0     948.0       608.0     1070.0   \n",
       "7    Team 8        70.0  2573.0       2302.0     864.0       577.0      861.0   \n",
       "8    Team 9        58.0  2109.0       1986.0     698.0       522.0      766.0   \n",
       "9   Team 10        51.0  1884.0       1728.0     606.0       440.0      682.0   \n",
       "11  Team 12        51.0  1789.0       1698.0     586.0       389.0      723.0   \n",
       "10  Team 11        45.0  1814.0       1530.0     563.0       392.0      575.0   \n",
       "14  Team 15        43.0  1389.0       1458.0     471.0       358.0      629.0   \n",
       "12  Team 13        42.0  1471.0       1466.0     463.0       384.0      619.0   \n",
       "13  Team 14        44.0  1416.0       1428.0     453.0       336.0      639.0   \n",
       "15  Team 16        37.0  1351.0       1318.0     426.0       327.0      565.0   \n",
       "17  Team 18        38.0  1174.0       1192.0     408.0       292.0      492.0   \n",
       "16  Team 17        36.0  1314.0       1255.0     390.0       330.0      535.0   \n",
       "19  Team 20        33.0  1020.0       1096.0     367.0       242.0      487.0   \n",
       "18  Team 19        27.0  1148.0        988.0     333.0       256.0      399.0   \n",
       "\n",
       "    BasketScored  BasketGiven  TournamentChampion  Runner-up TeamLaunch  \\\n",
       "0         5947.0       3140.0                33.0       23.0       1929   \n",
       "1         5900.0       3114.0                25.0       25.0       1929   \n",
       "2         4534.0       3309.0                10.0        8.0       1929   \n",
       "4         4631.0       3700.0                 8.0        7.0       1929   \n",
       "3         4398.0       3469.0                 6.0        6.0   1931to32   \n",
       "5         3680.0       3373.0                 1.0        4.0    1934-35   \n",
       "6         3609.0       3889.0                 NaN        NaN       1929   \n",
       "7         3228.0       3230.0                 2.0        3.0       1929   \n",
       "8         2683.0       2847.0                 NaN        1.0    1939-40   \n",
       "9         2159.0       2492.0                 1.0        NaN    1932-33   \n",
       "11        2278.0       2624.0                 NaN        NaN    1939-40   \n",
       "10        2052.0       2188.0                 1.0        5.0   1941to42   \n",
       "14        1753.0       2152.0                 NaN        1.0    1944_45   \n",
       "12        1767.0       2180.0                 NaN        NaN    1948-49   \n",
       "13        1843.0       2368.0                 NaN        1.0       1929   \n",
       "15        1500.0       1834.0                 NaN        NaN    1935-36   \n",
       "17        1642.0       1951.0                 NaN        NaN   1933to34   \n",
       "16        1421.0       1763.0                 NaN        NaN    1949_50   \n",
       "19        1347.0       1746.0                 NaN        1.0    1951-52   \n",
       "18        1182.0       1371.0                 NaN        NaN    1960-61   \n",
       "\n",
       "    HighestPositionHeld  prob-Win  prob-lost  \n",
       "0                     1  0.596307   0.203838  \n",
       "1                     1  0.572411   0.220130  \n",
       "2                     1  0.474751   0.296480  \n",
       "4                     1  0.437726   0.333092  \n",
       "3                     1  0.445571   0.323198  \n",
       "5                     1  0.411130   0.368355  \n",
       "6                     3  0.361005   0.407464  \n",
       "7                     1  0.375326   0.374023  \n",
       "8                     2  0.351460   0.385700  \n",
       "9                     1  0.350694   0.394676  \n",
       "11                    4  0.345112   0.425795  \n",
       "10                    1  0.367974   0.375817  \n",
       "14                    2  0.323045   0.431413  \n",
       "12                    4  0.315825   0.422237  \n",
       "13                    2  0.317227   0.447479  \n",
       "15                    4  0.323217   0.428680  \n",
       "17                    3  0.342282   0.412752  \n",
       "16                    4  0.310757   0.426295  \n",
       "19                    2  0.334854   0.444343  \n",
       "18                    3  0.337045   0.403846  "
      ]
     },
     "execution_count": 47,
     "metadata": {},
     "output_type": "execute_result"
    }
   ],
   "source": [
    "df_wongames"
   ]
  },
  {
   "cell_type": "code",
   "execution_count": 40,
   "id": "27a1f2a9",
   "metadata": {},
   "outputs": [
    {
     "data": {
      "image/png": "[encoded data removed]",
      "text/plain": [
       "<Figure size 432x288 with 1 Axes>"
      ]
     },
     "metadata": {
      "needs_background": "light"
     },
     "output_type": "display_data"
    }
   ],
   "source": [
    "sns.lineplot('Team', 'prob-lost',data=df_wongames.head(10))\n",
    "plt.xticks(rotation=90)\n",
    "plt.show()"
   ]
  },
  {
   "cell_type": "code",
   "execution_count": 48,
   "id": "cb4b9567",
   "metadata": {},
   "outputs": [
    {
     "data": {
      "text/html": [
       "<div>\n",
       "<style scoped>\n",
       "    .dataframe tbody tr th:only-of-type {\n",
       "        vertical-align: middle;\n",
       "    }\n",
       "\n",
       "    .dataframe tbody tr th {\n",
       "        vertical-align: top;\n",
       "    }\n",
       "\n",
       "    .dataframe thead th {\n",
       "        text-align: right;\n",
       "    }\n",
       "</style>\n",
       "<table border=\"1\" class=\"dataframe\">\n",
       "  <thead>\n",
       "    <tr style=\"text-align: right;\">\n",
       "      <th></th>\n",
       "      <th>Team</th>\n",
       "      <th>Tournament</th>\n",
       "      <th>Score</th>\n",
       "      <th>PlayedGames</th>\n",
       "      <th>WonGames</th>\n",
       "      <th>DrawnGames</th>\n",
       "      <th>LostGames</th>\n",
       "      <th>BasketScored</th>\n",
       "      <th>BasketGiven</th>\n",
       "      <th>TournamentChampion</th>\n",
       "      <th>Runner-up</th>\n",
       "      <th>TeamLaunch</th>\n",
       "      <th>HighestPositionHeld</th>\n",
       "      <th>prob-Win</th>\n",
       "      <th>prob-lost</th>\n",
       "      <th>win%</th>\n",
       "    </tr>\n",
       "  </thead>\n",
       "  <tbody>\n",
       "    <tr>\n",
       "      <th>0</th>\n",
       "      <td>Team 1</td>\n",
       "      <td>86.0</td>\n",
       "      <td>4385.0</td>\n",
       "      <td>2762.0</td>\n",
       "      <td>1647.0</td>\n",
       "      <td>552.0</td>\n",
       "      <td>563.0</td>\n",
       "      <td>5947.0</td>\n",
       "      <td>3140.0</td>\n",
       "      <td>33.0</td>\n",
       "      <td>23.0</td>\n",
       "      <td>1929</td>\n",
       "      <td>1</td>\n",
       "      <td>0.596307</td>\n",
       "      <td>0.203838</td>\n",
       "      <td>0.696235</td>\n",
       "    </tr>\n",
       "    <tr>\n",
       "      <th>1</th>\n",
       "      <td>Team 2</td>\n",
       "      <td>86.0</td>\n",
       "      <td>4262.0</td>\n",
       "      <td>2762.0</td>\n",
       "      <td>1581.0</td>\n",
       "      <td>573.0</td>\n",
       "      <td>608.0</td>\n",
       "      <td>5900.0</td>\n",
       "      <td>3114.0</td>\n",
       "      <td>25.0</td>\n",
       "      <td>25.0</td>\n",
       "      <td>1929</td>\n",
       "      <td>1</td>\n",
       "      <td>0.572411</td>\n",
       "      <td>0.220130</td>\n",
       "      <td>0.676140</td>\n",
       "    </tr>\n",
       "    <tr>\n",
       "      <th>2</th>\n",
       "      <td>Team 3</td>\n",
       "      <td>80.0</td>\n",
       "      <td>3442.0</td>\n",
       "      <td>2614.0</td>\n",
       "      <td>1241.0</td>\n",
       "      <td>598.0</td>\n",
       "      <td>775.0</td>\n",
       "      <td>4534.0</td>\n",
       "      <td>3309.0</td>\n",
       "      <td>10.0</td>\n",
       "      <td>8.0</td>\n",
       "      <td>1929</td>\n",
       "      <td>1</td>\n",
       "      <td>0.474751</td>\n",
       "      <td>0.296480</td>\n",
       "      <td>0.589135</td>\n",
       "    </tr>\n",
       "    <tr>\n",
       "      <th>3</th>\n",
       "      <td>Team 4</td>\n",
       "      <td>82.0</td>\n",
       "      <td>3386.0</td>\n",
       "      <td>2664.0</td>\n",
       "      <td>1187.0</td>\n",
       "      <td>616.0</td>\n",
       "      <td>861.0</td>\n",
       "      <td>4398.0</td>\n",
       "      <td>3469.0</td>\n",
       "      <td>6.0</td>\n",
       "      <td>6.0</td>\n",
       "      <td>1931to32</td>\n",
       "      <td>1</td>\n",
       "      <td>0.445571</td>\n",
       "      <td>0.323198</td>\n",
       "      <td>0.561186</td>\n",
       "    </tr>\n",
       "    <tr>\n",
       "      <th>4</th>\n",
       "      <td>Team 5</td>\n",
       "      <td>86.0</td>\n",
       "      <td>3368.0</td>\n",
       "      <td>2762.0</td>\n",
       "      <td>1209.0</td>\n",
       "      <td>633.0</td>\n",
       "      <td>920.0</td>\n",
       "      <td>4631.0</td>\n",
       "      <td>3700.0</td>\n",
       "      <td>8.0</td>\n",
       "      <td>7.0</td>\n",
       "      <td>1929</td>\n",
       "      <td>1</td>\n",
       "      <td>0.437726</td>\n",
       "      <td>0.333092</td>\n",
       "      <td>0.552317</td>\n",
       "    </tr>\n",
       "    <tr>\n",
       "      <th>...</th>\n",
       "      <td>...</td>\n",
       "      <td>...</td>\n",
       "      <td>...</td>\n",
       "      <td>...</td>\n",
       "      <td>...</td>\n",
       "      <td>...</td>\n",
       "      <td>...</td>\n",
       "      <td>...</td>\n",
       "      <td>...</td>\n",
       "      <td>...</td>\n",
       "      <td>...</td>\n",
       "      <td>...</td>\n",
       "      <td>...</td>\n",
       "      <td>...</td>\n",
       "      <td>...</td>\n",
       "      <td>...</td>\n",
       "    </tr>\n",
       "    <tr>\n",
       "      <th>56</th>\n",
       "      <td>Team 57</td>\n",
       "      <td>1.0</td>\n",
       "      <td>34.0</td>\n",
       "      <td>38.0</td>\n",
       "      <td>8.0</td>\n",
       "      <td>10.0</td>\n",
       "      <td>20.0</td>\n",
       "      <td>38.0</td>\n",
       "      <td>66.0</td>\n",
       "      <td>0.0</td>\n",
       "      <td>0.0</td>\n",
       "      <td>2009-10</td>\n",
       "      <td>20</td>\n",
       "      <td>0.210526</td>\n",
       "      <td>0.526316</td>\n",
       "      <td>0.342105</td>\n",
       "    </tr>\n",
       "    <tr>\n",
       "      <th>57</th>\n",
       "      <td>Team 58</td>\n",
       "      <td>1.0</td>\n",
       "      <td>22.0</td>\n",
       "      <td>30.0</td>\n",
       "      <td>7.0</td>\n",
       "      <td>8.0</td>\n",
       "      <td>15.0</td>\n",
       "      <td>37.0</td>\n",
       "      <td>57.0</td>\n",
       "      <td>0.0</td>\n",
       "      <td>0.0</td>\n",
       "      <td>1956-57</td>\n",
       "      <td>16</td>\n",
       "      <td>0.233333</td>\n",
       "      <td>0.500000</td>\n",
       "      <td>0.366667</td>\n",
       "    </tr>\n",
       "    <tr>\n",
       "      <th>58</th>\n",
       "      <td>Team 59</td>\n",
       "      <td>1.0</td>\n",
       "      <td>19.0</td>\n",
       "      <td>30.0</td>\n",
       "      <td>7.0</td>\n",
       "      <td>5.0</td>\n",
       "      <td>18.0</td>\n",
       "      <td>51.0</td>\n",
       "      <td>85.0</td>\n",
       "      <td>0.0</td>\n",
       "      <td>0.0</td>\n",
       "      <td>1951~52</td>\n",
       "      <td>16</td>\n",
       "      <td>0.233333</td>\n",
       "      <td>0.600000</td>\n",
       "      <td>0.316667</td>\n",
       "    </tr>\n",
       "    <tr>\n",
       "      <th>59</th>\n",
       "      <td>Team 60</td>\n",
       "      <td>1.0</td>\n",
       "      <td>14.0</td>\n",
       "      <td>30.0</td>\n",
       "      <td>5.0</td>\n",
       "      <td>4.0</td>\n",
       "      <td>21.0</td>\n",
       "      <td>34.0</td>\n",
       "      <td>65.0</td>\n",
       "      <td>0.0</td>\n",
       "      <td>0.0</td>\n",
       "      <td>1955-56</td>\n",
       "      <td>15</td>\n",
       "      <td>0.166667</td>\n",
       "      <td>0.700000</td>\n",
       "      <td>0.233333</td>\n",
       "    </tr>\n",
       "    <tr>\n",
       "      <th>60</th>\n",
       "      <td>Team 61</td>\n",
       "      <td>1.0</td>\n",
       "      <td>0.0</td>\n",
       "      <td>0.0</td>\n",
       "      <td>0.0</td>\n",
       "      <td>0.0</td>\n",
       "      <td>0.0</td>\n",
       "      <td>0.0</td>\n",
       "      <td>0.0</td>\n",
       "      <td>0.0</td>\n",
       "      <td>0.0</td>\n",
       "      <td>2017~18</td>\n",
       "      <td>9</td>\n",
       "      <td>0.000000</td>\n",
       "      <td>0.000000</td>\n",
       "      <td>0.000000</td>\n",
       "    </tr>\n",
       "  </tbody>\n",
       "</table>\n",
       "<p>61 rows × 16 columns</p>\n",
       "</div>"
      ],
      "text/plain": [
       "       Team  Tournament   Score  PlayedGames  WonGames  DrawnGames  LostGames  \\\n",
       "0    Team 1        86.0  4385.0       2762.0    1647.0       552.0      563.0   \n",
       "1    Team 2        86.0  4262.0       2762.0    1581.0       573.0      608.0   \n",
       "2    Team 3        80.0  3442.0       2614.0    1241.0       598.0      775.0   \n",
       "3    Team 4        82.0  3386.0       2664.0    1187.0       616.0      861.0   \n",
       "4    Team 5        86.0  3368.0       2762.0    1209.0       633.0      920.0   \n",
       "..      ...         ...     ...          ...       ...         ...        ...   \n",
       "56  Team 57         1.0    34.0         38.0       8.0        10.0       20.0   \n",
       "57  Team 58         1.0    22.0         30.0       7.0         8.0       15.0   \n",
       "58  Team 59         1.0    19.0         30.0       7.0         5.0       18.0   \n",
       "59  Team 60         1.0    14.0         30.0       5.0         4.0       21.0   \n",
       "60  Team 61         1.0     0.0          0.0       0.0         0.0        0.0   \n",
       "\n",
       "    BasketScored  BasketGiven  TournamentChampion  Runner-up TeamLaunch  \\\n",
       "0         5947.0       3140.0                33.0       23.0       1929   \n",
       "1         5900.0       3114.0                25.0       25.0       1929   \n",
       "2         4534.0       3309.0                10.0        8.0       1929   \n",
       "3         4398.0       3469.0                 6.0        6.0   1931to32   \n",
       "4         4631.0       3700.0                 8.0        7.0       1929   \n",
       "..           ...          ...                 ...        ...        ...   \n",
       "56          38.0         66.0                 0.0        0.0    2009-10   \n",
       "57          37.0         57.0                 0.0        0.0    1956-57   \n",
       "58          51.0         85.0                 0.0        0.0    1951~52   \n",
       "59          34.0         65.0                 0.0        0.0    1955-56   \n",
       "60           0.0          0.0                 0.0        0.0    2017~18   \n",
       "\n",
       "    HighestPositionHeld  prob-Win  prob-lost      win%  \n",
       "0                     1  0.596307   0.203838  0.696235  \n",
       "1                     1  0.572411   0.220130  0.676140  \n",
       "2                     1  0.474751   0.296480  0.589135  \n",
       "3                     1  0.445571   0.323198  0.561186  \n",
       "4                     1  0.437726   0.333092  0.552317  \n",
       "..                  ...       ...        ...       ...  \n",
       "56                   20  0.210526   0.526316  0.342105  \n",
       "57                   16  0.233333   0.500000  0.366667  \n",
       "58                   16  0.233333   0.600000  0.316667  \n",
       "59                   15  0.166667   0.700000  0.233333  \n",
       "60                    9  0.000000   0.000000  0.000000  \n",
       "\n",
       "[61 rows x 16 columns]"
      ]
     },
     "execution_count": 48,
     "metadata": {},
     "output_type": "execute_result"
    }
   ],
   "source": [
    "#we will now calculate the winning percentage according to the following formula: wins+ 0.5*ties/total games * 100%\n",
    "\n",
    "\n",
    "x=0\n",
    "df['win%']=0\n",
    "for x in range(61):\n",
    "    df['win%'].iloc[x]= (df['WonGames'].iloc[x]+ 0.5* df['DrawnGames'].iloc[x])/ df['PlayedGames'].iloc[x]\n",
    "df.replace(np.nan, 0)"
   ]
  },
  {
   "cell_type": "code",
   "execution_count": 70,
   "id": "c314f0ed",
   "metadata": {},
   "outputs": [
    {
     "data": {
      "image/png": "[encoded data removed]",
      "text/plain": [
       "<Figure size 432x288 with 1 Axes>"
      ]
     },
     "metadata": {
      "needs_background": "light"
     },
     "output_type": "display_data"
    }
   ],
   "source": [
    "df.nlargest(20, ['win%'])\n",
    "sns.lineplot( 'Team', 'win%',data=df.nlargest(10, ['win%']))\n",
    "plt.xticks(rotation=90)\n",
    "plt.show()"
   ]
  },
  {
   "cell_type": "code",
   "execution_count": 49,
   "id": "c8035568",
   "metadata": {},
   "outputs": [],
   "source": [
    "# teams with lowest performance: we will be considering the winning % because relatively newer \n",
    "# teams have played less games so number of games won will not be a fair parameter"
   ]
  },
  {
   "cell_type": "code",
   "execution_count": 50,
   "id": "ac68e5b1",
   "metadata": {},
   "outputs": [
    {
     "data": {
      "text/html": [
       "<div>\n",
       "<style scoped>\n",
       "    .dataframe tbody tr th:only-of-type {\n",
       "        vertical-align: middle;\n",
       "    }\n",
       "\n",
       "    .dataframe tbody tr th {\n",
       "        vertical-align: top;\n",
       "    }\n",
       "\n",
       "    .dataframe thead th {\n",
       "        text-align: right;\n",
       "    }\n",
       "</style>\n",
       "<table border=\"1\" class=\"dataframe\">\n",
       "  <thead>\n",
       "    <tr style=\"text-align: right;\">\n",
       "      <th></th>\n",
       "      <th>Team</th>\n",
       "      <th>Tournament</th>\n",
       "      <th>Score</th>\n",
       "      <th>PlayedGames</th>\n",
       "      <th>WonGames</th>\n",
       "      <th>DrawnGames</th>\n",
       "      <th>LostGames</th>\n",
       "      <th>BasketScored</th>\n",
       "      <th>BasketGiven</th>\n",
       "      <th>TournamentChampion</th>\n",
       "      <th>Runner-up</th>\n",
       "      <th>TeamLaunch</th>\n",
       "      <th>HighestPositionHeld</th>\n",
       "      <th>prob-Win</th>\n",
       "      <th>prob-lost</th>\n",
       "      <th>win%</th>\n",
       "    </tr>\n",
       "  </thead>\n",
       "  <tbody>\n",
       "    <tr>\n",
       "      <th>59</th>\n",
       "      <td>Team 60</td>\n",
       "      <td>1.0</td>\n",
       "      <td>14.0</td>\n",
       "      <td>30.0</td>\n",
       "      <td>5.0</td>\n",
       "      <td>4.0</td>\n",
       "      <td>21.0</td>\n",
       "      <td>34.0</td>\n",
       "      <td>65.0</td>\n",
       "      <td>NaN</td>\n",
       "      <td>NaN</td>\n",
       "      <td>1955-56</td>\n",
       "      <td>15</td>\n",
       "      <td>0.166667</td>\n",
       "      <td>0.700000</td>\n",
       "      <td>0.233333</td>\n",
       "    </tr>\n",
       "    <tr>\n",
       "      <th>54</th>\n",
       "      <td>Team 55</td>\n",
       "      <td>2.0</td>\n",
       "      <td>40.0</td>\n",
       "      <td>68.0</td>\n",
       "      <td>13.0</td>\n",
       "      <td>14.0</td>\n",
       "      <td>41.0</td>\n",
       "      <td>70.0</td>\n",
       "      <td>182.0</td>\n",
       "      <td>NaN</td>\n",
       "      <td>NaN</td>\n",
       "      <td>1950-51</td>\n",
       "      <td>16</td>\n",
       "      <td>0.191176</td>\n",
       "      <td>0.602941</td>\n",
       "      <td>0.294118</td>\n",
       "    </tr>\n",
       "    <tr>\n",
       "      <th>58</th>\n",
       "      <td>Team 59</td>\n",
       "      <td>1.0</td>\n",
       "      <td>19.0</td>\n",
       "      <td>30.0</td>\n",
       "      <td>7.0</td>\n",
       "      <td>5.0</td>\n",
       "      <td>18.0</td>\n",
       "      <td>51.0</td>\n",
       "      <td>85.0</td>\n",
       "      <td>NaN</td>\n",
       "      <td>NaN</td>\n",
       "      <td>1951~52</td>\n",
       "      <td>16</td>\n",
       "      <td>0.233333</td>\n",
       "      <td>0.600000</td>\n",
       "      <td>0.316667</td>\n",
       "    </tr>\n",
       "    <tr>\n",
       "      <th>56</th>\n",
       "      <td>Team 57</td>\n",
       "      <td>1.0</td>\n",
       "      <td>34.0</td>\n",
       "      <td>38.0</td>\n",
       "      <td>8.0</td>\n",
       "      <td>10.0</td>\n",
       "      <td>20.0</td>\n",
       "      <td>38.0</td>\n",
       "      <td>66.0</td>\n",
       "      <td>NaN</td>\n",
       "      <td>NaN</td>\n",
       "      <td>2009-10</td>\n",
       "      <td>20</td>\n",
       "      <td>0.210526</td>\n",
       "      <td>0.526316</td>\n",
       "      <td>0.342105</td>\n",
       "    </tr>\n",
       "    <tr>\n",
       "      <th>49</th>\n",
       "      <td>Team 50</td>\n",
       "      <td>4.0</td>\n",
       "      <td>76.0</td>\n",
       "      <td>108.0</td>\n",
       "      <td>30.0</td>\n",
       "      <td>16.0</td>\n",
       "      <td>62.0</td>\n",
       "      <td>145.0</td>\n",
       "      <td>252.0</td>\n",
       "      <td>NaN</td>\n",
       "      <td>NaN</td>\n",
       "      <td>1945-46</td>\n",
       "      <td>10</td>\n",
       "      <td>0.277778</td>\n",
       "      <td>0.574074</td>\n",
       "      <td>0.351852</td>\n",
       "    </tr>\n",
       "    <tr>\n",
       "      <th>55</th>\n",
       "      <td>Team 56</td>\n",
       "      <td>1.0</td>\n",
       "      <td>35.0</td>\n",
       "      <td>38.0</td>\n",
       "      <td>8.0</td>\n",
       "      <td>11.0</td>\n",
       "      <td>19.0</td>\n",
       "      <td>36.0</td>\n",
       "      <td>55.0</td>\n",
       "      <td>NaN</td>\n",
       "      <td>NaN</td>\n",
       "      <td>2016_17</td>\n",
       "      <td>17</td>\n",
       "      <td>0.210526</td>\n",
       "      <td>0.500000</td>\n",
       "      <td>0.355263</td>\n",
       "    </tr>\n",
       "    <tr>\n",
       "      <th>46</th>\n",
       "      <td>Team 47</td>\n",
       "      <td>4.0</td>\n",
       "      <td>91.0</td>\n",
       "      <td>116.0</td>\n",
       "      <td>34.0</td>\n",
       "      <td>16.0</td>\n",
       "      <td>66.0</td>\n",
       "      <td>181.0</td>\n",
       "      <td>295.0</td>\n",
       "      <td>NaN</td>\n",
       "      <td>NaN</td>\n",
       "      <td>1947-48</td>\n",
       "      <td>7</td>\n",
       "      <td>0.293103</td>\n",
       "      <td>0.568966</td>\n",
       "      <td>0.362069</td>\n",
       "    </tr>\n",
       "    <tr>\n",
       "      <th>42</th>\n",
       "      <td>Team 43</td>\n",
       "      <td>4.0</td>\n",
       "      <td>148.0</td>\n",
       "      <td>152.0</td>\n",
       "      <td>37.0</td>\n",
       "      <td>37.0</td>\n",
       "      <td>78.0</td>\n",
       "      <td>155.0</td>\n",
       "      <td>253.0</td>\n",
       "      <td>NaN</td>\n",
       "      <td>NaN</td>\n",
       "      <td>1999to00</td>\n",
       "      <td>17</td>\n",
       "      <td>0.243421</td>\n",
       "      <td>0.513158</td>\n",
       "      <td>0.365132</td>\n",
       "    </tr>\n",
       "    <tr>\n",
       "      <th>57</th>\n",
       "      <td>Team 58</td>\n",
       "      <td>1.0</td>\n",
       "      <td>22.0</td>\n",
       "      <td>30.0</td>\n",
       "      <td>7.0</td>\n",
       "      <td>8.0</td>\n",
       "      <td>15.0</td>\n",
       "      <td>37.0</td>\n",
       "      <td>57.0</td>\n",
       "      <td>NaN</td>\n",
       "      <td>NaN</td>\n",
       "      <td>1956-57</td>\n",
       "      <td>16</td>\n",
       "      <td>0.233333</td>\n",
       "      <td>0.500000</td>\n",
       "      <td>0.366667</td>\n",
       "    </tr>\n",
       "    <tr>\n",
       "      <th>27</th>\n",
       "      <td>Team 28</td>\n",
       "      <td>18.0</td>\n",
       "      <td>445.0</td>\n",
       "      <td>586.0</td>\n",
       "      <td>145.0</td>\n",
       "      <td>143.0</td>\n",
       "      <td>298.0</td>\n",
       "      <td>607.0</td>\n",
       "      <td>992.0</td>\n",
       "      <td>NaN</td>\n",
       "      <td>NaN</td>\n",
       "      <td>1940-41</td>\n",
       "      <td>11</td>\n",
       "      <td>0.247440</td>\n",
       "      <td>0.508532</td>\n",
       "      <td>0.369454</td>\n",
       "    </tr>\n",
       "  </tbody>\n",
       "</table>\n",
       "</div>"
      ],
      "text/plain": [
       "       Team  Tournament  Score  PlayedGames  WonGames  DrawnGames  LostGames  \\\n",
       "59  Team 60         1.0   14.0         30.0       5.0         4.0       21.0   \n",
       "54  Team 55         2.0   40.0         68.0      13.0        14.0       41.0   \n",
       "58  Team 59         1.0   19.0         30.0       7.0         5.0       18.0   \n",
       "56  Team 57         1.0   34.0         38.0       8.0        10.0       20.0   \n",
       "49  Team 50         4.0   76.0        108.0      30.0        16.0       62.0   \n",
       "55  Team 56         1.0   35.0         38.0       8.0        11.0       19.0   \n",
       "46  Team 47         4.0   91.0        116.0      34.0        16.0       66.0   \n",
       "42  Team 43         4.0  148.0        152.0      37.0        37.0       78.0   \n",
       "57  Team 58         1.0   22.0         30.0       7.0         8.0       15.0   \n",
       "27  Team 28        18.0  445.0        586.0     145.0       143.0      298.0   \n",
       "\n",
       "    BasketScored  BasketGiven  TournamentChampion  Runner-up TeamLaunch  \\\n",
       "59          34.0         65.0                 NaN        NaN    1955-56   \n",
       "54          70.0        182.0                 NaN        NaN    1950-51   \n",
       "58          51.0         85.0                 NaN        NaN    1951~52   \n",
       "56          38.0         66.0                 NaN        NaN    2009-10   \n",
       "49         145.0        252.0                 NaN        NaN    1945-46   \n",
       "55          36.0         55.0                 NaN        NaN    2016_17   \n",
       "46         181.0        295.0                 NaN        NaN    1947-48   \n",
       "42         155.0        253.0                 NaN        NaN   1999to00   \n",
       "57          37.0         57.0                 NaN        NaN    1956-57   \n",
       "27         607.0        992.0                 NaN        NaN    1940-41   \n",
       "\n",
       "    HighestPositionHeld  prob-Win  prob-lost      win%  \n",
       "59                   15  0.166667   0.700000  0.233333  \n",
       "54                   16  0.191176   0.602941  0.294118  \n",
       "58                   16  0.233333   0.600000  0.316667  \n",
       "56                   20  0.210526   0.526316  0.342105  \n",
       "49                   10  0.277778   0.574074  0.351852  \n",
       "55                   17  0.210526   0.500000  0.355263  \n",
       "46                    7  0.293103   0.568966  0.362069  \n",
       "42                   17  0.243421   0.513158  0.365132  \n",
       "57                   16  0.233333   0.500000  0.366667  \n",
       "27                   11  0.247440   0.508532  0.369454  "
      ]
     },
     "execution_count": 50,
     "metadata": {},
     "output_type": "execute_result"
    }
   ],
   "source": [
    "df.nsmallest(10, 'win%')"
   ]
  },
  {
   "cell_type": "markdown",
   "id": "5fc3074d",
   "metadata": {},
   "source": [
    "### Teams with lowest performance"
   ]
  },
  {
   "cell_type": "code",
   "execution_count": 51,
   "id": "507cae79",
   "metadata": {},
   "outputs": [],
   "source": [
    "import matplotlib\n",
    "df_wongames['TeamLaunch'] = df_wongames['TeamLaunch'].apply(pd.to_numeric, errors='coerce')"
   ]
  },
  {
   "cell_type": "code",
   "execution_count": 52,
   "id": "515cfa92",
   "metadata": {},
   "outputs": [
    {
     "data": {
      "image/png": "[encoded data removed]",
      "text/plain": [
       "<Figure size 720x360 with 2 Axes>"
      ]
     },
     "metadata": {
      "needs_background": "light"
     },
     "output_type": "display_data"
    }
   ],
   "source": [
    "ax1 = sns.set_style(style=None, rc=None )\n",
    "\n",
    "fig, ax1 = plt.subplots(figsize=(10,5))\n",
    "\n",
    "sns.lineplot('Team', 'win%', data = df.nsmallest(10, 'win%'))\n",
    "ax2 = ax1.twinx()\n",
    "sns.barplot(data = df.nsmallest(10, 'win%'), x='Team', y='LostGames', alpha=0.5, ax=ax2)\n",
    "plt.show()"
   ]
  },
  {
   "cell_type": "markdown",
   "id": "445de1e8",
   "metadata": {},
   "source": [
    "### Teams with highest win%"
   ]
  },
  {
   "cell_type": "code",
   "execution_count": 53,
   "id": "0ab96761",
   "metadata": {},
   "outputs": [
    {
     "data": {
      "image/png": "[encoded data removed]",
      "text/plain": [
       "<Figure size 720x360 with 2 Axes>"
      ]
     },
     "metadata": {
      "needs_background": "light"
     },
     "output_type": "display_data"
    }
   ],
   "source": [
    "ax1 = sns.set_style(style=None, rc=None )\n",
    "\n",
    "fig, ax1 = plt.subplots(figsize=(10,5))\n",
    "\n",
    "sns.lineplot('Team', 'win%', data = df.nlargest(10, 'win%'))\n",
    "\n",
    "ax2 = ax1.twinx()\n",
    "sns.barplot(data = df.nlargest(10, 'win%'), x='Team', y='TournamentChampion', alpha=0.5, ax=ax2)\n",
    "plt.show()"
   ]
  },
  {
   "cell_type": "code",
   "execution_count": null,
   "id": "7d6a9088",
   "metadata": {},
   "outputs": [],
   "source": [
    "# From the top 20 teams with highest \n",
    "# scores, highest matches won, we'll combine it with teams having highest winning % to find the intersecting teams"
   ]
  },
  {
   "cell_type": "code",
   "execution_count": 54,
   "id": "9ce952c9",
   "metadata": {},
   "outputs": [],
   "source": [
    "df_winpercent = df.nlargest(20, 'win%')"
   ]
  },
  {
   "cell_type": "code",
   "execution_count": 55,
   "id": "c1ce2d7c",
   "metadata": {},
   "outputs": [],
   "source": [
    "df_winpercent['TeamLaunch']=df_winpercent['TeamLaunch'].apply(pd.to_numeric, errors='coerce')"
   ]
  },
  {
   "cell_type": "code",
   "execution_count": 56,
   "id": "dfd4a167",
   "metadata": {},
   "outputs": [],
   "source": [
    "intersected_df = pd.merge(df_wongames,df_winpercent,how='inner')"
   ]
  },
  {
   "cell_type": "code",
   "execution_count": 57,
   "id": "08bb30bc",
   "metadata": {},
   "outputs": [
    {
     "data": {
      "text/html": [
       "<div>\n",
       "<style scoped>\n",
       "    .dataframe tbody tr th:only-of-type {\n",
       "        vertical-align: middle;\n",
       "    }\n",
       "\n",
       "    .dataframe tbody tr th {\n",
       "        vertical-align: top;\n",
       "    }\n",
       "\n",
       "    .dataframe thead th {\n",
       "        text-align: right;\n",
       "    }\n",
       "</style>\n",
       "<table border=\"1\" class=\"dataframe\">\n",
       "  <thead>\n",
       "    <tr style=\"text-align: right;\">\n",
       "      <th></th>\n",
       "      <th>Team</th>\n",
       "      <th>Tournament</th>\n",
       "      <th>Score</th>\n",
       "      <th>PlayedGames</th>\n",
       "      <th>WonGames</th>\n",
       "      <th>DrawnGames</th>\n",
       "      <th>LostGames</th>\n",
       "      <th>BasketScored</th>\n",
       "      <th>BasketGiven</th>\n",
       "      <th>TournamentChampion</th>\n",
       "      <th>Runner-up</th>\n",
       "      <th>TeamLaunch</th>\n",
       "      <th>HighestPositionHeld</th>\n",
       "      <th>prob-Win</th>\n",
       "      <th>prob-lost</th>\n",
       "      <th>win%</th>\n",
       "    </tr>\n",
       "  </thead>\n",
       "  <tbody>\n",
       "    <tr>\n",
       "      <th>0</th>\n",
       "      <td>Team 1</td>\n",
       "      <td>86.0</td>\n",
       "      <td>4385.0</td>\n",
       "      <td>2762.0</td>\n",
       "      <td>1647.0</td>\n",
       "      <td>552.0</td>\n",
       "      <td>563.0</td>\n",
       "      <td>5947.0</td>\n",
       "      <td>3140.0</td>\n",
       "      <td>33.0</td>\n",
       "      <td>23.0</td>\n",
       "      <td>1929</td>\n",
       "      <td>1</td>\n",
       "      <td>0.596307</td>\n",
       "      <td>0.203838</td>\n",
       "      <td>0.696235</td>\n",
       "    </tr>\n",
       "    <tr>\n",
       "      <th>1</th>\n",
       "      <td>Team 2</td>\n",
       "      <td>86.0</td>\n",
       "      <td>4262.0</td>\n",
       "      <td>2762.0</td>\n",
       "      <td>1581.0</td>\n",
       "      <td>573.0</td>\n",
       "      <td>608.0</td>\n",
       "      <td>5900.0</td>\n",
       "      <td>3114.0</td>\n",
       "      <td>25.0</td>\n",
       "      <td>25.0</td>\n",
       "      <td>1929</td>\n",
       "      <td>1</td>\n",
       "      <td>0.572411</td>\n",
       "      <td>0.220130</td>\n",
       "      <td>0.676140</td>\n",
       "    </tr>\n",
       "    <tr>\n",
       "      <th>2</th>\n",
       "      <td>Team 3</td>\n",
       "      <td>80.0</td>\n",
       "      <td>3442.0</td>\n",
       "      <td>2614.0</td>\n",
       "      <td>1241.0</td>\n",
       "      <td>598.0</td>\n",
       "      <td>775.0</td>\n",
       "      <td>4534.0</td>\n",
       "      <td>3309.0</td>\n",
       "      <td>10.0</td>\n",
       "      <td>8.0</td>\n",
       "      <td>1929</td>\n",
       "      <td>1</td>\n",
       "      <td>0.474751</td>\n",
       "      <td>0.296480</td>\n",
       "      <td>0.589135</td>\n",
       "    </tr>\n",
       "    <tr>\n",
       "      <th>3</th>\n",
       "      <td>Team 4</td>\n",
       "      <td>82.0</td>\n",
       "      <td>3386.0</td>\n",
       "      <td>2664.0</td>\n",
       "      <td>1187.0</td>\n",
       "      <td>616.0</td>\n",
       "      <td>861.0</td>\n",
       "      <td>4398.0</td>\n",
       "      <td>3469.0</td>\n",
       "      <td>6.0</td>\n",
       "      <td>6.0</td>\n",
       "      <td>1931to32</td>\n",
       "      <td>1</td>\n",
       "      <td>0.445571</td>\n",
       "      <td>0.323198</td>\n",
       "      <td>0.561186</td>\n",
       "    </tr>\n",
       "    <tr>\n",
       "      <th>4</th>\n",
       "      <td>Team 5</td>\n",
       "      <td>86.0</td>\n",
       "      <td>3368.0</td>\n",
       "      <td>2762.0</td>\n",
       "      <td>1209.0</td>\n",
       "      <td>633.0</td>\n",
       "      <td>920.0</td>\n",
       "      <td>4631.0</td>\n",
       "      <td>3700.0</td>\n",
       "      <td>8.0</td>\n",
       "      <td>7.0</td>\n",
       "      <td>1929</td>\n",
       "      <td>1</td>\n",
       "      <td>0.437726</td>\n",
       "      <td>0.333092</td>\n",
       "      <td>0.552317</td>\n",
       "    </tr>\n",
       "  </tbody>\n",
       "</table>\n",
       "</div>"
      ],
      "text/plain": [
       "     Team  Tournament   Score  PlayedGames  WonGames  DrawnGames  LostGames  \\\n",
       "0  Team 1        86.0  4385.0       2762.0    1647.0       552.0      563.0   \n",
       "1  Team 2        86.0  4262.0       2762.0    1581.0       573.0      608.0   \n",
       "2  Team 3        80.0  3442.0       2614.0    1241.0       598.0      775.0   \n",
       "3  Team 4        82.0  3386.0       2664.0    1187.0       616.0      861.0   \n",
       "4  Team 5        86.0  3368.0       2762.0    1209.0       633.0      920.0   \n",
       "\n",
       "   BasketScored  BasketGiven  TournamentChampion  Runner-up TeamLaunch  \\\n",
       "0        5947.0       3140.0                33.0       23.0       1929   \n",
       "1        5900.0       3114.0                25.0       25.0       1929   \n",
       "2        4534.0       3309.0                10.0        8.0       1929   \n",
       "3        4398.0       3469.0                 6.0        6.0   1931to32   \n",
       "4        4631.0       3700.0                 8.0        7.0       1929   \n",
       "\n",
       "   HighestPositionHeld  prob-Win  prob-lost      win%  \n",
       "0                    1  0.596307   0.203838  0.696235  \n",
       "1                    1  0.572411   0.220130  0.676140  \n",
       "2                    1  0.474751   0.296480  0.589135  \n",
       "3                    1  0.445571   0.323198  0.561186  \n",
       "4                    1  0.437726   0.333092  0.552317  "
      ]
     },
     "execution_count": 57,
     "metadata": {},
     "output_type": "execute_result"
    }
   ],
   "source": [
    "df.head()"
   ]
  },
  {
   "cell_type": "code",
   "execution_count": 58,
   "id": "012eccf3",
   "metadata": {},
   "outputs": [
    {
     "data": {
      "text/html": [
       "<div>\n",
       "<style scoped>\n",
       "    .dataframe tbody tr th:only-of-type {\n",
       "        vertical-align: middle;\n",
       "    }\n",
       "\n",
       "    .dataframe tbody tr th {\n",
       "        vertical-align: top;\n",
       "    }\n",
       "\n",
       "    .dataframe thead th {\n",
       "        text-align: right;\n",
       "    }\n",
       "</style>\n",
       "<table border=\"1\" class=\"dataframe\">\n",
       "  <thead>\n",
       "    <tr style=\"text-align: right;\">\n",
       "      <th></th>\n",
       "      <th>Team</th>\n",
       "      <th>Tournament</th>\n",
       "      <th>Score</th>\n",
       "      <th>PlayedGames</th>\n",
       "      <th>WonGames</th>\n",
       "      <th>DrawnGames</th>\n",
       "      <th>LostGames</th>\n",
       "      <th>BasketScored</th>\n",
       "      <th>BasketGiven</th>\n",
       "      <th>TournamentChampion</th>\n",
       "      <th>Runner-up</th>\n",
       "      <th>TeamLaunch</th>\n",
       "      <th>HighestPositionHeld</th>\n",
       "      <th>prob-Win</th>\n",
       "      <th>prob-lost</th>\n",
       "      <th>win%</th>\n",
       "    </tr>\n",
       "  </thead>\n",
       "  <tbody>\n",
       "    <tr>\n",
       "      <th>4</th>\n",
       "      <td>Team 4</td>\n",
       "      <td>82.0</td>\n",
       "      <td>3386.0</td>\n",
       "      <td>2664.0</td>\n",
       "      <td>1187.0</td>\n",
       "      <td>616.0</td>\n",
       "      <td>861.0</td>\n",
       "      <td>4398.0</td>\n",
       "      <td>3469.0</td>\n",
       "      <td>6.0</td>\n",
       "      <td>6.0</td>\n",
       "      <td>NaN</td>\n",
       "      <td>1</td>\n",
       "      <td>0.445571</td>\n",
       "      <td>0.323198</td>\n",
       "      <td>0.561186</td>\n",
       "    </tr>\n",
       "  </tbody>\n",
       "</table>\n",
       "</div>"
      ],
      "text/plain": [
       "     Team  Tournament   Score  PlayedGames  WonGames  DrawnGames  LostGames  \\\n",
       "4  Team 4        82.0  3386.0       2664.0    1187.0       616.0      861.0   \n",
       "\n",
       "   BasketScored  BasketGiven  TournamentChampion  Runner-up  TeamLaunch  \\\n",
       "4        4398.0       3469.0                 6.0        6.0         NaN   \n",
       "\n",
       "   HighestPositionHeld  prob-Win  prob-lost      win%  \n",
       "4                    1  0.445571   0.323198  0.561186  "
      ]
     },
     "execution_count": 58,
     "metadata": {},
     "output_type": "execute_result"
    }
   ],
   "source": [
    "intersected_df.sample()"
   ]
  },
  {
   "cell_type": "code",
   "execution_count": 59,
   "id": "19d612f7",
   "metadata": {},
   "outputs": [
    {
     "data": {
      "text/plain": [
       "<AxesSubplot:xlabel='Team', ylabel='win%'>"
      ]
     },
     "execution_count": 59,
     "metadata": {},
     "output_type": "execute_result"
    },
    {
     "data": {
      "image/png": "[encoded data removed]",
      "text/plain": [
       "<Figure size 720x432 with 2 Axes>"
      ]
     },
     "metadata": {
      "needs_background": "light"
     },
     "output_type": "display_data"
    }
   ],
   "source": [
    "ax1=sns.set_style(style=None, rc=None)\n",
    "fig,ax1= plt.subplots(figsize=(10,6))\n",
    "\n",
    "sns.lineplot('Team', 'WonGames', data = intersected_df.head())\n",
    "ax2 = ax1.twinx()\n",
    "sns.barplot( x='Team', y='win%', data= intersected_df.head(), alpha=0.5, ax=ax2)"
   ]
  },
  {
   "cell_type": "code",
   "execution_count": 60,
   "id": "3182e565",
   "metadata": {},
   "outputs": [
    {
     "data": {
      "text/plain": [
       "<AxesSubplot:xlabel='Team', ylabel='baskets'>"
      ]
     },
     "execution_count": 60,
     "metadata": {},
     "output_type": "execute_result"
    },
    {
     "data": {
      "image/png": "[encoded data removed]",
      "text/plain": [
       "<Figure size 432x288 with 1 Axes>"
      ]
     },
     "metadata": {
      "needs_background": "light"
     },
     "output_type": "display_data"
    }
   ],
   "source": [
    "#teams who scored max baskets per game\n",
    "intersected_df['baskets']=0\n",
    "x=0\n",
    "for x in range(17):\n",
    "    intersected_df['baskets'].iloc[x]= intersected_df['BasketScored'].iloc[x]/intersected_df['PlayedGames'].iloc[x]\n",
    "sns.lineplot('Team', 'baskets', data=intersected_df.head(5))"
   ]
  },
  {
   "cell_type": "code",
   "execution_count": 61,
   "id": "835b3b69",
   "metadata": {},
   "outputs": [
    {
     "data": {
      "image/png": "[encoded data removed]",
      "text/plain": [
       "<Figure size 432x288 with 1 Axes>"
      ]
     },
     "metadata": {},
     "output_type": "display_data"
    }
   ],
   "source": [
    "plt.pie(intersected_df['TournamentChampion'].head(), labels= intersected_df['Team'].head())\n",
    "plt.title('Teams with most Tournament champion trophies')\n",
    "plt.show()"
   ]
  },
  {
   "cell_type": "code",
   "execution_count": 62,
   "id": "64b8880f",
   "metadata": {},
   "outputs": [
    {
     "data": {
      "image/png": "[encoded data removed]",
      "text/plain": [
       "<Figure size 432x288 with 1 Axes>"
      ]
     },
     "metadata": {
      "needs_background": "light"
     },
     "output_type": "display_data"
    }
   ],
   "source": [
    " sns.countplot( 'TeamLaunch', data=intersected_df.head())\n",
    "plt.title('team launch year of the top 5 teams')\n",
    "plt.show()"
   ]
  },
  {
   "cell_type": "markdown",
   "id": "8370f458",
   "metadata": {},
   "source": [
    "### Thus, we can approach any of the top 5 teams, TEAM 1,2,3,4,5 for the next matches.\n",
    "\n",
    "\n",
    "***If we have to look at more options, here are the top 10 teams with their winning\n",
    "% which can be approached by the company's management***\n",
    "\n"
   ]
  },
  {
   "cell_type": "code",
   "execution_count": 63,
   "id": "30b3440a",
   "metadata": {},
   "outputs": [
    {
     "data": {
      "text/html": [
       "<div>\n",
       "<style scoped>\n",
       "    .dataframe tbody tr th:only-of-type {\n",
       "        vertical-align: middle;\n",
       "    }\n",
       "\n",
       "    .dataframe tbody tr th {\n",
       "        vertical-align: top;\n",
       "    }\n",
       "\n",
       "    .dataframe thead th {\n",
       "        text-align: right;\n",
       "    }\n",
       "</style>\n",
       "<table border=\"1\" class=\"dataframe\">\n",
       "  <thead>\n",
       "    <tr style=\"text-align: right;\">\n",
       "      <th></th>\n",
       "      <th>Team</th>\n",
       "      <th>win%</th>\n",
       "      <th>WonGames</th>\n",
       "    </tr>\n",
       "  </thead>\n",
       "  <tbody>\n",
       "    <tr>\n",
       "      <th>0</th>\n",
       "      <td>Team 1</td>\n",
       "      <td>0.696235</td>\n",
       "      <td>1647.0</td>\n",
       "    </tr>\n",
       "    <tr>\n",
       "      <th>1</th>\n",
       "      <td>Team 2</td>\n",
       "      <td>0.676140</td>\n",
       "      <td>1581.0</td>\n",
       "    </tr>\n",
       "    <tr>\n",
       "      <th>2</th>\n",
       "      <td>Team 3</td>\n",
       "      <td>0.589135</td>\n",
       "      <td>1241.0</td>\n",
       "    </tr>\n",
       "    <tr>\n",
       "      <th>3</th>\n",
       "      <td>Team 5</td>\n",
       "      <td>0.552317</td>\n",
       "      <td>1209.0</td>\n",
       "    </tr>\n",
       "    <tr>\n",
       "      <th>4</th>\n",
       "      <td>Team 4</td>\n",
       "      <td>0.561186</td>\n",
       "      <td>1187.0</td>\n",
       "    </tr>\n",
       "    <tr>\n",
       "      <th>5</th>\n",
       "      <td>Team 6</td>\n",
       "      <td>0.521387</td>\n",
       "      <td>990.0</td>\n",
       "    </tr>\n",
       "    <tr>\n",
       "      <th>6</th>\n",
       "      <td>Team 7</td>\n",
       "      <td>0.476771</td>\n",
       "      <td>948.0</td>\n",
       "    </tr>\n",
       "    <tr>\n",
       "      <th>7</th>\n",
       "      <td>Team 8</td>\n",
       "      <td>0.500652</td>\n",
       "      <td>864.0</td>\n",
       "    </tr>\n",
       "    <tr>\n",
       "      <th>8</th>\n",
       "      <td>Team 9</td>\n",
       "      <td>0.482880</td>\n",
       "      <td>698.0</td>\n",
       "    </tr>\n",
       "    <tr>\n",
       "      <th>9</th>\n",
       "      <td>Team 10</td>\n",
       "      <td>0.478009</td>\n",
       "      <td>606.0</td>\n",
       "    </tr>\n",
       "    <tr>\n",
       "      <th>10</th>\n",
       "      <td>Team 12</td>\n",
       "      <td>0.459658</td>\n",
       "      <td>586.0</td>\n",
       "    </tr>\n",
       "    <tr>\n",
       "      <th>11</th>\n",
       "      <td>Team 11</td>\n",
       "      <td>0.496078</td>\n",
       "      <td>563.0</td>\n",
       "    </tr>\n",
       "    <tr>\n",
       "      <th>12</th>\n",
       "      <td>Team 15</td>\n",
       "      <td>0.445816</td>\n",
       "      <td>471.0</td>\n",
       "    </tr>\n",
       "    <tr>\n",
       "      <th>13</th>\n",
       "      <td>Team 13</td>\n",
       "      <td>0.446794</td>\n",
       "      <td>463.0</td>\n",
       "    </tr>\n",
       "    <tr>\n",
       "      <th>14</th>\n",
       "      <td>Team 16</td>\n",
       "      <td>0.447269</td>\n",
       "      <td>426.0</td>\n",
       "    </tr>\n",
       "    <tr>\n",
       "      <th>15</th>\n",
       "      <td>Team 18</td>\n",
       "      <td>0.464765</td>\n",
       "      <td>408.0</td>\n",
       "    </tr>\n",
       "    <tr>\n",
       "      <th>16</th>\n",
       "      <td>Team 20</td>\n",
       "      <td>0.445255</td>\n",
       "      <td>367.0</td>\n",
       "    </tr>\n",
       "    <tr>\n",
       "      <th>17</th>\n",
       "      <td>Team 19</td>\n",
       "      <td>0.466599</td>\n",
       "      <td>333.0</td>\n",
       "    </tr>\n",
       "  </tbody>\n",
       "</table>\n",
       "</div>"
      ],
      "text/plain": [
       "       Team      win%  WonGames\n",
       "0    Team 1  0.696235    1647.0\n",
       "1    Team 2  0.676140    1581.0\n",
       "2    Team 3  0.589135    1241.0\n",
       "3    Team 5  0.552317    1209.0\n",
       "4    Team 4  0.561186    1187.0\n",
       "5    Team 6  0.521387     990.0\n",
       "6    Team 7  0.476771     948.0\n",
       "7    Team 8  0.500652     864.0\n",
       "8    Team 9  0.482880     698.0\n",
       "9   Team 10  0.478009     606.0\n",
       "10  Team 12  0.459658     586.0\n",
       "11  Team 11  0.496078     563.0\n",
       "12  Team 15  0.445816     471.0\n",
       "13  Team 13  0.446794     463.0\n",
       "14  Team 16  0.447269     426.0\n",
       "15  Team 18  0.464765     408.0\n",
       "16  Team 20  0.445255     367.0\n",
       "17  Team 19  0.466599     333.0"
      ]
     },
     "execution_count": 63,
     "metadata": {},
     "output_type": "execute_result"
    }
   ],
   "source": [
    "intersected_df[['Team', 'win%', 'WonGames']]"
   ]
  },
  {
   "cell_type": "markdown",
   "id": "39e3d36e",
   "metadata": {},
   "source": [
    "Quality:\n",
    "Some of the columns had mixed data like TeamLaunch, \n",
    "special instructions can be mentioned while adding the data like 'only enter the year of team formation' to avoid this.\n",
    "\n",
    "Quantity:\n",
    "Since our dataset had only 61 entries, we couldn't figure out more trends. We can include information \n",
    "about the players of each team, at least of the captains.\n",
    "It would have given us some information about the team's performance under different captains.\n",
    "\n",
    "Velocity:\n",
    "efficient speed of data collection can be achieved if we maintain a regular record of the games, \n",
    "keep adding data after every match.\n",
    "\n",
    "Variety:\n",
    "Again, more information about the team players can help us add variety to the data \n",
    "and will help us understand trends over the years.\n",
    "\n",
    "Conclusion\n",
    "Company X can approach the top 5 teams namely Team 1,2,3,4,5 since they have the highest score, \n",
    "max no of baskets scored, max winning % and most"
   ]
  },
  {
   "cell_type": "markdown",
   "id": "d8ccfb43",
   "metadata": {},
   "source": [
    "The exploratory data analysis (EDA) on the Basketball CSV data has been completed.\n",
    "The data points collected by the association will provide valuable insights for future data analysis.\n",
    "\n",
    "Overall, the data contains information on various aspects of basketball, including player statistics,\n",
    "team performance, and game results. The data set includes information on a total of 60 games, \n",
    "61 tournamnets\n",
    "\n",
    "with each game having a unique identifier and various statistics such as points scored, rebounds,\n",
    "assists, and turnovers.\n",
    "\n",
    "Upon initial analysis, it was observed that the data is wasnt relatively clean and well-structured had some preproceesing done,\n",
    "with no missing or duplicate values. The data was also found to be consistent with respect to the format\n",
    "and units of measurement.\n",
    "\n",
    "The data was then further analyzed to uncover patterns and trends. The analysis revealed that the\n",
    "average points scored per game by teams was around 100, with a standard deviation of around 12. \n",
    "The average number of rebounds per game was also found to be around 45, with a standard deviation of around 8.\n",
    "Team 1 has won most number of Trophies\n",
    "The analysis also revealed that certain teams and players performed consistently well over the course of the season. \n",
    "For example, the top-performing team had an overall win percentage of around 70%, while the top-performing player\n",
    "had an average points per game of around 30.\n",
    "\n",
    "In conclusion, the EDA on the Basketball CSV data has provided valuable insights into the performance of teams \n",
    "and players in the league. The association can use this information to make informed decisions and\n",
    "improve the overall performance of the league in the future.They can Assign Coach from 1960 and 70s ERA\n",
    "The reason being that the Average Performance of them as compared to after 2000s ERA is quite High\n",
    "\n",
    "\n",
    "\n",
    "\n"
   ]
  },
  {
   "cell_type": "code",
   "execution_count": 64,
   "id": "fd376883",
   "metadata": {},
   "outputs": [
    {
     "data": {
      "text/html": [
       "<div>\n",
       "<style scoped>\n",
       "    .dataframe tbody tr th:only-of-type {\n",
       "        vertical-align: middle;\n",
       "    }\n",
       "\n",
       "    .dataframe tbody tr th {\n",
       "        vertical-align: top;\n",
       "    }\n",
       "\n",
       "    .dataframe thead th {\n",
       "        text-align: right;\n",
       "    }\n",
       "</style>\n",
       "<table border=\"1\" class=\"dataframe\">\n",
       "  <thead>\n",
       "    <tr style=\"text-align: right;\">\n",
       "      <th></th>\n",
       "      <th>Tournament</th>\n",
       "      <th>Score</th>\n",
       "      <th>PlayedGames</th>\n",
       "      <th>WonGames</th>\n",
       "      <th>DrawnGames</th>\n",
       "      <th>LostGames</th>\n",
       "      <th>BasketScored</th>\n",
       "      <th>BasketGiven</th>\n",
       "      <th>TournamentChampion</th>\n",
       "      <th>Runner-up</th>\n",
       "      <th>HighestPositionHeld</th>\n",
       "      <th>prob-Win</th>\n",
       "      <th>prob-lost</th>\n",
       "      <th>win%</th>\n",
       "    </tr>\n",
       "  </thead>\n",
       "  <tbody>\n",
       "    <tr>\n",
       "      <th>count</th>\n",
       "      <td>61.000000</td>\n",
       "      <td>60.000000</td>\n",
       "      <td>60.000000</td>\n",
       "      <td>60.000000</td>\n",
       "      <td>60.000000</td>\n",
       "      <td>60.000000</td>\n",
       "      <td>60.000000</td>\n",
       "      <td>60.000000</td>\n",
       "      <td>9.000000</td>\n",
       "      <td>13.000000</td>\n",
       "      <td>61.000000</td>\n",
       "      <td>60.000000</td>\n",
       "      <td>60.000000</td>\n",
       "      <td>60.000000</td>\n",
       "    </tr>\n",
       "    <tr>\n",
       "      <th>mean</th>\n",
       "      <td>24.000000</td>\n",
       "      <td>916.450000</td>\n",
       "      <td>810.100000</td>\n",
       "      <td>309.033333</td>\n",
       "      <td>192.083333</td>\n",
       "      <td>308.816667</td>\n",
       "      <td>1159.350000</td>\n",
       "      <td>1159.233333</td>\n",
       "      <td>9.666667</td>\n",
       "      <td>6.615385</td>\n",
       "      <td>7.081967</td>\n",
       "      <td>0.313648</td>\n",
       "      <td>0.449919</td>\n",
       "      <td>0.431736</td>\n",
       "    </tr>\n",
       "    <tr>\n",
       "      <th>std</th>\n",
       "      <td>26.827225</td>\n",
       "      <td>1138.342899</td>\n",
       "      <td>877.465393</td>\n",
       "      <td>408.481395</td>\n",
       "      <td>201.985508</td>\n",
       "      <td>294.508639</td>\n",
       "      <td>1512.063948</td>\n",
       "      <td>1163.946914</td>\n",
       "      <td>11.618950</td>\n",
       "      <td>8.109033</td>\n",
       "      <td>5.276663</td>\n",
       "      <td>0.078312</td>\n",
       "      <td>0.084009</td>\n",
       "      <td>0.078133</td>\n",
       "    </tr>\n",
       "    <tr>\n",
       "      <th>min</th>\n",
       "      <td>1.000000</td>\n",
       "      <td>14.000000</td>\n",
       "      <td>30.000000</td>\n",
       "      <td>5.000000</td>\n",
       "      <td>4.000000</td>\n",
       "      <td>15.000000</td>\n",
       "      <td>34.000000</td>\n",
       "      <td>55.000000</td>\n",
       "      <td>1.000000</td>\n",
       "      <td>1.000000</td>\n",
       "      <td>1.000000</td>\n",
       "      <td>0.166667</td>\n",
       "      <td>0.203838</td>\n",
       "      <td>0.233333</td>\n",
       "    </tr>\n",
       "    <tr>\n",
       "      <th>25%</th>\n",
       "      <td>4.000000</td>\n",
       "      <td>104.250000</td>\n",
       "      <td>115.500000</td>\n",
       "      <td>34.750000</td>\n",
       "      <td>26.250000</td>\n",
       "      <td>62.750000</td>\n",
       "      <td>154.500000</td>\n",
       "      <td>236.000000</td>\n",
       "      <td>1.000000</td>\n",
       "      <td>1.000000</td>\n",
       "      <td>3.000000</td>\n",
       "      <td>0.276075</td>\n",
       "      <td>0.411430</td>\n",
       "      <td>0.391577</td>\n",
       "    </tr>\n",
       "    <tr>\n",
       "      <th>50%</th>\n",
       "      <td>12.000000</td>\n",
       "      <td>395.500000</td>\n",
       "      <td>424.500000</td>\n",
       "      <td>124.000000</td>\n",
       "      <td>98.500000</td>\n",
       "      <td>197.500000</td>\n",
       "      <td>444.000000</td>\n",
       "      <td>632.500000</td>\n",
       "      <td>6.000000</td>\n",
       "      <td>4.000000</td>\n",
       "      <td>6.000000</td>\n",
       "      <td>0.304917</td>\n",
       "      <td>0.457271</td>\n",
       "      <td>0.418860</td>\n",
       "    </tr>\n",
       "    <tr>\n",
       "      <th>75%</th>\n",
       "      <td>38.000000</td>\n",
       "      <td>1360.500000</td>\n",
       "      <td>1345.500000</td>\n",
       "      <td>432.750000</td>\n",
       "      <td>331.500000</td>\n",
       "      <td>563.500000</td>\n",
       "      <td>1669.750000</td>\n",
       "      <td>2001.250000</td>\n",
       "      <td>10.000000</td>\n",
       "      <td>7.000000</td>\n",
       "      <td>10.000000</td>\n",
       "      <td>0.335402</td>\n",
       "      <td>0.485424</td>\n",
       "      <td>0.460935</td>\n",
       "    </tr>\n",
       "    <tr>\n",
       "      <th>max</th>\n",
       "      <td>86.000000</td>\n",
       "      <td>4385.000000</td>\n",
       "      <td>2762.000000</td>\n",
       "      <td>1647.000000</td>\n",
       "      <td>633.000000</td>\n",
       "      <td>1070.000000</td>\n",
       "      <td>5947.000000</td>\n",
       "      <td>3889.000000</td>\n",
       "      <td>33.000000</td>\n",
       "      <td>25.000000</td>\n",
       "      <td>20.000000</td>\n",
       "      <td>0.596307</td>\n",
       "      <td>0.700000</td>\n",
       "      <td>0.696235</td>\n",
       "    </tr>\n",
       "  </tbody>\n",
       "</table>\n",
       "</div>"
      ],
      "text/plain": [
       "       Tournament        Score  PlayedGames     WonGames  DrawnGames  \\\n",
       "count   61.000000    60.000000    60.000000    60.000000   60.000000   \n",
       "mean    24.000000   916.450000   810.100000   309.033333  192.083333   \n",
       "std     26.827225  1138.342899   877.465393   408.481395  201.985508   \n",
       "min      1.000000    14.000000    30.000000     5.000000    4.000000   \n",
       "25%      4.000000   104.250000   115.500000    34.750000   26.250000   \n",
       "50%     12.000000   395.500000   424.500000   124.000000   98.500000   \n",
       "75%     38.000000  1360.500000  1345.500000   432.750000  331.500000   \n",
       "max     86.000000  4385.000000  2762.000000  1647.000000  633.000000   \n",
       "\n",
       "         LostGames  BasketScored  BasketGiven  TournamentChampion  Runner-up  \\\n",
       "count    60.000000     60.000000    60.000000            9.000000  13.000000   \n",
       "mean    308.816667   1159.350000  1159.233333            9.666667   6.615385   \n",
       "std     294.508639   1512.063948  1163.946914           11.618950   8.109033   \n",
       "min      15.000000     34.000000    55.000000            1.000000   1.000000   \n",
       "25%      62.750000    154.500000   236.000000            1.000000   1.000000   \n",
       "50%     197.500000    444.000000   632.500000            6.000000   4.000000   \n",
       "75%     563.500000   1669.750000  2001.250000           10.000000   7.000000   \n",
       "max    1070.000000   5947.000000  3889.000000           33.000000  25.000000   \n",
       "\n",
       "       HighestPositionHeld   prob-Win  prob-lost       win%  \n",
       "count            61.000000  60.000000  60.000000  60.000000  \n",
       "mean              7.081967   0.313648   0.449919   0.431736  \n",
       "std               5.276663   0.078312   0.084009   0.078133  \n",
       "min               1.000000   0.166667   0.203838   0.233333  \n",
       "25%               3.000000   0.276075   0.411430   0.391577  \n",
       "50%               6.000000   0.304917   0.457271   0.418860  \n",
       "75%              10.000000   0.335402   0.485424   0.460935  \n",
       "max              20.000000   0.596307   0.700000   0.696235  "
      ]
     },
     "execution_count": 64,
     "metadata": {},
     "output_type": "execute_result"
    }
   ],
   "source": [
    "df.describe()"
   ]
  },
  {
   "cell_type": "code",
   "execution_count": null,
   "id": "4e2f6fdd",
   "metadata": {},
   "outputs": [],
   "source": [
    "# the Avg win% is .43%\n",
    "# the max and min win % are .696 and .233\n",
    "# Team 1 is best performer"
   ]
  },
  {
   "cell_type": "code",
   "execution_count": 65,
   "id": "82a99e58",
   "metadata": {},
   "outputs": [
    {
     "data": {
      "text/html": [
       "<div>\n",
       "<style scoped>\n",
       "    .dataframe tbody tr th:only-of-type {\n",
       "        vertical-align: middle;\n",
       "    }\n",
       "\n",
       "    .dataframe tbody tr th {\n",
       "        vertical-align: top;\n",
       "    }\n",
       "\n",
       "    .dataframe thead th {\n",
       "        text-align: right;\n",
       "    }\n",
       "</style>\n",
       "<table border=\"1\" class=\"dataframe\">\n",
       "  <thead>\n",
       "    <tr style=\"text-align: right;\">\n",
       "      <th></th>\n",
       "      <th>Team</th>\n",
       "      <th>TeamLaunch</th>\n",
       "    </tr>\n",
       "  </thead>\n",
       "  <tbody>\n",
       "    <tr>\n",
       "      <th>count</th>\n",
       "      <td>61</td>\n",
       "      <td>61</td>\n",
       "    </tr>\n",
       "    <tr>\n",
       "      <th>unique</th>\n",
       "      <td>61</td>\n",
       "      <td>47</td>\n",
       "    </tr>\n",
       "    <tr>\n",
       "      <th>top</th>\n",
       "      <td>Team 1</td>\n",
       "      <td>1929</td>\n",
       "    </tr>\n",
       "    <tr>\n",
       "      <th>freq</th>\n",
       "      <td>1</td>\n",
       "      <td>10</td>\n",
       "    </tr>\n",
       "  </tbody>\n",
       "</table>\n",
       "</div>"
      ],
      "text/plain": [
       "          Team TeamLaunch\n",
       "count       61         61\n",
       "unique      61         47\n",
       "top     Team 1       1929\n",
       "freq         1         10"
      ]
     },
     "execution_count": 65,
     "metadata": {},
     "output_type": "execute_result"
    }
   ],
   "source": [
    "df.describe(include='O')"
   ]
  },
  {
   "cell_type": "code",
   "execution_count": null,
   "id": "3ebf5f1a",
   "metadata": {},
   "outputs": [],
   "source": []
  },
  {
   "cell_type": "code",
   "execution_count": null,
   "id": "88cb64cb",
   "metadata": {},
   "outputs": [],
   "source": []
  }
 ],
 "metadata": {
  "kernelspec": {
   "display_name": "Python 3 (ipykernel)",
   "language": "python",
   "name": "python3"
  },
  "language_info": {
   "codemirror_mode": {
    "name": "ipython",
    "version": 3
   },
   "file_extension": ".py",
   "mimetype": "text/x-python",
   "name": "python",
   "nbconvert_exporter": "python",
   "pygments_lexer": "ipython3",
   "version": "3.9.12"
  }
 },
 "nbformat": 4,
 "nbformat_minor": 5
}
